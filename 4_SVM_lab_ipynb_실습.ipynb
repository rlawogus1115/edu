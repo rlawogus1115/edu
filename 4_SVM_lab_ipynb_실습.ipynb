{
  "nbformat": 4,
  "nbformat_minor": 0,
  "metadata": {
    "kernelspec": {
      "display_name": "Python 3",
      "language": "python",
      "name": "python3"
    },
    "language_info": {
      "codemirror_mode": {
        "name": "ipython",
        "version": 3
      },
      "file_extension": ".py",
      "mimetype": "text/x-python",
      "name": "python",
      "nbconvert_exporter": "python",
      "pygments_lexer": "ipython3",
      "version": "3.7.6"
    },
    "colab": {
      "name": "4.SVM_lab.ipynb 실습",
      "provenance": [],
      "collapsed_sections": [],
      "include_colab_link": true
    }
  },
  "cells": [
    {
      "cell_type": "markdown",
      "metadata": {
        "id": "view-in-github",
        "colab_type": "text"
      },
      "source": [
        "<a href=\"https://colab.research.google.com/github/rlawogus1115/test/blob/main/4_SVM_lab_ipynb_%EC%8B%A4%EC%8A%B5.ipynb\" target=\"_parent\"><img src=\"https://colab.research.google.com/assets/colab-badge.svg\" alt=\"Open In Colab\"/></a>"
      ]
    },
    {
      "cell_type": "markdown",
      "metadata": {
        "id": "mgHFgXKrDKwJ"
      },
      "source": [
        "<h1>SVM</h1>"
      ]
    },
    {
      "cell_type": "markdown",
      "source": [
        "# module import"
      ],
      "metadata": {
        "id": "7uyNk4lfL746"
      }
    },
    {
      "cell_type": "code",
      "source": [
        "import numpy as np, cv2\n",
        "import matplotlib.pyplot as plt\n",
        "from sklearn.model_selection import train_test_split, GridSearchCV, KFold\n",
        "from sklearn.preprocessing import StandardScaler, MinMaxScaler\n",
        "from sklearn.datasets import make_classification, make_blobs, load_digits, load_boston\n",
        "from sklearn.metrics import accuracy_score, r2_score, mean_absolute_error, mean_squared_error"
      ],
      "metadata": {
        "id": "V5OJaTaNL-oK"
      },
      "execution_count": null,
      "outputs": []
    },
    {
      "cell_type": "markdown",
      "metadata": {
        "id": "QL01aEc5DKwO"
      },
      "source": [
        "# Support Vector Machine Classifier\n",
        "* 선형 지도 학습 분류 알고리즘\n",
        "* 다차원 공간에서 두 집단을 분리하는 초평면(hyperplane)인 결정면을 탐색\n",
        "* p차원 공간에서 결정면은 p-1차원\n",
        "* 두 집단을 분리하는 여러 초평면 중에 두 집단의 간격이  초대화되는 초평면 선택\n",
        "* 마진(Margin) :두 집단이 서로 가장 가까이 위치한 점\n",
        "* Support Vector : 마진의 경계선에 있는 샘플\n",
        "* 결정 평면 : 두 집단을 분할 하는 기준, 마진의 중앙\n",
        "  * $WX + b = 0$ : decision boundary\n",
        "  * $WX + b > 0$ : Positive Class\n",
        "  * $WX + b < 0$ : Negative Class\n",
        "* ![image.png](https://i.imgur.com/uKvmU3k.png)\n",
        "* SVM은 마진이 최대가 되는 서포트 벡터를 찾고, 그 마진을 이등분하는 결정면을 찾는 최적화 문제\n",
        "  * 오차의 최소를 찾는 뿐 아니라 일반화 성능을 최대화 하는 것을 목표표"
      ]
    },
    {
      "cell_type": "markdown",
      "source": [
        "* Linear Model : $wx+b=0$\n",
        "  * $wx^+ + b =1$ : plus-plane\n",
        "  * $wx^- + b =-1$ : minus-plane\n",
        "  * $x^+ = x^- + \\lambda w$ : 평행 이동\n",
        "  * $w(x^- +\\lambda w) + b = 1$\n",
        "  * $wx^-+b+ \\lambda w^2  = 1$\n",
        "  * $-1 + \\lambda w^2 = 1$\n",
        "  * $ \\lambda =  \\frac{2}{w^2} = \\frac{2}{w^Tw}$\n",
        "* $margin = distance(x^+, x^-) = \\frac{2}{||w||_2}$\n",
        "  * $distance(x^+, x^-) = ||x^+ - x^-||_2$\n",
        "  * $ = ||(x^- + \\lambda w) - x^- ||_2$\n",
        "  * $= ||\\lambda w||_2$\n",
        "  * $ = \\lambda \\sqrt{w^Tw}$\n",
        "  * $= \\frac{2}{w^Tw}\\sqrt{w^Tw} $\n",
        "  * $= \\frac{2}{\\sqrt{w^Tw}}$\n",
        "  * $= \\frac{2}{||w||_2}$\n",
        "* 목적식 : $ \\text{maximize} \\frac{2}{||w||_2} = \\text{minimize} \\frac{1}{2}||w||_2 \\iff \\text{minimize} \\frac{1}{2}||w||_2^2$\n",
        "  * 계산의 편의를 위한 제곱\n",
        "* 제약식 :$y_i(wx_i + b) \\ge 1$\n",
        "  * $\\begin{cases}\n",
        "      wx_i +b \\ge 1 & \\text{if } y_i = 1  \\\\\n",
        "      wx_i +b \\lt -1 & \\text{if } y_i = -1  \n",
        "  \\end{cases}$\n",
        "  * Support Vector : $y_i(wx_i + b)= 1$ \n",
        "\n",
        "* Hinge Loss\n",
        "  * $l = max(0, 1-y_i(wx_i+b)$\n",
        "* Loss 함수\n",
        "  * $loss = \\frac{1}{2}||w||^2_2\\lambda + \\sum max(0, 1-y_i(wx_i+b)) $\n",
        "  * $\\text{if } y_i(w_i x_i + b) \\ge 1$\n",
        "    * $ \\frac{1}{2}||w||^2_2 \\lambda$\n",
        "  * $\\text{if } y_i(w_i x_i + b) \\lt 1 $\n",
        "    * $ \\frac{1}{2}||w||^2_2 \\lambda+ 1-y_i(wx_i+b)$\n",
        "\n",
        "* Gradients\n",
        "  * $\\text{if } y_i(w_i x_i + b) \\ge 1$\n",
        "    * $\\frac{\\partial loss}{\\partial w} = \\lambda w $\n",
        "    * $\\frac{\\partial loss}{\\partial b} = 0$\n",
        "  * $\\text{if } y_i(w_i x_i + b) \\lt 1 $\n",
        "    * $\\frac{\\partial loss}{\\partial w} =  \\lambda w -y_ix_i$\n",
        "    * $\\frac{\\partial loss}{\\partial b} = -y_i$\n"
      ],
      "metadata": {
        "id": "uvF4BeYJ-66P"
      }
    },
    {
      "cell_type": "code",
      "source": [
        "x = np.arange(-3, 4, 0.1)\n",
        "hinge = np.maximum(0, 1-x)\n",
        "plt.plot(x, hinge, 'r')\n",
        "plt.xlabel('$(y * \\haty)$')\n",
        "plt.ylabel('hinge loss')\n",
        "plt.ylim(-1, 4)\n",
        "plt.xlim(-3, 3)"
      ],
      "metadata": {
        "colab": {
          "base_uri": "https://localhost:8080/",
          "height": 308
        },
        "id": "oTq-6kZbXGU4",
        "outputId": "4c46a9cf-0739-40c9-f8bb-a6a9a531f9cf"
      },
      "execution_count": null,
      "outputs": [
        {
          "output_type": "execute_result",
          "data": {
            "text/plain": [
              "(-3.0, 3.0)"
            ]
          },
          "metadata": {},
          "execution_count": 2
        },
        {
          "output_type": "display_data",
          "data": {
            "text/plain": [
              "<Figure size 432x288 with 1 Axes>"
            ],
            "image/png": "[encoded data removed]"
          },
          "metadata": {
            "needs_background": "light"
          }
        }
      ]
    },
    {
      "cell_type": "code",
      "source": [
        "class SVM:\n",
        "    def __init__(self, learning_rate=0.001, lambda_param=0.01, n_iters=1000):\n",
        "        self.lr = learning_rate\n",
        "        self.lambda_param = lambda_param\n",
        "        self.n_iters = n_iters\n",
        "\n",
        "    def fit(self, X, y):\n",
        "        n_samples, n_features = X.shape\n",
        "        self.w = np.zeros(n_features)\n",
        "        self.b = 0\n",
        "        for _ in range(self.n_iters):\n",
        "            for x_i, y_i in zip(X, y):\n",
        "                condition = y_i * (np.dot(x_i, self.w) + self.b) >= 1\n",
        "                if condition:\n",
        "                    self.w -= self.lr * (self.lambda_param * self.w)\n",
        "                else:\n",
        "                    self.w -= self.lr * (\n",
        "                       self.lambda_param * self.w - np.dot(x_i, y_i)\n",
        "                    )\n",
        "                    self.b -= self.lr * -y_i\n",
        "\n",
        "    def decision_function(self, X):\n",
        "      confedence = np.dot(X, self.w) + self.b\n",
        "      return confedence\n",
        "\n",
        "    def predict(self, X):\n",
        "        cfdc = self.decision_function(X)\n",
        "        return np.sign(cfdc)"
      ],
      "metadata": {
        "id": "IR66US2g1KGW"
      },
      "execution_count": null,
      "outputs": []
    },
    {
      "cell_type": "markdown",
      "source": [
        "## 결정경계 그리기 함수\n",
        "* 결정경계 : $wx +b=0$\n",
        "  * 변수가 2개인 식 : $w_0x_0+w_1x_1+b=0$ \n",
        "* 2차원 평면에 표현하기 위한 변형\n",
        "  * $x, y = x_0, x_1$\n",
        "  * $x_0$은 표본 전체 값으로 고정\n",
        "  * $x_1 = (-w_0x_0 - b) / w_1$\n",
        "    * $w_0x_0+w_1x_1+b=0$ \n",
        "    * $w_1x_1 = -w_0x_0- b$"
      ],
      "metadata": {
        "id": "EKJH5dUqDHDA"
      }
    },
    {
      "cell_type": "code",
      "source": [
        "def plot_svm(X, w, b, sv=None):\n",
        "    xmin, xmax = np.min(X[:,0]), np.max(X[:,0])\n",
        "    x0 = np.linspace(xmin, xmax, 200)\n",
        "    x1 = (-w[0]*x0-b)/w[1]\n",
        "    \n",
        "    margin = 1/w[1] \n",
        "    gutter_up = x1 + margin\n",
        "    gutter_down = x1 - margin\n",
        "    if sv is not None:\n",
        "      plt.scatter(sv[:, 0], sv[:, 1], s=180, facecolors='#FFAAAA',\n",
        "                edgecolors='K', alpha=0.5)\n",
        "    plt.plot(x0, x1, \"g-\", linewidth=2)\n",
        "    plt.plot(x0, gutter_up, \"g--\", linewidth=2)\n",
        "    plt.plot(x0, gutter_down, \"g--\", linewidth=2)"
      ],
      "metadata": {
        "id": "ujMU4QL9DGtC"
      },
      "execution_count": null,
      "outputs": []
    },
    {
      "cell_type": "code",
      "source": [
        "X, y = make_blobs(\n",
        "    n_samples=50, n_features=2, centers=2, cluster_std=1.05, random_state=40\n",
        ")\n",
        "y = np.where(y == 0, -1, 1)\n",
        "plt.scatter(X[y==1,0], X[y==1,1], marker='o', c='red')\n",
        "plt.scatter(X[y==-1,0], X[y==-1,1], marker='o', c='blue')\n",
        "\n",
        "clf = SVM()\n",
        "clf.fit(X,y)\n",
        "y_cfdc = clf.decision_function(X)\n",
        "print(y_cfdc)\n",
        "y_pred = clf.predict(X)\n",
        "print(y_pred)\n",
        "acc = accuracy_score(y,y_pred)\n",
        "print(acc)\n",
        "\n",
        "sv_index = np.where(abs(y_cfdc) <= 1.1)\n",
        "print(sv_index)\n",
        "sv = X[sv_index]\n",
        "plot_svm(X,clf.w, clf.b, sv)\n",
        "plt.ylim(-11,-2)"
      ],
      "metadata": {
        "colab": {
          "base_uri": "https://localhost:8080/",
          "height": 543
        },
        "id": "h__plJSGYVcL",
        "outputId": "31e55750-0971-4657-f0bf-585d1f74c8fe"
      },
      "execution_count": null,
      "outputs": [
        {
          "output_type": "stream",
          "name": "stdout",
          "text": [
            "[ 3.60995109  3.69188306 -1.90205149  1.65057438 -2.58194667 -2.89827124\n",
            "  2.00076298 -1.62162096  2.11289647 -2.41886658  3.70087712  2.45024881\n",
            " -2.57186861  2.27766843  3.31920259  4.12590421  2.97862868  2.69606787\n",
            "  2.92905696  3.38121138 -3.34472224 -2.00980958 -3.15991751 -2.28969803\n",
            " -2.33655605 -3.78707562 -3.15259856 -1.00913414 -1.70198021 -2.46016926\n",
            "  3.37934944  2.12499161 -2.14451214 -1.7910368   1.6968459  -3.53836859\n",
            "  2.6813113  -3.2056256   1.72421417  3.20153389 -2.7236813  -2.58599156\n",
            "  1.01238267  2.53376875  3.15515669 -2.72721078 -3.34972988  3.3106889\n",
            "  3.83018941 -2.52635477]\n",
            "[ 1.  1. -1.  1. -1. -1.  1. -1.  1. -1.  1.  1. -1.  1.  1.  1.  1.  1.\n",
            "  1.  1. -1. -1. -1. -1. -1. -1. -1. -1. -1. -1.  1.  1. -1. -1.  1. -1.\n",
            "  1. -1.  1.  1. -1. -1.  1.  1.  1. -1. -1.  1.  1. -1.]\n",
            "1.0\n",
            "(array([27, 42]),)\n"
          ]
        },
        {
          "output_type": "execute_result",
          "data": {
            "text/plain": [
              "(-11.0, -2.0)"
            ]
          },
          "metadata": {},
          "execution_count": 32
        },
        {
          "output_type": "display_data",
          "data": {
            "text/plain": [
              "<Figure size 432x288 with 1 Axes>"
            ],
            "image/png": "[encoded data removed]"
          },
          "metadata": {
            "needs_background": "light"
          }
        }
      ]
    },
    {
      "cell_type": "markdown",
      "metadata": {
        "collapsed": true,
        "id": "91exK4oTDKwP"
      },
      "source": [
        "## 랜덤수 분류 예제"
      ]
    },
    {
      "cell_type": "code",
      "source": [
        "from sklearn.svm import LinearSVC\n",
        "\n",
        "X, y = make_blobs(\n",
        "    n_samples=50, n_features=2, centers=2, cluster_std=1.05, random_state=40\n",
        ")\n",
        "plt.scatter(X[y==0,0],X[y==0,1],80,'b','o')\n",
        "plt.scatter(X[y==1,0],X[y==1,1],80,'r','s')\n",
        "\n",
        "svc = LinearSVC()\n",
        "svc.fit(X,y)\n",
        "print(svc.coef_, svc.intercept_)\n",
        "\n",
        "cfdc = svc.decision_function(X)\n",
        "sv = X[np.abs(cfdc)<=1]\n",
        "plot_svm(X,svc.coef_[0],svc.intercept_[0],sv)\n",
        "plt.ylim(-13,-0)\n",
        "print('acc:',svc.predict(X))\n"
      ],
      "metadata": {
        "colab": {
          "base_uri": "https://localhost:8080/",
          "height": 324
        },
        "id": "N30QocVqLM7C",
        "outputId": "ff509ec4-6a0a-49ad-f5b0-14712cc6024a"
      },
      "execution_count": null,
      "outputs": [
        {
          "output_type": "stream",
          "name": "stdout",
          "text": [
            "[[0.53677131 0.1581441 ]] [0.09024352]\n",
            "acc: [1 1 0 1 0 0 1 0 1 0 1 1 0 1 1 1 1 1 1 1 0 0 0 0 0 0 0 0 0 0 1 1 0 0 1 0 1\n",
            " 0 1 1 0 0 1 1 1 0 0 1 1 0]\n"
          ]
        },
        {
          "output_type": "display_data",
          "data": {
            "text/plain": [
              "<Figure size 432x288 with 1 Axes>"
            ],
            "image/png": "[encoded data removed]"
          },
          "metadata": {
            "needs_background": "light"
          }
        }
      ]
    },
    {
      "cell_type": "markdown",
      "metadata": {
        "id": "AzkIPtAEDKwR"
      },
      "source": [
        "# 소프트 마진 분류\n",
        "* 하드 마진 분류(hard margin classification)\n",
        "    * 모든 데이터가 마진밖에 있는 경우\n",
        "    * 샘플에 이상치가 있으면 일반화 오류 발생\n",
        "* 소프트 마진 분류(Soft margin classification)\n",
        "  * $\\text{minimize} \\frac{1}{2}||w||_2^2 + C\\sum\\xi_i$\n",
        "\n",
        "  * C 하이퍼 파라미터 사용\n",
        "    * 마진오류 허용 : 경계 마진 안에 샘플 위치\n",
        "  * C 값이 작으면 일반화\n",
        "  * C 값이 커지면 과대 적합\n",
        "\n",
        "![image.png](https://i.imgur.com/6wYsjb8.png)    "
      ]
    },
    {
      "cell_type": "code",
      "metadata": {
        "colab": {
          "base_uri": "https://localhost:8080/",
          "height": 585
        },
        "id": "RfOkb_iODKwR",
        "outputId": "1334b986-a562-427e-cedf-095f1c8102d0"
      },
      "source": [
        "from sklearn.svm import LinearSVC, SVC\n",
        "np.random.seed(0)\n",
        "blue = np.random.randint(0,90,(25,2))\n",
        "red = np.random.randint(110, 200,(25,2))\n",
        "\n",
        "min_idx = np.argmin(red[:,0]+blue[:,1], axis=0)\n",
        "blue[0] = red[min_idx]-10 #이상치 생성\n",
        "newb = blue[0]-5\n",
        "\n",
        "X = np.float32(np.vstack((blue,red)))\n",
        "y = np.zeros(50)\n",
        "y[25:] = 1.0\n",
        "scaler = StandardScaler()\n",
        "X = scaler.fit_transform(X)\n",
        "newb = scaler.transform(newb.reshape(1,2))\n",
        "\n",
        "svc1 = LinearSVC(C=1)\n",
        "svc2 = LinearSVC(C=1000)\n",
        "\n",
        "for svc in [svc1,svc2]:\n",
        "  svc.fit(X,y)\n",
        "  y_pred  = svc.predict(newb)\n",
        "  plt.scatter(X[y==0,0],X[y==0,1],80,'b','o')\n",
        "  plt.scatter(X[y==1,0],X[y==1,1],80,'r','s')\n",
        "  plt.scatter(newb[:,0],newb[:,1],100,'g','*')\n",
        "  plot_svm(X,svc.coef_[0],svc.intercept_)\n",
        "  plt.annotate('red' if y_pred[0] == 1 else 'blue',xy=newb[0],xytext = (newb[0]-0.3))\n",
        "  plt.title(f'C={svc.C}',fontsize=16)\n",
        "  plt.show()\n",
        "  print(y_pred)"
      ],
      "execution_count": null,
      "outputs": [
        {
          "output_type": "display_data",
          "data": {
            "text/plain": [
              "<Figure size 432x288 with 1 Axes>"
            ],
            "image/png": "[encoded data removed]"
          },
          "metadata": {
            "needs_background": "light"
          }
        },
        {
          "output_type": "stream",
          "name": "stdout",
          "text": [
            "[1.]\n"
          ]
        },
        {
          "output_type": "display_data",
          "data": {
            "text/plain": [
              "<Figure size 432x288 with 1 Axes>"
            ],
            "image/png": "[encoded data removed]"
          },
          "metadata": {
            "needs_background": "light"
          }
        },
        {
          "output_type": "stream",
          "name": "stdout",
          "text": [
            "[0.]\n"
          ]
        }
      ]
    },
    {
      "cell_type": "markdown",
      "source": [
        "# Kernel Trick"
      ],
      "metadata": {
        "id": "09VCPgxsGESm"
      }
    },
    {
      "cell_type": "markdown",
      "metadata": {
        "id": "g2aq3m3uDKwS"
      },
      "source": [
        "## 비선형 및 다항식 커널\n",
        "* 다항식 특성 추가\n",
        " * 특성을 2차식으로 추가\n",
        " * $x_2 = (x_1)^2$\n",
        "![image.png](https://i.imgur.com/iuqFFdK.png)"
      ]
    },
    {
      "cell_type": "code",
      "metadata": {
        "colab": {
          "base_uri": "https://localhost:8080/",
          "height": 299
        },
        "id": "b94L6LFODKwS",
        "outputId": "affcbfd9-b78f-447e-f522-1b93d21af8ff"
      },
      "source": [
        "x = np.arange(10, dtype=np.float32)\n",
        "x -= np.mean(x, axis=0)\n",
        "x /= np.std(x, axis=0)\n",
        "\n",
        "plt.figure(figsize=(8,4))\n",
        "plt.subplot(1,2,1)\n",
        "plt.plot(x, 'ob')\n",
        "plt.plot(np.arange(3,7), x[3:7], 'sr')\n",
        "plt.title('non-liner model')\n",
        "\n",
        "x2 = (x**2)\n",
        "plt.subplot(1,2,2)\n",
        "plt.plot(x,x2, 'ob')\n",
        "plt.plot(x[3:7], x2[3:7], 'sr')\n",
        "plt.title('polynomial')\n",
        "\n"
      ],
      "execution_count": null,
      "outputs": [
        {
          "output_type": "execute_result",
          "data": {
            "text/plain": [
              "Text(0.5, 1.0, 'polynomial')"
            ]
          },
          "metadata": {},
          "execution_count": 70
        },
        {
          "output_type": "display_data",
          "data": {
            "image/png": "[encoded data removed]",
            "text/plain": [
              "<Figure size 576x288 with 2 Axes>"
            ]
          },
          "metadata": {
            "needs_background": "light"
          }
        }
      ]
    },
    {
      "cell_type": "markdown",
      "metadata": {
        "id": "sIjCtALQDKwS"
      },
      "source": [
        "## 커널 함수\n",
        "* 차원에 따른 변환을 하지 않고 커널 함수로 새로운 거리 값을 계산\n",
        "    * 실제로는 아무 특성도 추가하지 않으면서 차원을 변환한 효과\n",
        "    \n",
        "* `sklean.svm.SVC(kernel='rbf', gamma=5, C=0.001)`\n",
        "    * 가우시안 RBF 커널 트릭 사용\n",
        "    * 다항식 커널 트릭 사용\n",
        "    * degree :  다항식 차수\n",
        "    * coef0=0 : 다항식 커널의 상수항\n",
        "    * 차수가 높아 지면 1보다 크고 작은 값의 격차가 커짐\n",
        "    * 고차항의 영향 조절\n",
        "\n",
        "* kernel\n",
        " * linear\n",
        "   * $K(x_i, x_j)= x_ix_j$\n",
        "   * `SVC(kernel='liner')`\n",
        "  * polynomial\n",
        "      * $K(x_i, x_j) = (\\gamma(x_i, x_j) + r)^d$\n",
        "        *  $d$ =degree\n",
        "        * $\\gamma$ =coef0 로 전달\n",
        "      * `SVC(kernel='ploy', degree=3, coef0=1, C=5)`\n",
        "          * degree : 다항식 차수\n",
        "          * coef0=0 : 다항식 커널의 상수항 $r$, 차수가 높아지면 1보다 크고 작은 값의 격차가 커짐, 고차항의 영향 조절\n",
        "  * rbf : (Gausian radial basis function)\n",
        "      * $K(x_i, x_j) = exp(\\gamma||x_i-x_j||^2)$\n",
        "          * $\\gamma$=gamma > 0, 작아 질수록 마진이 커진다.\n",
        "      * `SCV(kernel='rbf', gamma=5, C=0.001)`\n",
        "  * sigmoid \n",
        "    * $K(x_i, x_j) = (tanh(\\gamma(x_i, x_j) + r))$\n",
        "      * $r$은 coef0로 전달\n",
        "    * `SVC(kernel='sigmoid')`"
      ]
    },
    {
      "cell_type": "code",
      "source": [
        "digits = load_digits()\n",
        "X_train, X_test, y_train, y_test = train_test_split(digits.data, digits.target,\\\n",
        "                                                    random_state=0)\n",
        "C = [4,5,6]\n",
        "gamma = np.arange(0.0001,0.0005, 0.0001)\n",
        "coef0= [5,6,7]\n",
        "parameters = [\n",
        "    {\"C\":C, \"kernel\":[\"linear\"]},\n",
        "    {'C':C, 'kernel':['poly'], 'degree':range(2,5), \"gamma\": gamma, 'coef0':coef0},\n",
        "    {\"C\":C, \"kernel\":[\"rbf\"], \"gamma\": gamma},\n",
        "    {\"C\":C, \"kernel\":[\"sigmoid\"], \"gamma\": gamma, 'coef0':coef0},\n",
        "]\n",
        "\n",
        "gcv = GridSearchCV(SVC(),param_grid = parameters, cv=5)\n",
        "gcv.fit(X_train,y_train)\n",
        "print(\"best params:\",gcv.best_params_)\n",
        "print('train acc:',gcv.score(X_train,y_train))\n",
        "print('test acc:', gcv.score(X_test,y_test))"
      ],
      "metadata": {
        "colab": {
          "base_uri": "https://localhost:8080/"
        },
        "id": "jkUC0-HBvHsk",
        "outputId": "dfc413f6-7d48-43b2-e6b3-dca5e9dedc00"
      },
      "execution_count": null,
      "outputs": [
        {
          "output_type": "stream",
          "name": "stdout",
          "text": [
            "best params: {'C': 5, 'gamma': 0.0004, 'kernel': 'rbf'}\n",
            "train acc: 0.9992576095025983\n",
            "test acc: 0.9911111111111112\n"
          ]
        }
      ]
    },
    {
      "cell_type": "markdown",
      "metadata": {
        "id": "qiJ0psG_dKpG"
      },
      "source": [
        "# SVR(Support Vector Regressor)\n",
        "* `sklearn.svm.SVR()`"
      ]
    },
    {
      "cell_type": "code",
      "source": [
        "boston = load_boston()"
      ],
      "metadata": {
        "id": "1jkzA_4x7_6L"
      },
      "execution_count": null,
      "outputs": []
    },
    {
      "cell_type": "code",
      "metadata": {
        "id": "7JxDmFcb7IHL",
        "colab": {
          "base_uri": "https://localhost:8080/"
        },
        "outputId": "bf36fb60-632d-46bd-b1b3-9987f4ae7a3c"
      },
      "source": [
        "from sklearn.svm import SVR\n",
        "\n",
        "X = StandardScaler().fit_transform(boston.data)\n",
        "X_train, X_test, y_train, y_test = train_test_split(X, boston.target,\n",
        "                                                    random_state=0)\n",
        "parameters = {\"C\":range(1250, 1270, 1),\n",
        "              \"kernel\": [\"rbf\"], \n",
        "              \"gamma\": np.arange(0.003, 0.005, 0.0001)}\n",
        "\n",
        "gcv = GridSearchCV(SVR(),param_grid = parameters)\n",
        "gcv.fit(X_train,y_train)\n",
        "\n",
        "print(\"best params:\",gcv.best_params_)\n",
        "print('train acc:',gcv.score(X_train,y_train))\n",
        "print('test acc:', gcv.score(X_test,y_test))\n"
      ],
      "execution_count": null,
      "outputs": [
        {
          "output_type": "stream",
          "name": "stdout",
          "text": [
            "best params: {'C': 1250, 'gamma': 0.003, 'kernel': 'rbf'}\n",
            "train acc: 0.9029754125651343\n",
            "test acc: 0.7467088723390694\n"
          ]
        }
      ]
    }
  ]
}