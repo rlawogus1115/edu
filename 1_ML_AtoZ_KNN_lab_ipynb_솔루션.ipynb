{
  "nbformat": 4,
  "nbformat_minor": 0,
  "metadata": {
    "kernelspec": {
      "display_name": "Python 3",
      "language": "python",
      "name": "python3"
    },
    "language_info": {
      "codemirror_mode": {
        "name": "ipython",
        "version": 3
      },
      "file_extension": ".py",
      "mimetype": "text/x-python",
      "name": "python",
      "nbconvert_exporter": "python",
      "pygments_lexer": "ipython3",
      "version": "3.8.1"
    },
    "colab": {
      "name": "1.ML_AtoZ_KNN_lab.ipynb 솔루션",
      "provenance": [],
      "collapsed_sections": [],
      "include_colab_link": true
    }
  },
  "cells": [
    {
      "cell_type": "markdown",
      "metadata": {
        "id": "view-in-github",
        "colab_type": "text"
      },
      "source": [
        "<a href=\"https://colab.research.google.com/github/rlawogus1115/test/blob/main/1_ML_AtoZ_KNN_lab_ipynb_%EC%86%94%EB%A3%A8%EC%85%98.ipynb\" target=\"_parent\"><img src=\"https://colab.research.google.com/assets/colab-badge.svg\" alt=\"Open In Colab\"/></a>"
      ]
    },
    {
      "cell_type": "markdown",
      "metadata": {
        "id": "2wsT1Yq2zyHa"
      },
      "source": [
        "<h1>Machine Learning A to Z with KNN</h1>"
      ]
    },
    {
      "cell_type": "markdown",
      "metadata": {
        "id": "4SpqKuibfW8m"
      },
      "source": [
        "# module import"
      ]
    },
    {
      "cell_type": "code",
      "metadata": {
        "id": "q6qfyC6FzdAZ"
      },
      "source": [
        "import numpy as np\n",
        "import pandas as pd\n",
        "import matplotlib.pyplot as plt\n",
        "import seaborn as sns\n",
        "import cv2\n",
        "import pickle\n",
        "from sklearn.neighbors import KNeighborsClassifier \n",
        "from sklearn.datasets import make_classification, load_iris, load_breast_cancer, load_digits\n",
        "from sklearn.preprocessing import LabelEncoder, StandardScaler, MinMaxScaler\n",
        "from sklearn.metrics import accuracy_score, confusion_matrix\n",
        "from sklearn.metrics import f1_score, classification_report,precision_score, recall_score\n",
        "from sklearn.metrics import auc, roc_curve, roc_auc_score\n",
        "from sklearn.model_selection import  train_test_split, KFold, StratifiedKFold, GridSearchCV\n",
        "from sklearn.model_selection import  cross_val_score, cross_validate\n",
        "from sklearn.pipeline import Pipeline"
      ],
      "execution_count": 1,
      "outputs": []
    },
    {
      "cell_type": "code",
      "source": [
        "from google.colab import drive\n",
        "drive.mount(\"/content/drive\")"
      ],
      "metadata": {
        "colab": {
          "base_uri": "https://localhost:8080/"
        },
        "id": "y2qzHTxcLoJp",
        "outputId": "95dfbf56-2746-4bb1-804d-d83a725b9db2"
      },
      "execution_count": 67,
      "outputs": [
        {
          "output_type": "stream",
          "name": "stdout",
          "text": [
            "Drive already mounted at /content/drive; to attempt to forcibly remount, call drive.mount(\"/content/drive\", force_remount=True).\n"
          ]
        }
      ]
    },
    {
      "cell_type": "code",
      "source": [
        "git_username = \"rlawogus1115\"\n",
        "git_repo = \"test\"\n",
        "git_path = \"https://\"+\"@github.com/\"+git_username+\"/\"+git_repo+\".git\"\n",
        "print(git_path)"
      ],
      "metadata": {
        "colab": {
          "base_uri": "https://localhost:8080/"
        },
        "id": "xbAws9tAMMt5",
        "outputId": "d383ab65-e7c2-415f-cf98-0970d55fde2d"
      },
      "execution_count": 70,
      "outputs": [
        {
          "output_type": "stream",
          "name": "stdout",
          "text": [
            "https://@github.com/rlawogus1115/test.git\n"
          ]
        }
      ]
    },
    {
      "cell_type": "code",
      "source": [
        "from os.path import join\n",
        "\n",
        "proj_path = \"/content/drive/MyDrive/\"\n",
        "%cd \"{proj_path}\"\n",
        "!git clone https://github.com/rlawogus1115/test.git"
      ],
      "metadata": {
        "colab": {
          "base_uri": "https://localhost:8080/"
        },
        "id": "stGJX2Y3M4_X",
        "outputId": "2db75bff-a770-4140-b66d-587551b75a0f"
      },
      "execution_count": 71,
      "outputs": [
        {
          "output_type": "stream",
          "name": "stdout",
          "text": [
            "/content/drive/MyDrive\n",
            "Cloning into 'test'...\n",
            "remote: Enumerating objects: 3, done.\u001b[K\n",
            "remote: Counting objects: 100% (3/3), done.\u001b[K\n",
            "remote: Compressing objects: 100% (3/3), done.\u001b[K\n",
            "remote: Total 3 (delta 0), reused 0 (delta 0), pack-reused 0\u001b[K\n",
            "Unpacking objects: 100% (3/3), done.\n"
          ]
        }
      ]
    },
    {
      "cell_type": "code",
      "source": [
        "!git config --global user.name \"rlawogus1115\"\n",
        "!git config --global user.email \"rlawogus11115@gmail.com\"\n",
        "!git config --global user.password \"rla32415\""
      ],
      "metadata": {
        "id": "lLwj97QNOJV7"
      },
      "execution_count": 50,
      "outputs": []
    },
    {
      "cell_type": "code",
      "source": [
        "%cd /content/drive/MyDrive/Colab Notebooks/test"
      ],
      "metadata": {
        "colab": {
          "base_uri": "https://localhost:8080/"
        },
        "id": "nrpsIqAVPhKD",
        "outputId": "858872a3-61a4-4a27-91a1-15f2dc2dce09"
      },
      "execution_count": 62,
      "outputs": [
        {
          "output_type": "stream",
          "name": "stdout",
          "text": [
            "/content/drive/MyDrive/Colab Notebooks/test\n"
          ]
        }
      ]
    },
    {
      "cell_type": "code",
      "source": [
        "%ls"
      ],
      "metadata": {
        "colab": {
          "base_uri": "https://localhost:8080/"
        },
        "id": "ghFf4qOCVEBC",
        "outputId": "ce8a7ff8-05c2-4d06-d508-a87f965d28be"
      },
      "execution_count": 63,
      "outputs": [
        {
          "output_type": "stream",
          "name": "stdout",
          "text": [
            "01.1기초_변수.ipynb\n"
          ]
        }
      ]
    },
    {
      "cell_type": "code",
      "source": [
        "!git status"
      ],
      "metadata": {
        "colab": {
          "base_uri": "https://localhost:8080/"
        },
        "id": "lHMUFlbJPGqE",
        "outputId": "904e44fa-e31a-474b-cb25-528c9fba9cb3"
      },
      "execution_count": 64,
      "outputs": [
        {
          "output_type": "stream",
          "name": "stdout",
          "text": [
            "On branch master\n",
            "Your branch is based on 'origin/master', but the upstream is gone.\n",
            "  (use \"git branch --unset-upstream\" to fixup)\n",
            "\n",
            "nothing to commit, working tree clean\n"
          ]
        }
      ]
    },
    {
      "cell_type": "code",
      "source": [
        "!git init\n",
        "!git add --all"
      ],
      "metadata": {
        "colab": {
          "base_uri": "https://localhost:8080/"
        },
        "id": "hJkOtjj9TSPK",
        "outputId": "834d4167-5b03-4316-a61c-b1cd3ed0dc25"
      },
      "execution_count": 57,
      "outputs": [
        {
          "output_type": "stream",
          "name": "stdout",
          "text": [
            "Reinitialized existing Git repository in /content/drive/MyDrive/Colab Notebooks/test/.git/\n"
          ]
        }
      ]
    },
    {
      "cell_type": "code",
      "source": [
        "!git commit -a -m \"Added a file to the leetCode folder\""
      ],
      "metadata": {
        "colab": {
          "base_uri": "https://localhost:8080/"
        },
        "id": "cHbQQO0ZTUWU",
        "outputId": "ab138216-4e67-457a-a5a9-82b241646ab8"
      },
      "execution_count": 58,
      "outputs": [
        {
          "output_type": "stream",
          "name": "stdout",
          "text": [
            "On branch master\n",
            "Your branch is based on 'origin/master', but the upstream is gone.\n",
            "  (use \"git branch --unset-upstream\" to fixup)\n",
            "\n",
            "nothing to commit, working tree clean\n"
          ]
        }
      ]
    },
    {
      "cell_type": "code",
      "source": [
        "!git remote add origin https://github.com/rlawogus1115/test.git"
      ],
      "metadata": {
        "colab": {
          "base_uri": "https://localhost:8080/"
        },
        "id": "pdn9stebTmnl",
        "outputId": "e63f083a-088b-45a7-82bb-19d4b8fa0b38"
      },
      "execution_count": 52,
      "outputs": [
        {
          "output_type": "stream",
          "name": "stdout",
          "text": [
            "fatal: remote origin already exists.\n"
          ]
        }
      ]
    },
    {
      "cell_type": "code",
      "source": [
        "!git push -u origin main"
      ],
      "metadata": {
        "colab": {
          "base_uri": "https://localhost:8080/"
        },
        "id": "v4n5B38jTuXB",
        "outputId": "2753d4dd-7a27-4214-80f7-51efcdad590a"
      },
      "execution_count": 53,
      "outputs": [
        {
          "output_type": "stream",
          "name": "stdout",
          "text": [
            "error: src refspec main does not match any.\n",
            "error: failed to push some refs to 'https://github.com/rlawogus1115/test.git'\n"
          ]
        }
      ]
    },
    {
      "cell_type": "markdown",
      "metadata": {
        "id": "qqmaP-XF2jAh"
      },
      "source": [
        "# KNN 무작위수 분류"
      ]
    },
    {
      "cell_type": "markdown",
      "metadata": {
        "id": "zrYixBU6btiE"
      },
      "source": [
        "## `np.random.randint()`\n",
        "* `np.random.randint()`로 무작위수 25x2를 생성\n",
        "* 무작위수를 kNN으로 학습\n",
        "* 새로운 무작위수 1x2를 만들어서 kNN으로 분류"
      ]
    },
    {
      "cell_type": "code",
      "metadata": {
        "colab": {
          "base_uri": "https://localhost:8080/",
          "height": 301
        },
        "id": "QQvKqYojfdIh",
        "outputId": "ee57436a-8528-4884-f94a-5657e00e5251"
      },
      "source": [
        "from sklearn.neighbors import KNeighborsClassifier \n",
        "import sklearn\n",
        "\n",
        "np.random.seed(0)\n",
        "red = np.random.randint(0, 110, (25,2))\n",
        "blue = np.random.randint(90, 200, (25,2))\n",
        "X = np.vstack((red, blue)).astype(np.float32)\n",
        "y = np.zeros(50)\n",
        "y[25:] = 1 #0:red, 1:blue\n",
        "\n",
        "X, y = sklearn.utils.shuffle(X, y, random_state=0)\n",
        "\n",
        "plt.plot(X[y==0,0], X[y==0,1], 'r^')\n",
        "plt.plot(X[y==1,0], X[y==1,1], 'bs')\n",
        "\n",
        "newb = np.random.randint(0, 200, (1,2))\n",
        "plt.plot(newb[:,0], newb[:,1], 'g*')\n",
        "\n",
        "knn = KNeighborsClassifier()\n",
        "knn.fit(X, y)\n",
        "y_pred = knn.predict(newb)\n",
        "print(y_pred)\n",
        "plt.annotate('red' if y_pred==0 else 'blue', xy=newb[0], xytext=(newb[0]), fontsize=20)"
      ],
      "execution_count": null,
      "outputs": [
        {
          "output_type": "stream",
          "name": "stdout",
          "text": [
            "[1.]\n"
          ]
        },
        {
          "output_type": "execute_result",
          "data": {
            "text/plain": [
              "Text(148, 186, 'blue')"
            ]
          },
          "metadata": {},
          "execution_count": 6
        },
        {
          "output_type": "display_data",
          "data": {
            "text/plain": [
              "<Figure size 432x288 with 1 Axes>"
            ],
            "image/png": "[encoded data removed]"
          },
          "metadata": {
            "needs_background": "light"
          }
        }
      ]
    },
    {
      "cell_type": "markdown",
      "metadata": {
        "id": "KfJb1BzQipxp"
      },
      "source": [
        "##  `make_classification()`\n",
        "\n",
        "> 들여쓴 블록\n",
        "\n",
        "\n",
        "* make_classification() : 분류 모델에 적합한 임의의 데이터 생성 함수\n",
        "  * n_samples=100 : 표본 데이터 수(건수)\n",
        "  * n_features=20 : 독립 변수의 수(X 갯수)\n",
        "  * n_informative=2 : 독립 변수 중 종속 변수와 상관관계가 있는 성분 수\n",
        "  * n_redundant=2 : 독립 변수 중 다른 독립 변수의 선형 조합으로 나타나는 성분의 수\n",
        "  * n_repeated=0 : 독립 변수 중 단순 중복된 성분의 수\n",
        "  * n_classes=2 : 종속 변수의 클래스 수\n",
        "  * n_clusters_per_class=2: 클래스 당 클러스터의 수\n",
        "  * weights=None : 클래스 당 표본 수 비율, 예) (0.3, 0.7) \n",
        "  * flip_y=0.01 : 클래스가 임의로 교환되는 샘플의 비율, 노이즈 생성 \n",
        "  * random_state : random seed \n",
        "\n",
        "* sklean의 make_classficiation()함수로 변경해서 실습\n",
        "* `X, y = make_classification(n_samples=50, n_features=2,n_classes=2,  n_redundant=0, random_state=0)`  "
      ]
    },
    {
      "cell_type": "code",
      "metadata": {
        "colab": {
          "base_uri": "https://localhost:8080/",
          "height": 300
        },
        "id": "VBPmTmW6hSKO",
        "outputId": "ece981dc-59e8-4fed-851a-3851f935ba90"
      },
      "source": [
        "from sklearn.datasets import make_classification\n",
        "\n",
        "np.random.seed(0)\n",
        "\n",
        "X, y = make_classification(n_samples=50, n_features=2, n_classes=2, n_redundant=0, random_state=0)\n",
        "plt.plot(X[y==0,0], X[y==0,1], 'r^')\n",
        "plt.plot(X[y==1,0], X[y==1,1], 'bs')\n",
        "\n",
        "newb = np.random.randn(1,2)\n",
        "plt.plot(newb[:,0], newb[:,1], 'g*')\n",
        "\n",
        "knn = KNeighborsClassifier()\n",
        "knn.fit(X, y)\n",
        "y_pred = knn.predict(newb)\n",
        "print(y_pred)\n",
        "plt.annotate('red' if y_pred==0 else 'blue', xy=newb[0], xytext=(newb[0]), fontsize=20)"
      ],
      "execution_count": null,
      "outputs": [
        {
          "output_type": "stream",
          "name": "stdout",
          "text": [
            "[1]\n"
          ]
        },
        {
          "output_type": "execute_result",
          "data": {
            "text/plain": [
              "Text(1.764052345967664, 0.4001572083672233, 'blue')"
            ]
          },
          "metadata": {},
          "execution_count": 8
        },
        {
          "output_type": "display_data",
          "data": {
            "text/plain": [
              "<Figure size 432x288 with 1 Axes>"
            ],
            "image/png": "[encoded data removed]"
          },
          "metadata": {
            "needs_background": "light"
          }
        }
      ]
    },
    {
      "cell_type": "markdown",
      "metadata": {
        "id": "swsjc-BH2Z__"
      },
      "source": [
        "# Iris 품종 분류\n"
      ]
    },
    {
      "cell_type": "markdown",
      "metadata": {
        "id": "L9yUQBNR3cfk"
      },
      "source": [
        "## Iris Raw Data, CSV\n",
        "* `sns.load_dataset('iris')`\n",
        "* https://raw.githubusercontent.com/mwaskom/seaborn-data/master/iris.csv"
      ]
    },
    {
      "cell_type": "code",
      "metadata": {
        "colab": {
          "base_uri": "https://localhost:8080/"
        },
        "id": "SSOH_Shb4Cve",
        "outputId": "4ac97d5c-04de-4521-d194-c5bb5ae5cea4"
      },
      "source": [
        "!wget -O iris.csv https://raw.githubusercontent.com/mwaskom/seaborn-data/master/iris.csv"
      ],
      "execution_count": null,
      "outputs": [
        {
          "output_type": "stream",
          "name": "stdout",
          "text": [
            "--2022-04-19 01:28:11--  https://raw.githubusercontent.com/mwaskom/seaborn-data/master/iris.csv\n",
            "Resolving raw.githubusercontent.com (raw.githubusercontent.com)... 185.199.108.133, 185.199.109.133, 185.199.110.133, ...\n",
            "Connecting to raw.githubusercontent.com (raw.githubusercontent.com)|185.199.108.133|:443... connected.\n",
            "HTTP request sent, awaiting response... 200 OK\n",
            "Length: 3858 (3.8K) [text/plain]\n",
            "Saving to: ‘iris.csv’\n",
            "\n",
            "\riris.csv              0%[                    ]       0  --.-KB/s               \riris.csv            100%[===================>]   3.77K  --.-KB/s    in 0s      \n",
            "\n",
            "2022-04-19 01:28:11 (50.4 MB/s) - ‘iris.csv’ saved [3858/3858]\n",
            "\n"
          ]
        }
      ]
    },
    {
      "cell_type": "code",
      "metadata": {
        "colab": {
          "base_uri": "https://localhost:8080/",
          "height": 300
        },
        "id": "jwCSkkIy3KW2",
        "outputId": "cfbef7eb-9220-41c3-9d30-5c5eb67df406"
      },
      "source": [
        "#iris = sns.load_dataset('iris')\n",
        "iris = pd.read_csv('iris.csv')\n",
        "iris[::20]"
      ],
      "execution_count": null,
      "outputs": [
        {
          "output_type": "execute_result",
          "data": {
            "text/plain": [
              "     sepal_length  sepal_width  petal_length  petal_width     species\n",
              "0             5.1          3.5           1.4          0.2      setosa\n",
              "20            5.4          3.4           1.7          0.2      setosa\n",
              "40            5.0          3.5           1.3          0.3      setosa\n",
              "60            5.0          2.0           3.5          1.0  versicolor\n",
              "80            5.5          2.4           3.8          1.1  versicolor\n",
              "100           6.3          3.3           6.0          2.5   virginica\n",
              "120           6.9          3.2           5.7          2.3   virginica\n",
              "140           6.7          3.1           5.6          2.4   virginica"
            ],
            "text/html": [
              "\n",
              "  <div id=\"df-1eb2719b-c376-43b6-a865-d8d70299da7d\">\n",
              "    <div class=\"colab-df-container\">\n",
              "      <div>\n",
              "<style scoped>\n",
              "    .dataframe tbody tr th:only-of-type {\n",
              "        vertical-align: middle;\n",
              "    }\n",
              "\n",
              "    .dataframe tbody tr th {\n",
              "        vertical-align: top;\n",
              "    }\n",
              "\n",
              "    .dataframe thead th {\n",
              "        text-align: right;\n",
              "    }\n",
              "</style>\n",
              "<table border=\"1\" class=\"dataframe\">\n",
              "  <thead>\n",
              "    <tr style=\"text-align: right;\">\n",
              "      <th></th>\n",
              "      <th>sepal_length</th>\n",
              "      <th>sepal_width</th>\n",
              "      <th>petal_length</th>\n",
              "      <th>petal_width</th>\n",
              "      <th>species</th>\n",
              "    </tr>\n",
              "  </thead>\n",
              "  <tbody>\n",
              "    <tr>\n",
              "      <th>0</th>\n",
              "      <td>5.1</td>\n",
              "      <td>3.5</td>\n",
              "      <td>1.4</td>\n",
              "      <td>0.2</td>\n",
              "      <td>setosa</td>\n",
              "    </tr>\n",
              "    <tr>\n",
              "      <th>20</th>\n",
              "      <td>5.4</td>\n",
              "      <td>3.4</td>\n",
              "      <td>1.7</td>\n",
              "      <td>0.2</td>\n",
              "      <td>setosa</td>\n",
              "    </tr>\n",
              "    <tr>\n",
              "      <th>40</th>\n",
              "      <td>5.0</td>\n",
              "      <td>3.5</td>\n",
              "      <td>1.3</td>\n",
              "      <td>0.3</td>\n",
              "      <td>setosa</td>\n",
              "    </tr>\n",
              "    <tr>\n",
              "      <th>60</th>\n",
              "      <td>5.0</td>\n",
              "      <td>2.0</td>\n",
              "      <td>3.5</td>\n",
              "      <td>1.0</td>\n",
              "      <td>versicolor</td>\n",
              "    </tr>\n",
              "    <tr>\n",
              "      <th>80</th>\n",
              "      <td>5.5</td>\n",
              "      <td>2.4</td>\n",
              "      <td>3.8</td>\n",
              "      <td>1.1</td>\n",
              "      <td>versicolor</td>\n",
              "    </tr>\n",
              "    <tr>\n",
              "      <th>100</th>\n",
              "      <td>6.3</td>\n",
              "      <td>3.3</td>\n",
              "      <td>6.0</td>\n",
              "      <td>2.5</td>\n",
              "      <td>virginica</td>\n",
              "    </tr>\n",
              "    <tr>\n",
              "      <th>120</th>\n",
              "      <td>6.9</td>\n",
              "      <td>3.2</td>\n",
              "      <td>5.7</td>\n",
              "      <td>2.3</td>\n",
              "      <td>virginica</td>\n",
              "    </tr>\n",
              "    <tr>\n",
              "      <th>140</th>\n",
              "      <td>6.7</td>\n",
              "      <td>3.1</td>\n",
              "      <td>5.6</td>\n",
              "      <td>2.4</td>\n",
              "      <td>virginica</td>\n",
              "    </tr>\n",
              "  </tbody>\n",
              "</table>\n",
              "</div>\n",
              "      <button class=\"colab-df-convert\" onclick=\"convertToInteractive('df-1eb2719b-c376-43b6-a865-d8d70299da7d')\"\n",
              "              title=\"Convert this dataframe to an interactive table.\"\n",
              "              style=\"display:none;\">\n",
              "        \n",
              "  <svg xmlns=\"http://www.w3.org/2000/svg\" height=\"24px\"viewBox=\"0 0 24 24\"\n",
              "       width=\"24px\">\n",
              "    <path d=\"M0 0h24v24H0V0z\" fill=\"none\"/>\n",
              "    <path d=\"M18.56 5.44l.94 2.06.94-2.06 2.06-.94-2.06-.94-.94-2.06-.94 2.06-2.06.94zm-11 1L8.5 8.5l.94-2.06 2.06-.94-2.06-.94L8.5 2.5l-.94 2.06-2.06.94zm10 10l.94 2.06.94-2.06 2.06-.94-2.06-.94-.94-2.06-.94 2.06-2.06.94z\"/><path d=\"M17.41 7.96l-1.37-1.37c-.4-.4-.92-.59-1.43-.59-.52 0-1.04.2-1.43.59L10.3 9.45l-7.72 7.72c-.78.78-.78 2.05 0 2.83L4 21.41c.39.39.9.59 1.41.59.51 0 1.02-.2 1.41-.59l7.78-7.78 2.81-2.81c.8-.78.8-2.07 0-2.86zM5.41 20L4 18.59l7.72-7.72 1.47 1.35L5.41 20z\"/>\n",
              "  </svg>\n",
              "      </button>\n",
              "      \n",
              "  <style>\n",
              "    .colab-df-container {\n",
              "      display:flex;\n",
              "      flex-wrap:wrap;\n",
              "      gap: 12px;\n",
              "    }\n",
              "\n",
              "    .colab-df-convert {\n",
              "      background-color: #E8F0FE;\n",
              "      border: none;\n",
              "      border-radius: 50%;\n",
              "      cursor: pointer;\n",
              "      display: none;\n",
              "      fill: #1967D2;\n",
              "      height: 32px;\n",
              "      padding: 0 0 0 0;\n",
              "      width: 32px;\n",
              "    }\n",
              "\n",
              "    .colab-df-convert:hover {\n",
              "      background-color: #E2EBFA;\n",
              "      box-shadow: 0px 1px 2px rgba(60, 64, 67, 0.3), 0px 1px 3px 1px rgba(60, 64, 67, 0.15);\n",
              "      fill: #174EA6;\n",
              "    }\n",
              "\n",
              "    [theme=dark] .colab-df-convert {\n",
              "      background-color: #3B4455;\n",
              "      fill: #D2E3FC;\n",
              "    }\n",
              "\n",
              "    [theme=dark] .colab-df-convert:hover {\n",
              "      background-color: #434B5C;\n",
              "      box-shadow: 0px 1px 3px 1px rgba(0, 0, 0, 0.15);\n",
              "      filter: drop-shadow(0px 1px 2px rgba(0, 0, 0, 0.3));\n",
              "      fill: #FFFFFF;\n",
              "    }\n",
              "  </style>\n",
              "\n",
              "      <script>\n",
              "        const buttonEl =\n",
              "          document.querySelector('#df-1eb2719b-c376-43b6-a865-d8d70299da7d button.colab-df-convert');\n",
              "        buttonEl.style.display =\n",
              "          google.colab.kernel.accessAllowed ? 'block' : 'none';\n",
              "\n",
              "        async function convertToInteractive(key) {\n",
              "          const element = document.querySelector('#df-1eb2719b-c376-43b6-a865-d8d70299da7d');\n",
              "          const dataTable =\n",
              "            await google.colab.kernel.invokeFunction('convertToInteractive',\n",
              "                                                     [key], {});\n",
              "          if (!dataTable) return;\n",
              "\n",
              "          const docLinkHtml = 'Like what you see? Visit the ' +\n",
              "            '<a target=\"_blank\" href=https://colab.research.google.com/notebooks/data_table.ipynb>data table notebook</a>'\n",
              "            + ' to learn more about interactive tables.';\n",
              "          element.innerHTML = '';\n",
              "          dataTable['output_type'] = 'display_data';\n",
              "          await google.colab.output.renderOutput(dataTable, element);\n",
              "          const docLink = document.createElement('div');\n",
              "          docLink.innerHTML = docLinkHtml;\n",
              "          element.appendChild(docLink);\n",
              "        }\n",
              "      </script>\n",
              "    </div>\n",
              "  </div>\n",
              "  "
            ]
          },
          "metadata": {},
          "execution_count": 10
        }
      ]
    },
    {
      "cell_type": "markdown",
      "metadata": {
        "id": "E8Rc2KKs4O2j"
      },
      "source": [
        "# LabelEncoding\n",
        "* `sklearn.preprocessing.LabelEncoder`\n",
        "  * `fit()`\n",
        "  * `transform()`\n",
        "  * `fit_transfrom()`\n",
        "  * `inverse_transform()`\n",
        "  * `classes_`\n"
      ]
    },
    {
      "cell_type": "code",
      "metadata": {
        "colab": {
          "base_uri": "https://localhost:8080/"
        },
        "id": "luXgHylfPS-H",
        "outputId": "1bfa493d-d043-4521-cee8-3e7179ea6302"
      },
      "source": [
        "from sklearn.preprocessing import LabelEncoder\n",
        "\n",
        "le = LabelEncoder()\n",
        "le.fit(['cat', 'cat', 'dog', 'cow', 'dog'])\n",
        "print(le.classes_)\n",
        "label = le.transform(['cat', 'cat', 'dog', 'cow', 'dog'])\n",
        "print(label)\n",
        "print(le.inverse_transform(label))"
      ],
      "execution_count": null,
      "outputs": [
        {
          "output_type": "stream",
          "name": "stdout",
          "text": [
            "['cat' 'cow' 'dog']\n",
            "[0 0 2 1 2]\n",
            "['cat' 'cat' 'dog' 'cow' 'dog']\n"
          ]
        }
      ]
    },
    {
      "cell_type": "code",
      "metadata": {
        "colab": {
          "base_uri": "https://localhost:8080/",
          "height": 318
        },
        "id": "YIlcfv198jfE",
        "outputId": "a1c27636-2e26-47cb-9c3f-60a8db2b39c7"
      },
      "source": [
        "le = LabelEncoder()\n",
        "le.fit(iris['species'])\n",
        "iris['target'] = le.transform(iris['species'])\n",
        "print(le.classes_)\n",
        "iris[::20]"
      ],
      "execution_count": null,
      "outputs": [
        {
          "output_type": "stream",
          "name": "stdout",
          "text": [
            "['setosa' 'versicolor' 'virginica']\n"
          ]
        },
        {
          "output_type": "execute_result",
          "data": {
            "text/plain": [
              "     sepal_length  sepal_width  petal_length  petal_width     species  target\n",
              "0             5.1          3.5           1.4          0.2      setosa       0\n",
              "20            5.4          3.4           1.7          0.2      setosa       0\n",
              "40            5.0          3.5           1.3          0.3      setosa       0\n",
              "60            5.0          2.0           3.5          1.0  versicolor       1\n",
              "80            5.5          2.4           3.8          1.1  versicolor       1\n",
              "100           6.3          3.3           6.0          2.5   virginica       2\n",
              "120           6.9          3.2           5.7          2.3   virginica       2\n",
              "140           6.7          3.1           5.6          2.4   virginica       2"
            ],
            "text/html": [
              "\n",
              "  <div id=\"df-efa8f5b0-e6b6-4a16-a2f8-4449b49d1d02\">\n",
              "    <div class=\"colab-df-container\">\n",
              "      <div>\n",
              "<style scoped>\n",
              "    .dataframe tbody tr th:only-of-type {\n",
              "        vertical-align: middle;\n",
              "    }\n",
              "\n",
              "    .dataframe tbody tr th {\n",
              "        vertical-align: top;\n",
              "    }\n",
              "\n",
              "    .dataframe thead th {\n",
              "        text-align: right;\n",
              "    }\n",
              "</style>\n",
              "<table border=\"1\" class=\"dataframe\">\n",
              "  <thead>\n",
              "    <tr style=\"text-align: right;\">\n",
              "      <th></th>\n",
              "      <th>sepal_length</th>\n",
              "      <th>sepal_width</th>\n",
              "      <th>petal_length</th>\n",
              "      <th>petal_width</th>\n",
              "      <th>species</th>\n",
              "      <th>target</th>\n",
              "    </tr>\n",
              "  </thead>\n",
              "  <tbody>\n",
              "    <tr>\n",
              "      <th>0</th>\n",
              "      <td>5.1</td>\n",
              "      <td>3.5</td>\n",
              "      <td>1.4</td>\n",
              "      <td>0.2</td>\n",
              "      <td>setosa</td>\n",
              "      <td>0</td>\n",
              "    </tr>\n",
              "    <tr>\n",
              "      <th>20</th>\n",
              "      <td>5.4</td>\n",
              "      <td>3.4</td>\n",
              "      <td>1.7</td>\n",
              "      <td>0.2</td>\n",
              "      <td>setosa</td>\n",
              "      <td>0</td>\n",
              "    </tr>\n",
              "    <tr>\n",
              "      <th>40</th>\n",
              "      <td>5.0</td>\n",
              "      <td>3.5</td>\n",
              "      <td>1.3</td>\n",
              "      <td>0.3</td>\n",
              "      <td>setosa</td>\n",
              "      <td>0</td>\n",
              "    </tr>\n",
              "    <tr>\n",
              "      <th>60</th>\n",
              "      <td>5.0</td>\n",
              "      <td>2.0</td>\n",
              "      <td>3.5</td>\n",
              "      <td>1.0</td>\n",
              "      <td>versicolor</td>\n",
              "      <td>1</td>\n",
              "    </tr>\n",
              "    <tr>\n",
              "      <th>80</th>\n",
              "      <td>5.5</td>\n",
              "      <td>2.4</td>\n",
              "      <td>3.8</td>\n",
              "      <td>1.1</td>\n",
              "      <td>versicolor</td>\n",
              "      <td>1</td>\n",
              "    </tr>\n",
              "    <tr>\n",
              "      <th>100</th>\n",
              "      <td>6.3</td>\n",
              "      <td>3.3</td>\n",
              "      <td>6.0</td>\n",
              "      <td>2.5</td>\n",
              "      <td>virginica</td>\n",
              "      <td>2</td>\n",
              "    </tr>\n",
              "    <tr>\n",
              "      <th>120</th>\n",
              "      <td>6.9</td>\n",
              "      <td>3.2</td>\n",
              "      <td>5.7</td>\n",
              "      <td>2.3</td>\n",
              "      <td>virginica</td>\n",
              "      <td>2</td>\n",
              "    </tr>\n",
              "    <tr>\n",
              "      <th>140</th>\n",
              "      <td>6.7</td>\n",
              "      <td>3.1</td>\n",
              "      <td>5.6</td>\n",
              "      <td>2.4</td>\n",
              "      <td>virginica</td>\n",
              "      <td>2</td>\n",
              "    </tr>\n",
              "  </tbody>\n",
              "</table>\n",
              "</div>\n",
              "      <button class=\"colab-df-convert\" onclick=\"convertToInteractive('df-efa8f5b0-e6b6-4a16-a2f8-4449b49d1d02')\"\n",
              "              title=\"Convert this dataframe to an interactive table.\"\n",
              "              style=\"display:none;\">\n",
              "        \n",
              "  <svg xmlns=\"http://www.w3.org/2000/svg\" height=\"24px\"viewBox=\"0 0 24 24\"\n",
              "       width=\"24px\">\n",
              "    <path d=\"M0 0h24v24H0V0z\" fill=\"none\"/>\n",
              "    <path d=\"M18.56 5.44l.94 2.06.94-2.06 2.06-.94-2.06-.94-.94-2.06-.94 2.06-2.06.94zm-11 1L8.5 8.5l.94-2.06 2.06-.94-2.06-.94L8.5 2.5l-.94 2.06-2.06.94zm10 10l.94 2.06.94-2.06 2.06-.94-2.06-.94-.94-2.06-.94 2.06-2.06.94z\"/><path d=\"M17.41 7.96l-1.37-1.37c-.4-.4-.92-.59-1.43-.59-.52 0-1.04.2-1.43.59L10.3 9.45l-7.72 7.72c-.78.78-.78 2.05 0 2.83L4 21.41c.39.39.9.59 1.41.59.51 0 1.02-.2 1.41-.59l7.78-7.78 2.81-2.81c.8-.78.8-2.07 0-2.86zM5.41 20L4 18.59l7.72-7.72 1.47 1.35L5.41 20z\"/>\n",
              "  </svg>\n",
              "      </button>\n",
              "      \n",
              "  <style>\n",
              "    .colab-df-container {\n",
              "      display:flex;\n",
              "      flex-wrap:wrap;\n",
              "      gap: 12px;\n",
              "    }\n",
              "\n",
              "    .colab-df-convert {\n",
              "      background-color: #E8F0FE;\n",
              "      border: none;\n",
              "      border-radius: 50%;\n",
              "      cursor: pointer;\n",
              "      display: none;\n",
              "      fill: #1967D2;\n",
              "      height: 32px;\n",
              "      padding: 0 0 0 0;\n",
              "      width: 32px;\n",
              "    }\n",
              "\n",
              "    .colab-df-convert:hover {\n",
              "      background-color: #E2EBFA;\n",
              "      box-shadow: 0px 1px 2px rgba(60, 64, 67, 0.3), 0px 1px 3px 1px rgba(60, 64, 67, 0.15);\n",
              "      fill: #174EA6;\n",
              "    }\n",
              "\n",
              "    [theme=dark] .colab-df-convert {\n",
              "      background-color: #3B4455;\n",
              "      fill: #D2E3FC;\n",
              "    }\n",
              "\n",
              "    [theme=dark] .colab-df-convert:hover {\n",
              "      background-color: #434B5C;\n",
              "      box-shadow: 0px 1px 3px 1px rgba(0, 0, 0, 0.15);\n",
              "      filter: drop-shadow(0px 1px 2px rgba(0, 0, 0, 0.3));\n",
              "      fill: #FFFFFF;\n",
              "    }\n",
              "  </style>\n",
              "\n",
              "      <script>\n",
              "        const buttonEl =\n",
              "          document.querySelector('#df-efa8f5b0-e6b6-4a16-a2f8-4449b49d1d02 button.colab-df-convert');\n",
              "        buttonEl.style.display =\n",
              "          google.colab.kernel.accessAllowed ? 'block' : 'none';\n",
              "\n",
              "        async function convertToInteractive(key) {\n",
              "          const element = document.querySelector('#df-efa8f5b0-e6b6-4a16-a2f8-4449b49d1d02');\n",
              "          const dataTable =\n",
              "            await google.colab.kernel.invokeFunction('convertToInteractive',\n",
              "                                                     [key], {});\n",
              "          if (!dataTable) return;\n",
              "\n",
              "          const docLinkHtml = 'Like what you see? Visit the ' +\n",
              "            '<a target=\"_blank\" href=https://colab.research.google.com/notebooks/data_table.ipynb>data table notebook</a>'\n",
              "            + ' to learn more about interactive tables.';\n",
              "          element.innerHTML = '';\n",
              "          dataTable['output_type'] = 'display_data';\n",
              "          await google.colab.output.renderOutput(dataTable, element);\n",
              "          const docLink = document.createElement('div');\n",
              "          docLink.innerHTML = docLinkHtml;\n",
              "          element.appendChild(docLink);\n",
              "        }\n",
              "      </script>\n",
              "    </div>\n",
              "  </div>\n",
              "  "
            ]
          },
          "metadata": {},
          "execution_count": 16
        }
      ]
    },
    {
      "cell_type": "markdown",
      "metadata": {
        "id": "y8KXhpWRK4Qb"
      },
      "source": [
        "# 데이타 분할\n",
        "* `X_train, X_test, y_train, y_test = sklearn.model_selection.train_test_split(X, y)`"
      ]
    },
    {
      "cell_type": "code",
      "metadata": {
        "id": "iMICB9hyK4Qc",
        "colab": {
          "base_uri": "https://localhost:8080/"
        },
        "outputId": "0d7d23c9-55bb-49cf-c380-ae3ac9fbc813"
      },
      "source": [
        "from sklearn.model_selection import  train_test_split\n",
        "\n",
        "X = np.arange(10)\n",
        "y = X * X\n",
        "print('X:', X, 'y:', y)\n",
        "\n",
        "X_train, X_test, y_train, y_test =train_test_split(X, y, random_state=0, test_size=0.4, shuffle=False)\n",
        "print(X_train, X_test, y_train, y_test)\n",
        "\n"
      ],
      "execution_count": null,
      "outputs": [
        {
          "output_type": "stream",
          "name": "stdout",
          "text": [
            "X: [0 1 2 3 4 5 6 7 8 9] y: [ 0  1  4  9 16 25 36 49 64 81]\n",
            "[0 1 2 3 4 5] [6 7 8 9] [ 0  1  4  9 16 25] [36 49 64 81]\n"
          ]
        }
      ]
    },
    {
      "cell_type": "markdown",
      "metadata": {
        "id": "SOTlGvOH9s_C"
      },
      "source": [
        "## Iris Raw Data 분류"
      ]
    },
    {
      "cell_type": "code",
      "metadata": {
        "colab": {
          "base_uri": "https://localhost:8080/"
        },
        "id": "5KIo_oJF59mO",
        "outputId": "baefd4dc-9bc1-4b8e-bec3-e5b64591592d"
      },
      "source": [
        "feature_names = ['sepal_length','sepal_width','petal_length','petal_width']\n",
        "\n",
        "X_train, X_test, y_train, y_test = train_test_split(iris[feature_names], iris['target'], random_state=0)\n",
        "\n",
        "print(X_train.shape, X_test.shape, y_train.shape, y_test.shape)\n",
        "\n",
        "knn = KNeighborsClassifier()\n",
        "knn.fit(X_train, y_train)\n",
        "y_pred = knn.predict(X_test)\n",
        "\n",
        "print(y_test.values)\n",
        "print(y_pred)\n",
        "\n",
        "accuracy = np.sum(y_test == y_pred)/y_test.shape[0]\n",
        "print('accuracy:', accuracy)"
      ],
      "execution_count": null,
      "outputs": [
        {
          "output_type": "stream",
          "name": "stdout",
          "text": [
            "(112, 4) (38, 4) (112,) (38,)\n",
            "[2 1 0 2 0 2 0 1 1 1 2 1 1 1 1 0 1 1 0 0 2 1 0 0 2 0 0 1 1 0 2 1 0 2 2 1 0\n",
            " 1]\n",
            "[2 1 0 2 0 2 0 1 1 1 2 1 1 1 1 0 1 1 0 0 2 1 0 0 2 0 0 1 1 0 2 1 0 2 2 1 0\n",
            " 2]\n",
            "accuracy: 0.9736842105263158\n"
          ]
        }
      ]
    },
    {
      "cell_type": "markdown",
      "metadata": {
        "id": "jHirwBBDK4Pj"
      },
      "source": [
        "# scikit-learn Dataset\n",
        "* `sklearn.datasets.load_iris()`"
      ]
    },
    {
      "cell_type": "code",
      "metadata": {
        "id": "qzaAQAmmK4Pk",
        "colab": {
          "base_uri": "https://localhost:8080/"
        },
        "outputId": "968bb4a5-6a1c-4888-c48e-9388c109b3ac"
      },
      "source": [
        "from sklearn.datasets import load_iris\n",
        "\n",
        "iris = load_iris()\n"
      ],
      "execution_count": null,
      "outputs": [
        {
          "output_type": "stream",
          "name": "stdout",
          "text": [
            "acc 0.9736842105263158\n"
          ]
        }
      ]
    },
    {
      "cell_type": "markdown",
      "metadata": {
        "id": "MmPcOUceb377"
      },
      "source": [
        "* type() "
      ]
    },
    {
      "cell_type": "code",
      "metadata": {
        "id": "N387xfTlK4Pr",
        "colab": {
          "base_uri": "https://localhost:8080/"
        },
        "outputId": "85577358-2993-4058-b96b-376b33762359"
      },
      "source": [
        "type(iris)"
      ],
      "execution_count": null,
      "outputs": [
        {
          "output_type": "execute_result",
          "data": {
            "text/plain": [
              "sklearn.utils.Bunch"
            ]
          },
          "metadata": {},
          "execution_count": 39
        }
      ]
    },
    {
      "cell_type": "markdown",
      "metadata": {
        "id": "j3gJTo8wb5Zq"
      },
      "source": [
        "* keys()"
      ]
    },
    {
      "cell_type": "code",
      "metadata": {
        "scrolled": true,
        "id": "MrMBIWcmK4Pw",
        "colab": {
          "base_uri": "https://localhost:8080/"
        },
        "outputId": "2ee72e19-ce9c-45a0-8e38-8535e442ad33"
      },
      "source": [
        "iris.keys()"
      ],
      "execution_count": null,
      "outputs": [
        {
          "output_type": "execute_result",
          "data": {
            "text/plain": [
              "dict_keys(['data', 'target', 'frame', 'target_names', 'DESCR', 'feature_names', 'filename', 'data_module'])"
            ]
          },
          "metadata": {},
          "execution_count": 40
        }
      ]
    },
    {
      "cell_type": "markdown",
      "metadata": {
        "id": "1kX7NLcXb7cZ"
      },
      "source": [
        "* DESCR"
      ]
    },
    {
      "cell_type": "code",
      "metadata": {
        "scrolled": true,
        "id": "N6VQdyuHK4P1",
        "colab": {
          "base_uri": "https://localhost:8080/"
        },
        "outputId": "49a3de3e-277d-431c-a7d3-458c6ff98086"
      },
      "source": [
        "print(iris.DESCR)"
      ],
      "execution_count": null,
      "outputs": [
        {
          "output_type": "stream",
          "name": "stdout",
          "text": [
            ".. _iris_dataset:\n",
            "\n",
            "Iris plants dataset\n",
            "--------------------\n",
            "\n",
            "**Data Set Characteristics:**\n",
            "\n",
            "    :Number of Instances: 150 (50 in each of three classes)\n",
            "    :Number of Attributes: 4 numeric, predictive attributes and the class\n",
            "    :Attribute Information:\n",
            "        - sepal length in cm\n",
            "        - sepal width in cm\n",
            "        - petal length in cm\n",
            "        - petal width in cm\n",
            "        - class:\n",
            "                - Iris-Setosa\n",
            "                - Iris-Versicolour\n",
            "                - Iris-Virginica\n",
            "                \n",
            "    :Summary Statistics:\n",
            "\n",
            "    ============== ==== ==== ======= ===== ====================\n",
            "                    Min  Max   Mean    SD   Class Correlation\n",
            "    ============== ==== ==== ======= ===== ====================\n",
            "    sepal length:   4.3  7.9   5.84   0.83    0.7826\n",
            "    sepal width:    2.0  4.4   3.05   0.43   -0.4194\n",
            "    petal length:   1.0  6.9   3.76   1.76    0.9490  (high!)\n",
            "    petal width:    0.1  2.5   1.20   0.76    0.9565  (high!)\n",
            "    ============== ==== ==== ======= ===== ====================\n",
            "\n",
            "    :Missing Attribute Values: None\n",
            "    :Class Distribution: 33.3% for each of 3 classes.\n",
            "    :Creator: R.A. Fisher\n",
            "    :Donor: Michael Marshall (MARSHALL%PLU@io.arc.nasa.gov)\n",
            "    :Date: July, 1988\n",
            "\n",
            "The famous Iris database, first used by Sir R.A. Fisher. The dataset is taken\n",
            "from Fisher's paper. Note that it's the same as in R, but not as in the UCI\n",
            "Machine Learning Repository, which has two wrong data points.\n",
            "\n",
            "This is perhaps the best known database to be found in the\n",
            "pattern recognition literature.  Fisher's paper is a classic in the field and\n",
            "is referenced frequently to this day.  (See Duda & Hart, for example.)  The\n",
            "data set contains 3 classes of 50 instances each, where each class refers to a\n",
            "type of iris plant.  One class is linearly separable from the other 2; the\n",
            "latter are NOT linearly separable from each other.\n",
            "\n",
            ".. topic:: References\n",
            "\n",
            "   - Fisher, R.A. \"The use of multiple measurements in taxonomic problems\"\n",
            "     Annual Eugenics, 7, Part II, 179-188 (1936); also in \"Contributions to\n",
            "     Mathematical Statistics\" (John Wiley, NY, 1950).\n",
            "   - Duda, R.O., & Hart, P.E. (1973) Pattern Classification and Scene Analysis.\n",
            "     (Q327.D83) John Wiley & Sons.  ISBN 0-471-22361-1.  See page 218.\n",
            "   - Dasarathy, B.V. (1980) \"Nosing Around the Neighborhood: A New System\n",
            "     Structure and Classification Rule for Recognition in Partially Exposed\n",
            "     Environments\".  IEEE Transactions on Pattern Analysis and Machine\n",
            "     Intelligence, Vol. PAMI-2, No. 1, 67-71.\n",
            "   - Gates, G.W. (1972) \"The Reduced Nearest Neighbor Rule\".  IEEE Transactions\n",
            "     on Information Theory, May 1972, 431-433.\n",
            "   - See also: 1988 MLC Proceedings, 54-64.  Cheeseman et al\"s AUTOCLASS II\n",
            "     conceptual clustering system finds 3 classes in the data.\n",
            "   - Many, many more ...\n"
          ]
        }
      ]
    },
    {
      "cell_type": "markdown",
      "metadata": {
        "id": "73Vz7pxjb9WD"
      },
      "source": [
        "* feature_names"
      ]
    },
    {
      "cell_type": "code",
      "metadata": {
        "id": "5_5b1XuxK4P6",
        "colab": {
          "base_uri": "https://localhost:8080/"
        },
        "outputId": "07659587-c077-4042-e6c9-ac85d7413c4e"
      },
      "source": [
        "iris.feature_names"
      ],
      "execution_count": null,
      "outputs": [
        {
          "output_type": "execute_result",
          "data": {
            "text/plain": [
              "['sepal length (cm)',\n",
              " 'sepal width (cm)',\n",
              " 'petal length (cm)',\n",
              " 'petal width (cm)']"
            ]
          },
          "metadata": {},
          "execution_count": 43
        }
      ]
    },
    {
      "cell_type": "markdown",
      "metadata": {
        "id": "h4IJW0w6b_Uh"
      },
      "source": [
        "* target_names"
      ]
    },
    {
      "cell_type": "code",
      "metadata": {
        "id": "xKid1HeIK4P-",
        "colab": {
          "base_uri": "https://localhost:8080/"
        },
        "outputId": "f39a4df8-a327-4de2-9df9-cc3c530b812f"
      },
      "source": [
        "iris.target_names"
      ],
      "execution_count": null,
      "outputs": [
        {
          "output_type": "execute_result",
          "data": {
            "text/plain": [
              "array(['setosa', 'versicolor', 'virginica'], dtype='<U10')"
            ]
          },
          "metadata": {},
          "execution_count": 44
        }
      ]
    },
    {
      "cell_type": "markdown",
      "metadata": {
        "id": "6S80UN_xcBMa"
      },
      "source": [
        "* data"
      ]
    },
    {
      "cell_type": "code",
      "metadata": {
        "id": "4eBn7MpmK4QC",
        "colab": {
          "base_uri": "https://localhost:8080/"
        },
        "outputId": "e87a77af-c2f3-41f8-c229-99cadb437f20"
      },
      "source": [
        "iris.data[:5]"
      ],
      "execution_count": null,
      "outputs": [
        {
          "output_type": "execute_result",
          "data": {
            "text/plain": [
              "array([[5.1, 3.5, 1.4, 0.2],\n",
              "       [4.9, 3. , 1.4, 0.2],\n",
              "       [4.7, 3.2, 1.3, 0.2],\n",
              "       [4.6, 3.1, 1.5, 0.2],\n",
              "       [5. , 3.6, 1.4, 0.2]])"
            ]
          },
          "metadata": {},
          "execution_count": 46
        }
      ]
    },
    {
      "cell_type": "markdown",
      "metadata": {
        "id": "r58VuVy1cCga"
      },
      "source": [
        "* data.shape"
      ]
    },
    {
      "cell_type": "code",
      "metadata": {
        "id": "Ca7rOHjhK4QK",
        "colab": {
          "base_uri": "https://localhost:8080/"
        },
        "outputId": "1329b48f-ba2e-4c68-d7f4-15a1e3667924"
      },
      "source": [
        "iris.data.shape"
      ],
      "execution_count": null,
      "outputs": [
        {
          "output_type": "execute_result",
          "data": {
            "text/plain": [
              "(150, 4)"
            ]
          },
          "metadata": {},
          "execution_count": 48
        }
      ]
    },
    {
      "cell_type": "markdown",
      "metadata": {
        "id": "SO3o82nLcEes"
      },
      "source": [
        "* target"
      ]
    },
    {
      "cell_type": "code",
      "metadata": {
        "id": "i-TtYXgeK4QO",
        "colab": {
          "base_uri": "https://localhost:8080/"
        },
        "outputId": "542ba2b0-27ee-410e-e06e-df6fd788479c"
      },
      "source": [
        "iris.target"
      ],
      "execution_count": null,
      "outputs": [
        {
          "output_type": "execute_result",
          "data": {
            "text/plain": [
              "array([0, 0, 0, 0, 0, 0, 0, 0, 0, 0, 0, 0, 0, 0, 0, 0, 0, 0, 0, 0, 0, 0,\n",
              "       0, 0, 0, 0, 0, 0, 0, 0, 0, 0, 0, 0, 0, 0, 0, 0, 0, 0, 0, 0, 0, 0,\n",
              "       0, 0, 0, 0, 0, 0, 1, 1, 1, 1, 1, 1, 1, 1, 1, 1, 1, 1, 1, 1, 1, 1,\n",
              "       1, 1, 1, 1, 1, 1, 1, 1, 1, 1, 1, 1, 1, 1, 1, 1, 1, 1, 1, 1, 1, 1,\n",
              "       1, 1, 1, 1, 1, 1, 1, 1, 1, 1, 1, 1, 2, 2, 2, 2, 2, 2, 2, 2, 2, 2,\n",
              "       2, 2, 2, 2, 2, 2, 2, 2, 2, 2, 2, 2, 2, 2, 2, 2, 2, 2, 2, 2, 2, 2,\n",
              "       2, 2, 2, 2, 2, 2, 2, 2, 2, 2, 2, 2, 2, 2, 2, 2, 2, 2])"
            ]
          },
          "metadata": {},
          "execution_count": 47
        }
      ]
    },
    {
      "cell_type": "markdown",
      "metadata": {
        "id": "vP6SedLlcGUB"
      },
      "source": [
        "* target.shape"
      ]
    },
    {
      "cell_type": "code",
      "metadata": {
        "id": "YJlXWUlUK4QS",
        "colab": {
          "base_uri": "https://localhost:8080/"
        },
        "outputId": "c2ef77d4-f2f3-4100-8143-06d845593f71"
      },
      "source": [
        "iris.target.shape"
      ],
      "execution_count": null,
      "outputs": [
        {
          "output_type": "execute_result",
          "data": {
            "text/plain": [
              "(150,)"
            ]
          },
          "metadata": {},
          "execution_count": 49
        }
      ]
    },
    {
      "cell_type": "markdown",
      "metadata": {
        "id": "-Vs9tlrmcJS9"
      },
      "source": [
        "* DataFrame으로 생성"
      ]
    },
    {
      "cell_type": "code",
      "metadata": {
        "id": "WrGDYvBtK4QW",
        "colab": {
          "base_uri": "https://localhost:8080/",
          "height": 300
        },
        "outputId": "942768b8-acd3-4c67-b69c-eb4f6474a05f"
      },
      "source": [
        "df = pd.DataFrame(iris.data, columns=iris.feature_names)\n",
        "df['target'] = iris.target\n",
        "df['class'] = iris.target_names[iris.target]\n",
        "df[::20]"
      ],
      "execution_count": null,
      "outputs": [
        {
          "output_type": "execute_result",
          "data": {
            "text/plain": [
              "     sepal length (cm)  sepal width (cm)  petal length (cm)  petal width (cm)  \\\n",
              "0                  5.1               3.5                1.4               0.2   \n",
              "20                 5.4               3.4                1.7               0.2   \n",
              "40                 5.0               3.5                1.3               0.3   \n",
              "60                 5.0               2.0                3.5               1.0   \n",
              "80                 5.5               2.4                3.8               1.1   \n",
              "100                6.3               3.3                6.0               2.5   \n",
              "120                6.9               3.2                5.7               2.3   \n",
              "140                6.7               3.1                5.6               2.4   \n",
              "\n",
              "     target       class  \n",
              "0         0      setosa  \n",
              "20        0      setosa  \n",
              "40        0      setosa  \n",
              "60        1  versicolor  \n",
              "80        1  versicolor  \n",
              "100       2   virginica  \n",
              "120       2   virginica  \n",
              "140       2   virginica  "
            ],
            "text/html": [
              "\n",
              "  <div id=\"df-9c95a6ea-3f24-420c-9111-b83b68b90cd4\">\n",
              "    <div class=\"colab-df-container\">\n",
              "      <div>\n",
              "<style scoped>\n",
              "    .dataframe tbody tr th:only-of-type {\n",
              "        vertical-align: middle;\n",
              "    }\n",
              "\n",
              "    .dataframe tbody tr th {\n",
              "        vertical-align: top;\n",
              "    }\n",
              "\n",
              "    .dataframe thead th {\n",
              "        text-align: right;\n",
              "    }\n",
              "</style>\n",
              "<table border=\"1\" class=\"dataframe\">\n",
              "  <thead>\n",
              "    <tr style=\"text-align: right;\">\n",
              "      <th></th>\n",
              "      <th>sepal length (cm)</th>\n",
              "      <th>sepal width (cm)</th>\n",
              "      <th>petal length (cm)</th>\n",
              "      <th>petal width (cm)</th>\n",
              "      <th>target</th>\n",
              "      <th>class</th>\n",
              "    </tr>\n",
              "  </thead>\n",
              "  <tbody>\n",
              "    <tr>\n",
              "      <th>0</th>\n",
              "      <td>5.1</td>\n",
              "      <td>3.5</td>\n",
              "      <td>1.4</td>\n",
              "      <td>0.2</td>\n",
              "      <td>0</td>\n",
              "      <td>setosa</td>\n",
              "    </tr>\n",
              "    <tr>\n",
              "      <th>20</th>\n",
              "      <td>5.4</td>\n",
              "      <td>3.4</td>\n",
              "      <td>1.7</td>\n",
              "      <td>0.2</td>\n",
              "      <td>0</td>\n",
              "      <td>setosa</td>\n",
              "    </tr>\n",
              "    <tr>\n",
              "      <th>40</th>\n",
              "      <td>5.0</td>\n",
              "      <td>3.5</td>\n",
              "      <td>1.3</td>\n",
              "      <td>0.3</td>\n",
              "      <td>0</td>\n",
              "      <td>setosa</td>\n",
              "    </tr>\n",
              "    <tr>\n",
              "      <th>60</th>\n",
              "      <td>5.0</td>\n",
              "      <td>2.0</td>\n",
              "      <td>3.5</td>\n",
              "      <td>1.0</td>\n",
              "      <td>1</td>\n",
              "      <td>versicolor</td>\n",
              "    </tr>\n",
              "    <tr>\n",
              "      <th>80</th>\n",
              "      <td>5.5</td>\n",
              "      <td>2.4</td>\n",
              "      <td>3.8</td>\n",
              "      <td>1.1</td>\n",
              "      <td>1</td>\n",
              "      <td>versicolor</td>\n",
              "    </tr>\n",
              "    <tr>\n",
              "      <th>100</th>\n",
              "      <td>6.3</td>\n",
              "      <td>3.3</td>\n",
              "      <td>6.0</td>\n",
              "      <td>2.5</td>\n",
              "      <td>2</td>\n",
              "      <td>virginica</td>\n",
              "    </tr>\n",
              "    <tr>\n",
              "      <th>120</th>\n",
              "      <td>6.9</td>\n",
              "      <td>3.2</td>\n",
              "      <td>5.7</td>\n",
              "      <td>2.3</td>\n",
              "      <td>2</td>\n",
              "      <td>virginica</td>\n",
              "    </tr>\n",
              "    <tr>\n",
              "      <th>140</th>\n",
              "      <td>6.7</td>\n",
              "      <td>3.1</td>\n",
              "      <td>5.6</td>\n",
              "      <td>2.4</td>\n",
              "      <td>2</td>\n",
              "      <td>virginica</td>\n",
              "    </tr>\n",
              "  </tbody>\n",
              "</table>\n",
              "</div>\n",
              "      <button class=\"colab-df-convert\" onclick=\"convertToInteractive('df-9c95a6ea-3f24-420c-9111-b83b68b90cd4')\"\n",
              "              title=\"Convert this dataframe to an interactive table.\"\n",
              "              style=\"display:none;\">\n",
              "        \n",
              "  <svg xmlns=\"http://www.w3.org/2000/svg\" height=\"24px\"viewBox=\"0 0 24 24\"\n",
              "       width=\"24px\">\n",
              "    <path d=\"M0 0h24v24H0V0z\" fill=\"none\"/>\n",
              "    <path d=\"M18.56 5.44l.94 2.06.94-2.06 2.06-.94-2.06-.94-.94-2.06-.94 2.06-2.06.94zm-11 1L8.5 8.5l.94-2.06 2.06-.94-2.06-.94L8.5 2.5l-.94 2.06-2.06.94zm10 10l.94 2.06.94-2.06 2.06-.94-2.06-.94-.94-2.06-.94 2.06-2.06.94z\"/><path d=\"M17.41 7.96l-1.37-1.37c-.4-.4-.92-.59-1.43-.59-.52 0-1.04.2-1.43.59L10.3 9.45l-7.72 7.72c-.78.78-.78 2.05 0 2.83L4 21.41c.39.39.9.59 1.41.59.51 0 1.02-.2 1.41-.59l7.78-7.78 2.81-2.81c.8-.78.8-2.07 0-2.86zM5.41 20L4 18.59l7.72-7.72 1.47 1.35L5.41 20z\"/>\n",
              "  </svg>\n",
              "      </button>\n",
              "      \n",
              "  <style>\n",
              "    .colab-df-container {\n",
              "      display:flex;\n",
              "      flex-wrap:wrap;\n",
              "      gap: 12px;\n",
              "    }\n",
              "\n",
              "    .colab-df-convert {\n",
              "      background-color: #E8F0FE;\n",
              "      border: none;\n",
              "      border-radius: 50%;\n",
              "      cursor: pointer;\n",
              "      display: none;\n",
              "      fill: #1967D2;\n",
              "      height: 32px;\n",
              "      padding: 0 0 0 0;\n",
              "      width: 32px;\n",
              "    }\n",
              "\n",
              "    .colab-df-convert:hover {\n",
              "      background-color: #E2EBFA;\n",
              "      box-shadow: 0px 1px 2px rgba(60, 64, 67, 0.3), 0px 1px 3px 1px rgba(60, 64, 67, 0.15);\n",
              "      fill: #174EA6;\n",
              "    }\n",
              "\n",
              "    [theme=dark] .colab-df-convert {\n",
              "      background-color: #3B4455;\n",
              "      fill: #D2E3FC;\n",
              "    }\n",
              "\n",
              "    [theme=dark] .colab-df-convert:hover {\n",
              "      background-color: #434B5C;\n",
              "      box-shadow: 0px 1px 3px 1px rgba(0, 0, 0, 0.15);\n",
              "      filter: drop-shadow(0px 1px 2px rgba(0, 0, 0, 0.3));\n",
              "      fill: #FFFFFF;\n",
              "    }\n",
              "  </style>\n",
              "\n",
              "      <script>\n",
              "        const buttonEl =\n",
              "          document.querySelector('#df-9c95a6ea-3f24-420c-9111-b83b68b90cd4 button.colab-df-convert');\n",
              "        buttonEl.style.display =\n",
              "          google.colab.kernel.accessAllowed ? 'block' : 'none';\n",
              "\n",
              "        async function convertToInteractive(key) {\n",
              "          const element = document.querySelector('#df-9c95a6ea-3f24-420c-9111-b83b68b90cd4');\n",
              "          const dataTable =\n",
              "            await google.colab.kernel.invokeFunction('convertToInteractive',\n",
              "                                                     [key], {});\n",
              "          if (!dataTable) return;\n",
              "\n",
              "          const docLinkHtml = 'Like what you see? Visit the ' +\n",
              "            '<a target=\"_blank\" href=https://colab.research.google.com/notebooks/data_table.ipynb>data table notebook</a>'\n",
              "            + ' to learn more about interactive tables.';\n",
              "          element.innerHTML = '';\n",
              "          dataTable['output_type'] = 'display_data';\n",
              "          await google.colab.output.renderOutput(dataTable, element);\n",
              "          const docLink = document.createElement('div');\n",
              "          docLink.innerHTML = docLinkHtml;\n",
              "          element.appendChild(docLink);\n",
              "        }\n",
              "      </script>\n",
              "    </div>\n",
              "  </div>\n",
              "  "
            ]
          },
          "metadata": {},
          "execution_count": 53
        }
      ]
    },
    {
      "cell_type": "markdown",
      "metadata": {
        "id": "Un8HHpIVi1Fj"
      },
      "source": [
        "## Iris KNN 품종 분류 실습"
      ]
    },
    {
      "cell_type": "markdown",
      "metadata": {
        "id": "YsGiQl3WcNr9"
      },
      "source": [
        "* iris 데이타를 knn으로 train 데이터 학습 \n",
        "* test 데이터 예측\n",
        "* test accuracy 계산"
      ]
    },
    {
      "cell_type": "code",
      "metadata": {
        "colab": {
          "base_uri": "https://localhost:8080/"
        },
        "id": "C46q-bQRjP_Z",
        "outputId": "8e020640-e20f-4513-94d4-3148e723fe44"
      },
      "source": [
        "X_train, X_test, y_train, y_test = train_test_split(iris.data, iris.target, random_state=0)\n",
        "\n",
        "knn = KNeighborsClassifier()\n",
        "knn.fit(X_train, y_train)\n",
        "y_pred = knn.predict(X_test)\n",
        "\n",
        "acc = np.sum(y_pred == y_test)/y_test.shape[0]\n",
        "print('acc', acc)"
      ],
      "execution_count": null,
      "outputs": [
        {
          "output_type": "stream",
          "name": "stdout",
          "text": [
            "acc 0.9736842105263158\n"
          ]
        }
      ]
    },
    {
      "cell_type": "code",
      "metadata": {
        "colab": {
          "base_uri": "https://localhost:8080/"
        },
        "id": "gES09Pa_Tqe3",
        "outputId": "5cccc338-ed7e-4e3c-a7de-95f71dd1afc5"
      },
      "source": [
        "knn.predict_proba(X_test)"
      ],
      "execution_count": null,
      "outputs": [
        {
          "output_type": "execute_result",
          "data": {
            "text/plain": [
              "array([[0. , 0. , 1. ],\n",
              "       [0. , 1. , 0. ],\n",
              "       [1. , 0. , 0. ],\n",
              "       [0. , 0. , 1. ],\n",
              "       [1. , 0. , 0. ],\n",
              "       [0. , 0. , 1. ],\n",
              "       [1. , 0. , 0. ],\n",
              "       [0. , 1. , 0. ],\n",
              "       [0. , 1. , 0. ],\n",
              "       [0. , 1. , 0. ],\n",
              "       [0. , 0. , 1. ],\n",
              "       [0. , 1. , 0. ],\n",
              "       [0. , 1. , 0. ],\n",
              "       [0. , 1. , 0. ],\n",
              "       [0. , 0.6, 0.4],\n",
              "       [1. , 0. , 0. ],\n",
              "       [0. , 0.8, 0.2],\n",
              "       [0. , 1. , 0. ],\n",
              "       [1. , 0. , 0. ],\n",
              "       [1. , 0. , 0. ],\n",
              "       [0. , 0. , 1. ],\n",
              "       [0. , 1. , 0. ],\n",
              "       [1. , 0. , 0. ],\n",
              "       [1. , 0. , 0. ],\n",
              "       [0. , 0.2, 0.8],\n",
              "       [1. , 0. , 0. ],\n",
              "       [1. , 0. , 0. ],\n",
              "       [0. , 1. , 0. ],\n",
              "       [0. , 1. , 0. ],\n",
              "       [1. , 0. , 0. ],\n",
              "       [0. , 0. , 1. ],\n",
              "       [0. , 1. , 0. ],\n",
              "       [1. , 0. , 0. ],\n",
              "       [0. , 0.2, 0.8],\n",
              "       [0. , 0. , 1. ],\n",
              "       [0. , 1. , 0. ],\n",
              "       [1. , 0. , 0. ],\n",
              "       [0. , 0. , 1. ]])"
            ]
          },
          "metadata": {},
          "execution_count": 57
        }
      ]
    },
    {
      "cell_type": "markdown",
      "metadata": {
        "id": "a65jby_zR1hZ"
      },
      "source": [
        "# 분류 평가 지표"
      ]
    },
    {
      "cell_type": "markdown",
      "metadata": {
        "id": "Yya4yIi1Ux1U"
      },
      "source": [
        "### 정확도(Accuracy)"
      ]
    },
    {
      "cell_type": "code",
      "metadata": {
        "colab": {
          "base_uri": "https://localhost:8080/"
        },
        "id": "4UOgYOeDtDTp",
        "outputId": "5d3c205e-a2a8-43fd-9d6f-5a9fcb573203"
      },
      "source": [
        "from sklearn.metrics import accuracy_score\n",
        "y_pred = knn.predict(X_test)\n",
        "\n",
        "acc1 = np.sum(y_pred == y_test)/y_test.shape[0]\n",
        "acc2 = accuracy_score(y_test, y_pred)\n",
        "acc3 = knn.score(X_test, y_test)\n",
        "\n",
        "print(acc1, acc2, acc3)"
      ],
      "execution_count": null,
      "outputs": [
        {
          "output_type": "stream",
          "name": "stdout",
          "text": [
            "0.9736842105263158 0.9736842105263158 0.9736842105263158\n"
          ]
        }
      ]
    },
    {
      "cell_type": "code",
      "metadata": {
        "colab": {
          "base_uri": "https://localhost:8080/"
        },
        "id": "bMq9s83kSCnB",
        "outputId": "2889e7b9-05d7-408b-e0ca-4f53358d2709"
      },
      "source": [
        "from sklearn.metrics import confusion_matrix\n",
        "\n",
        "y_true = np.array([0,1,1,1,1,1,1,1,1,1])\n",
        "y_pred = np.array([1,0,1,1,1,1,1,1,1,1])\n",
        "\n",
        "print(f'accuracy: {accuracy_score(y_true, y_pred)*100:.2f}%')\n",
        "\n",
        "confusion_matrix(y_true, y_pred)"
      ],
      "execution_count": null,
      "outputs": [
        {
          "output_type": "stream",
          "name": "stdout",
          "text": [
            "accuracy: 80.00%\n"
          ]
        },
        {
          "output_type": "execute_result",
          "data": {
            "text/plain": [
              "array([[0, 1],\n",
              "       [1, 8]])"
            ]
          },
          "metadata": {},
          "execution_count": 60
        }
      ]
    },
    {
      "cell_type": "code",
      "metadata": {
        "colab": {
          "base_uri": "https://localhost:8080/"
        },
        "id": "iBP_stm7g1X_",
        "outputId": "681feb42-7cde-4dae-b1fe-2973264c6869"
      },
      "source": [
        "y_true = np.array([1,0,2,0,1,2,0,1,2,0,2,1])\n",
        "y_pred = np.array([1,0,2,1,2,1,0,1,2,0,1,1])\n",
        "\n",
        "print(f'accuracy: {accuracy_score(y_true, y_pred)*100:.2f}%')\n",
        "print(confusion_matrix(y_true, y_pred))"
      ],
      "execution_count": null,
      "outputs": [
        {
          "output_type": "stream",
          "name": "stdout",
          "text": [
            "accuracy: 66.67%\n",
            "[[3 1 0]\n",
            " [0 3 1]\n",
            " [0 2 2]]\n"
          ]
        }
      ]
    },
    {
      "cell_type": "markdown",
      "metadata": {
        "id": "JVnGMz_5hdRs"
      },
      "source": [
        "### 정밀도, 재현율"
      ]
    },
    {
      "cell_type": "code",
      "metadata": {
        "colab": {
          "base_uri": "https://localhost:8080/"
        },
        "id": "alo7poGuSKER",
        "outputId": "0bde4b1b-a48d-4398-8354-4ad948a3a0d9"
      },
      "source": [
        "from sklearn.metrics import precision_score, recall_score\n",
        "\n",
        "y_true = np.array([0,0,0,0,0,1,1,1,1,1])\n",
        "y_pred = np.array([0,0,0,0,1,0,1,1,1,1])\n",
        "\n",
        "accuracy = accuracy_score(y_true, y_pred)\n",
        "precision = precision_score(y_true, y_pred)\n",
        "recall = recall_score(y_true, y_pred)\n",
        "\n",
        "print(f'accuracy:{accuracy}, precision:{precision}, recall:{recall}')"
      ],
      "execution_count": null,
      "outputs": [
        {
          "output_type": "stream",
          "name": "stdout",
          "text": [
            "accuracy:0.8, precision:0.8, recall:0.8\n"
          ]
        }
      ]
    },
    {
      "cell_type": "code",
      "metadata": {
        "colab": {
          "base_uri": "https://localhost:8080/"
        },
        "id": "mP787jijSNNf",
        "outputId": "c1e76d34-bbfb-433d-fdba-ac244c0a9d03"
      },
      "source": [
        "from sklearn.metrics import f1_score, classification_report\n",
        "\n",
        "y_true =  [0,0,0,0,0,0,0,0,1,1]\n",
        "y_pred1 = [0,0,0,0,0,0,1,1,1,1]\n",
        "y_pred2 = [0,0,0,0,0,0,0,1,0,1]\n",
        "\n",
        "for y_pred in [y_pred1, y_pred2]:\n",
        "    print(confusion_matrix(y_true, y_pred))\n",
        "    accuracy = accuracy_score(y_true, y_pred)\n",
        "    precision = precision_score(y_true, y_pred)\n",
        "    recall = recall_score(y_true, y_pred)\n",
        "    f1 = f1_score(y_true, y_pred)\n",
        "    print(f'accuracy:{accuracy}, precision:{precision},\\\n",
        "                       recall:{recall}, f1: {f1}')\n",
        "    print(classification_report(y_true, y_pred))"
      ],
      "execution_count": null,
      "outputs": [
        {
          "output_type": "stream",
          "name": "stdout",
          "text": [
            "[[6 2]\n",
            " [0 2]]\n",
            "accuracy:0.8, precision:0.5,                       recall:1.0, f1: 0.6666666666666666\n",
            "              precision    recall  f1-score   support\n",
            "\n",
            "           0       1.00      0.75      0.86         8\n",
            "           1       0.50      1.00      0.67         2\n",
            "\n",
            "    accuracy                           0.80        10\n",
            "   macro avg       0.75      0.88      0.76        10\n",
            "weighted avg       0.90      0.80      0.82        10\n",
            "\n",
            "[[7 1]\n",
            " [1 1]]\n",
            "accuracy:0.8, precision:0.5,                       recall:0.5, f1: 0.5\n",
            "              precision    recall  f1-score   support\n",
            "\n",
            "           0       0.88      0.88      0.88         8\n",
            "           1       0.50      0.50      0.50         2\n",
            "\n",
            "    accuracy                           0.80        10\n",
            "   macro avg       0.69      0.69      0.69        10\n",
            "weighted avg       0.80      0.80      0.80        10\n",
            "\n"
          ]
        }
      ]
    },
    {
      "cell_type": "markdown",
      "metadata": {
        "id": "N1vCmn9zqiGC"
      },
      "source": [
        "## ROC, AUC"
      ]
    },
    {
      "cell_type": "code",
      "metadata": {
        "colab": {
          "base_uri": "https://localhost:8080/",
          "height": 350
        },
        "id": "1GTDMiXOSdyY",
        "outputId": "53b529fe-3960-4e99-fa02-8cefd269f83e"
      },
      "source": [
        "from sklearn.metrics import roc_curve, roc_auc_score\n",
        "\n",
        "\n",
        "y_true =  [0,0,0,0,0,0,0,0,1,1]\n",
        "y_pred1 = [0,0,0,0,0,0,1,1,1,1]\n",
        "y_pred2 = [0,0,0,0,0,0,0,1,0,1]\n",
        "\n",
        "fpr1, tpr1, thresh1 = roc_curve(y_true, y_pred1)\n",
        "fpr2, tpr2, thresh2 = roc_curve(y_true, y_pred2)\n",
        "\n",
        "plt.xlabel('FPR'); plt.ylabel('TPR')\n",
        "plt.plot(fpr1, tpr1, label='pred1', marker='o')\n",
        "plt.plot(fpr2, tpr2, label='pred2', marker='o')\n",
        "plt.plot([0,1], [0,1], 'k--', label='random')\n",
        "plt.legend()\n",
        "\n",
        "print('auc1:', roc_auc_score(y_true, y_pred1))\n",
        "print('auc2:', roc_auc_score(y_true, y_pred2))\n",
        "print('pred1', fpr1, tpr1, thresh1)\n",
        "print('pred2', fpr2, tpr2, thresh2)"
      ],
      "execution_count": null,
      "outputs": [
        {
          "output_type": "stream",
          "name": "stdout",
          "text": [
            "auc1: 0.875\n",
            "auc2: 0.6875\n",
            "pred1 [0.   0.25 1.  ] [0. 1. 1.] [2 1 0]\n",
            "pred2 [0.    0.125 1.   ] [0.  0.5 1. ] [2 1 0]\n"
          ]
        },
        {
          "output_type": "display_data",
          "data": {
            "text/plain": [
              "<Figure size 432x288 with 1 Axes>"
            ],
            "image/png": "[encoded data removed]"
          },
          "metadata": {
            "needs_background": "light"
          }
        }
      ]
    },
    {
      "cell_type": "markdown",
      "metadata": {
        "id": "pl_rc5IeiQkx"
      },
      "source": [
        "### 유방암 데이터로 ROC 실습\n",
        "* `load_breast_cancer()`\n"
      ]
    },
    {
      "cell_type": "code",
      "source": [
        "from sklearn.datasets import load_breast_cancer\n",
        "cancer = load_breast_cancer()\n",
        "print(cancer.DESCR)\n",
        "\n",
        "df = pd.DataFrame(cancer.data, columns=cancer.feature_names)\n",
        "df['class'] = cancer.target\n",
        "df"
      ],
      "metadata": {
        "id": "gVcw6ZWFUKYK"
      },
      "execution_count": null,
      "outputs": []
    },
    {
      "cell_type": "markdown",
      "source": [
        ""
      ],
      "metadata": {
        "id": "qfnKrXpcIvlh"
      }
    },
    {
      "cell_type": "code",
      "source": [
        "df['class'].value_counts()"
      ],
      "metadata": {
        "colab": {
          "base_uri": "https://localhost:8080/"
        },
        "id": "2LBCl1zCYYDJ",
        "outputId": "d7e14286-0acb-4bba-eb70-eb56e7566c41"
      },
      "execution_count": null,
      "outputs": [
        {
          "output_type": "execute_result",
          "data": {
            "text/plain": [
              "1    357\n",
              "0    212\n",
              "Name: class, dtype: int64"
            ]
          },
          "metadata": {},
          "execution_count": 74
        }
      ]
    },
    {
      "cell_type": "code",
      "metadata": {
        "colab": {
          "base_uri": "https://localhost:8080/",
          "height": 300
        },
        "id": "5odNQ-eniPJ_",
        "outputId": "221aa862-6d1f-4af9-f688-5312b3c867df"
      },
      "source": [
        "X_train, X_test, y_train, y_test = train_test_split(cancer.data, cancer.target, random_state=0)\n",
        "\n",
        "knn = KNeighborsClassifier()\n",
        "knn.fit(X_train, y_train)\n",
        "y_pred = knn.predict(X_test)\n",
        "\n",
        "print('acc:', knn.score(X_test, y_test))\n",
        "fpr, tpr, thresh = roc_curve(y_test, y_pred)\n",
        "plt.plot(fpr, tpr, marker='o')\n",
        "plt.plot([0,1], 'k--')\n",
        "print(fpr, tpr, thresh)"
      ],
      "execution_count": null,
      "outputs": [
        {
          "output_type": "stream",
          "name": "stdout",
          "text": [
            "acc: 0.9370629370629371\n",
            "[0.        0.0754717 1.       ] [0.         0.94444444 1.        ] [2 1 0]\n"
          ]
        },
        {
          "output_type": "display_data",
          "data": {
            "text/plain": [
              "<Figure size 432x288 with 1 Axes>"
            ],
            "image/png": "[encoded data removed]"
          },
          "metadata": {
            "needs_background": "light"
          }
        }
      ]
    },
    {
      "cell_type": "markdown",
      "source": [
        "### 예측 확률로 ROC 실습\n",
        "* `knn.predict_proba(X_test)`"
      ],
      "metadata": {
        "id": "oZ4PQMT35hGS"
      }
    },
    {
      "cell_type": "code",
      "metadata": {
        "colab": {
          "base_uri": "https://localhost:8080/"
        },
        "id": "5p8wtPDBpMV6",
        "outputId": "62f98ed1-63c3-4869-c074-8b143290c93a"
      },
      "source": [
        "y_proba = knn.predict_proba(X_test)\n",
        "print(y_proba.shape)\n",
        "print(y_proba[:5])\n",
        "print(y_pred[:5])"
      ],
      "execution_count": null,
      "outputs": [
        {
          "output_type": "stream",
          "name": "stdout",
          "text": [
            "(143, 2)\n",
            "[[0.6 0.4]\n",
            " [0.  1. ]\n",
            " [0.  1. ]\n",
            " [0.6 0.4]\n",
            " [0.  1. ]]\n",
            "[0 1 1 0 1]\n"
          ]
        }
      ]
    },
    {
      "cell_type": "markdown",
      "source": [
        "### Best Threshold\n",
        "```python\n",
        "best_idx = np.argmax(tpr - fpr)\n",
        "best_thresh = thresh[best_idx]\n",
        "```"
      ],
      "metadata": {
        "id": "XpT5CJAehtyc"
      }
    },
    {
      "cell_type": "code",
      "metadata": {
        "colab": {
          "base_uri": "https://localhost:8080/",
          "height": 318
        },
        "id": "jINwWCymojDg",
        "outputId": "6d717786-741a-4ee2-f0f2-2223ebc3a0a1"
      },
      "source": [
        "fpr, tpr, thresh = roc_curve(y_test, y_proba[:, 1])\n",
        "plt.plot([0,1], 'k--')\n",
        "plt.plot(fpr, tpr, marker='o')\n",
        "print(thresh)\n",
        "\n",
        "best_idx = np.argmax(tpr-fpr)\n",
        "best_thresh = thresh[best_idx]\n",
        "print('best thresh:', best_thresh)\n",
        "for i, t in enumerate(thresh):\n",
        "  if i!= best_idx:\n",
        "    plt.annotate(t, xy=(fpr[i], tpr[i]))\n",
        "plt.annotate(best_thresh, xy=(fpr[best_idx], tpr[best_idx]), fontweight='heavy', fontsize='xx-large')"
      ],
      "execution_count": null,
      "outputs": [
        {
          "output_type": "stream",
          "name": "stdout",
          "text": [
            "[2.  1.  0.8 0.6 0.4 0.2 0. ]\n",
            "best thresh: 0.6\n"
          ]
        },
        {
          "output_type": "execute_result",
          "data": {
            "text/plain": [
              "Text(0.07547169811320754, 0.9444444444444444, '0.6')"
            ]
          },
          "metadata": {},
          "execution_count": 86
        },
        {
          "output_type": "display_data",
          "data": {
            "text/plain": [
              "<Figure size 432x288 with 1 Axes>"
            ],
            "image/png": "[encoded data removed]"
          },
          "metadata": {
            "needs_background": "light"
          }
        }
      ]
    },
    {
      "cell_type": "code",
      "metadata": {
        "colab": {
          "base_uri": "https://localhost:8080/"
        },
        "id": "pxgLkhbHrNRY",
        "outputId": "615ec568-acf4-4667-f628-a4f04013eb5b"
      },
      "source": [
        "y_pred2 = y_proba[:, 1] >= best_thresh\n",
        "np.all(y_pred2 == y_pred)"
      ],
      "execution_count": null,
      "outputs": [
        {
          "output_type": "execute_result",
          "data": {
            "text/plain": [
              "True"
            ]
          },
          "metadata": {},
          "execution_count": 89
        }
      ]
    },
    {
      "cell_type": "code",
      "metadata": {
        "colab": {
          "base_uri": "https://localhost:8080/"
        },
        "id": "XGqLxSm2NpUD",
        "outputId": "0b3478ea-0e8c-4632-cce8-7f189716edac"
      },
      "source": [
        "accuracy_score(y_test, y_pred2),  accuracy_score(y_test, y_pred)"
      ],
      "execution_count": null,
      "outputs": [
        {
          "output_type": "execute_result",
          "data": {
            "text/plain": [
              "(0.9370629370629371, 0.9370629370629371)"
            ]
          },
          "metadata": {},
          "execution_count": 91
        }
      ]
    },
    {
      "cell_type": "markdown",
      "source": [
        "### Multi-Class ROC"
      ],
      "metadata": {
        "id": "CXg02HVIsr_s"
      }
    },
    {
      "cell_type": "code",
      "source": [
        "from sklearn.metrics import auc, roc_curve\n",
        "\n",
        "iris = load_iris()\n",
        "X_train, X_test, y_train, y_test = train_test_split(iris.data,\n",
        "                                                    iris.target,\n",
        "                                                    random_state=0)\n",
        "knn = KNeighborsClassifier()\n",
        "knn.fit(X_train, y_train)\n",
        "y_proba = knn.predict_proba(X_test)\n",
        "\n",
        "plt.xlabel('FPR');plt.ylabel('TPR')\n",
        "for i, target_name in enumerate(iris.target_names):\n",
        "  fpr, tpr, thresh = roc_curve(y_test, y_proba[:, i], pos_label=i)\n",
        "  score = auc(fpr, tpr)\n",
        "  plt.plot(fpr, tpr, marker='o', label=f'{target_name} AUC:{score:.2f}')\n",
        "_ = plt.legend()"
      ],
      "metadata": {
        "colab": {
          "base_uri": "https://localhost:8080/",
          "height": 279
        },
        "id": "cnIDXVyEsqXD",
        "outputId": "04e7e3ca-b0a6-4503-f6bc-a34f64bcb50d"
      },
      "execution_count": null,
      "outputs": [
        {
          "output_type": "display_data",
          "data": {
            "text/plain": [
              "<Figure size 432x288 with 1 Axes>"
            ],
            "image/png": "[encoded data removed]"
          },
          "metadata": {
            "needs_background": "light"
          }
        }
      ]
    },
    {
      "cell_type": "markdown",
      "metadata": {
        "id": "fDXnbuCFK4Qg"
      },
      "source": [
        "# 표준화 정규화"
      ]
    },
    {
      "cell_type": "markdown",
      "metadata": {
        "id": "5zfQFzvRcdyL"
      },
      "source": [
        "## 임의의 수 표준화 실습\n",
        "* `[2,8,10]` \n",
        "* 표준화 계산\n",
        "* StandarsScaler 실습"
      ]
    },
    {
      "cell_type": "code",
      "metadata": {
        "id": "URVpnMLFK4Qg",
        "colab": {
          "base_uri": "https://localhost:8080/"
        },
        "outputId": "ec252915-097a-4810-d2ce-9edb20cc62cb"
      },
      "source": [
        "from sklearn.preprocessing import StandardScaler\n",
        "\n",
        "arr = np.array([2,8,10], dtype=np.float32).reshape(-1,1)\n",
        "print(f'mean: {arr.mean()}, var: {arr.var()}, std : {arr.std()}')\n",
        "\n",
        "print( (arr - arr.mean()) / arr.std())\n",
        "\n",
        "scaler = StandardScaler()\n",
        "scaler.fit(arr)\n",
        "print(scaler.transform(arr))"
      ],
      "execution_count": null,
      "outputs": [
        {
          "output_type": "stream",
          "name": "stdout",
          "text": [
            "mean: 6.666666507720947, var: 11.555556297302246, std : 3.399346351623535\n",
            "[[-1.3728129 ]\n",
            " [ 0.39223233]\n",
            " [ 0.98058075]]\n",
            "[[-1.3728129 ]\n",
            " [ 0.39223227]\n",
            " [ 0.9805806 ]]\n"
          ]
        }
      ]
    },
    {
      "cell_type": "code",
      "source": [
        "scaler = StandardScaler()\n",
        "scaler.fit_transform(arr)"
      ],
      "metadata": {
        "colab": {
          "base_uri": "https://localhost:8080/"
        },
        "id": "M8rilDoFVPe1",
        "outputId": "5d0b1074-927f-4a1c-9529-d93573869d14"
      },
      "execution_count": null,
      "outputs": [
        {
          "output_type": "execute_result",
          "data": {
            "text/plain": [
              "array([[-1.3728129 ],\n",
              "       [ 0.39223227],\n",
              "       [ 0.9805806 ]], dtype=float32)"
            ]
          },
          "metadata": {},
          "execution_count": 97
        }
      ]
    },
    {
      "cell_type": "code",
      "source": [
        "StandardScaler().fit_transform(arr)"
      ],
      "metadata": {
        "colab": {
          "base_uri": "https://localhost:8080/"
        },
        "id": "9YmOsuMHVWUt",
        "outputId": "2b8caeed-0fd2-41cc-99c9-4c54b41035ab"
      },
      "execution_count": null,
      "outputs": [
        {
          "output_type": "execute_result",
          "data": {
            "text/plain": [
              "array([[-1.3728129 ],\n",
              "       [ 0.39223227],\n",
              "       [ 0.9805806 ]], dtype=float32)"
            ]
          },
          "metadata": {},
          "execution_count": 98
        }
      ]
    },
    {
      "cell_type": "markdown",
      "metadata": {
        "id": "PVLLkxBGchB9"
      },
      "source": [
        "## Iris 데이터 표준화 실습\n",
        "* iris 0,1 feature 표준화 및 시각화"
      ]
    },
    {
      "cell_type": "code",
      "metadata": {
        "id": "TzYBhZcVK4Qk",
        "colab": {
          "base_uri": "https://localhost:8080/",
          "height": 516
        },
        "outputId": "b250923f-c74c-4427-9762-459da54d137f"
      },
      "source": [
        "iris = load_iris()\n",
        "data = iris.data\n",
        "\n",
        "plt.plot(data[:, 0], data[:, 1], '.')\n",
        "plt.grid()\n",
        "plt.show()\n",
        "\n",
        "scaled = StandardScaler().fit_transform(data)\n",
        "plt.plot(scaled[:, 0], scaled[:,1], '.')\n",
        "plt.grid()\n",
        "plt.show()"
      ],
      "execution_count": null,
      "outputs": [
        {
          "output_type": "display_data",
          "data": {
            "text/plain": [
              "<Figure size 432x288 with 1 Axes>"
            ],
            "image/png": "[encoded data removed]"
          },
          "metadata": {
            "needs_background": "light"
          }
        },
        {
          "output_type": "display_data",
          "data": {
            "text/plain": [
              "<Figure size 432x288 with 1 Axes>"
            ],
            "image/png": "[encoded data removed]"
          },
          "metadata": {
            "needs_background": "light"
          }
        }
      ]
    },
    {
      "cell_type": "markdown",
      "metadata": {
        "id": "7bQqZJXpm6Jz"
      },
      "source": [
        "## 표준화의 필요성"
      ]
    },
    {
      "cell_type": "markdown",
      "metadata": {
        "id": "te1sSeTRcj_T"
      },
      "source": [
        "* `x = np.load('standard.npy')`\n",
        "* `y = np.concatenate((np.ones(35), np.zeros(14)))`"
      ]
    },
    {
      "cell_type": "code",
      "metadata": {
        "colab": {
          "base_uri": "https://localhost:8080/",
          "height": 283
        },
        "id": "v-PwjxZfm74z",
        "outputId": "f3b2b37c-e11f-40f3-d1ff-ceffcbd3e670"
      },
      "source": [
        "\n",
        "x = np.array([[  25.4,  242. ],\n",
        "       [  26.3,  290. ],\n",
        "       [  26.5,  340. ],\n",
        "       [  29. ,  363. ],\n",
        "       [  29. ,  430. ],\n",
        "       [  29.7,  450. ],\n",
        "       [  29.7,  500. ],\n",
        "       [  30. ,  390. ],\n",
        "       [  30. ,  450. ],\n",
        "       [  30.7,  500. ],\n",
        "       [  31. ,  475. ],\n",
        "       [  31. ,  500. ],\n",
        "       [  31.5,  500. ],\n",
        "       [  32. ,  340. ],\n",
        "       [  32. ,  600. ],\n",
        "       [  32. ,  600. ],\n",
        "       [  33. ,  700. ],\n",
        "       [  33. ,  700. ],\n",
        "       [  33.5,  610. ],\n",
        "       [  33.5,  650. ],\n",
        "       [  34. ,  575. ],\n",
        "       [  34. ,  685. ],\n",
        "       [  34.5,  620. ],\n",
        "       [  35. ,  680. ],\n",
        "       [  35. ,  700. ],\n",
        "       [  35. ,  725. ],\n",
        "       [  35. ,  720. ],\n",
        "       [  36. ,  714. ],\n",
        "       [  36. ,  850. ],\n",
        "       [  37. , 1000. ],\n",
        "       [  38.5,  920. ],\n",
        "       [  38.5,  955. ],\n",
        "       [  39.5,  925. ],\n",
        "       [  41. ,  975. ],\n",
        "       [  41. ,  950. ],\n",
        "       [   9.8,    6.7],\n",
        "       [  10.5,    7.5],\n",
        "       [  10.6,    7. ],\n",
        "       [  11. ,    9.7],\n",
        "       [  11.2,    9.8],\n",
        "       [  11.3,    8.7],\n",
        "       [  11.8,   10. ],\n",
        "       [  11.8,    9.9],\n",
        "       [  12. ,    9.8],\n",
        "       [  12.2,   12.2],\n",
        "       [  12.4,   13.4],\n",
        "       [  13. ,   12.2],\n",
        "       [  14.3,   19.7],\n",
        "       [  15. ,   19.9]])\n",
        "       \n",
        "y = np.concatenate((np.ones(35), np.zeros(14)))\n",
        "newb = np.array([[25, 150]])\n",
        " \n",
        "sns.scatterplot(x=x[:, 0], y=x[:, 1], hue=y)\n",
        "plt.plot(newb[0,0], newb[0,1], 'g*')"
      ],
      "execution_count": null,
      "outputs": [
        {
          "output_type": "execute_result",
          "data": {
            "text/plain": [
              "[<matplotlib.lines.Line2D at 0x7fdcdb7a4850>]"
            ]
          },
          "metadata": {},
          "execution_count": 102
        },
        {
          "output_type": "display_data",
          "data": {
            "text/plain": [
              "<Figure size 432x288 with 1 Axes>"
            ],
            "image/png": "[encoded data removed]"
          },
          "metadata": {
            "needs_background": "light"
          }
        }
      ]
    },
    {
      "cell_type": "code",
      "metadata": {
        "colab": {
          "base_uri": "https://localhost:8080/"
        },
        "id": "Vpqf2Oa_nGwr",
        "outputId": "425000d0-6b06-40c4-e531-8e8931f1595e"
      },
      "source": [
        "knn = KNeighborsClassifier()\n",
        "knn.fit(x, y)\n",
        "acc = knn.score(x, y)\n",
        "print('acc:', acc)\n",
        "\n",
        "y_pred = knn.predict(newb)\n",
        "print('pred:', y_pred)"
      ],
      "execution_count": null,
      "outputs": [
        {
          "output_type": "stream",
          "name": "stdout",
          "text": [
            "acc: 1.0\n",
            "pred: [0.]\n"
          ]
        }
      ]
    },
    {
      "cell_type": "code",
      "metadata": {
        "colab": {
          "base_uri": "https://localhost:8080/"
        },
        "id": "syaEkJiqnKCM",
        "outputId": "c67710ff-89c0-422b-9c53-85657dfac9bb"
      },
      "source": [
        "dist, idx = knn.kneighbors(newb)\n",
        "dist, idx"
      ],
      "execution_count": null,
      "outputs": [
        {
          "output_type": "execute_result",
          "data": {
            "text/plain": [
              "(array([[ 92.00086956, 130.48375378, 130.73859415, 137.17988191,\n",
              "         138.32150953]]), array([[ 0, 48, 47, 45, 46]]))"
            ]
          },
          "metadata": {},
          "execution_count": 104
        }
      ]
    },
    {
      "cell_type": "code",
      "metadata": {
        "colab": {
          "base_uri": "https://localhost:8080/",
          "height": 265
        },
        "id": "8AAXwMrPnLkP",
        "outputId": "ed7d31bd-e93d-4700-9a92-609139ad657e"
      },
      "source": [
        "sns.scatterplot(x=x[:, 0], y=x[:, 1], hue=y)\n",
        "plt.plot(newb[0,0], newb[0,1], 'g*')\n",
        "_ = plt.plot(x[idx,0], x[idx,1], 'go')"
      ],
      "execution_count": null,
      "outputs": [
        {
          "output_type": "display_data",
          "data": {
            "image/png": "[encoded data removed]",
            "text/plain": [
              "<Figure size 432x288 with 1 Axes>"
            ]
          },
          "metadata": {
            "tags": [],
            "needs_background": "light"
          }
        }
      ]
    },
    {
      "cell_type": "code",
      "metadata": {
        "colab": {
          "base_uri": "https://localhost:8080/",
          "height": 283
        },
        "id": "f2w66luWnNpD",
        "outputId": "55bec35b-5633-4645-b62e-dc9ed94769be"
      },
      "source": [
        "from sklearn.preprocessing import StandardScaler\n",
        "\n",
        "std = StandardScaler()\n",
        "std.fit(x)\n",
        "x_t = std.transform(x)\n",
        "\n",
        "sns.scatterplot(x=x_t[:, 0], y=x_t[:, 1], hue=y)\n",
        "newb_t = std.transform(newb)\n",
        "plt.plot(newb_t[0,0], newb_t[0,1], 'g*')"
      ],
      "execution_count": null,
      "outputs": [
        {
          "output_type": "execute_result",
          "data": {
            "text/plain": [
              "[<matplotlib.lines.Line2D at 0x7fdcdb87de10>]"
            ]
          },
          "metadata": {},
          "execution_count": 105
        },
        {
          "output_type": "display_data",
          "data": {
            "text/plain": [
              "<Figure size 432x288 with 1 Axes>"
            ],
            "image/png": "[encoded data removed]"
          },
          "metadata": {
            "needs_background": "light"
          }
        }
      ]
    },
    {
      "cell_type": "code",
      "metadata": {
        "colab": {
          "base_uri": "https://localhost:8080/"
        },
        "id": "5JwLgGqgnP3s",
        "outputId": "e012509b-14cc-4afe-80c9-91003ee97eca"
      },
      "source": [
        "knn2 = KNeighborsClassifier()\n",
        "knn2.fit(x_t, y)\n",
        "knn2.predict(newb_t)"
      ],
      "execution_count": null,
      "outputs": [
        {
          "output_type": "execute_result",
          "data": {
            "text/plain": [
              "array([1.])"
            ]
          },
          "metadata": {},
          "execution_count": 106
        }
      ]
    },
    {
      "cell_type": "markdown",
      "metadata": {
        "id": "lP4Wx8jKK4Qo"
      },
      "source": [
        "## MinMaxScaler"
      ]
    },
    {
      "cell_type": "markdown",
      "metadata": {
        "id": "1R8MjxT9cmip"
      },
      "source": [
        "* `[2,8,10]` \n",
        "* min max 정규화 계산\n",
        "* MinMaxScaler 사용"
      ]
    },
    {
      "cell_type": "code",
      "metadata": {
        "id": "Bje2_qYXK4Qp",
        "colab": {
          "base_uri": "https://localhost:8080/"
        },
        "outputId": "36e8dcf8-183e-4d90-beff-992df5a4308e"
      },
      "source": [
        "from sklearn.preprocessing import MinMaxScaler\n",
        "\n",
        "arr = np.array([2,8,10], dtype=np.float32).reshape(-1,1)\n",
        "print(f\"before:{arr}\")\n",
        "\n",
        "print((arr - np.min(arr)) / (np.max(arr) - np.min(arr)))\n",
        "\n",
        "scaler = MinMaxScaler()\n",
        "scaler.fit(arr)\n",
        "print(scaler.transform(arr))"
      ],
      "execution_count": null,
      "outputs": [
        {
          "output_type": "stream",
          "name": "stdout",
          "text": [
            "before:[[ 2.]\n",
            " [ 8.]\n",
            " [10.]]\n",
            "[[0.  ]\n",
            " [0.75]\n",
            " [1.  ]]\n",
            "[[0.  ]\n",
            " [0.75]\n",
            " [1.  ]]\n"
          ]
        }
      ]
    },
    {
      "cell_type": "markdown",
      "metadata": {
        "id": "ZrI4BzwncqhV"
      },
      "source": [
        "* iris 0,1 feature 정규화 및 시각화"
      ]
    },
    {
      "cell_type": "code",
      "metadata": {
        "id": "r3ZgxieWK4Qu",
        "colab": {
          "base_uri": "https://localhost:8080/",
          "height": 516
        },
        "outputId": "0fd08cdf-7a3f-4727-d6f7-ac973b96cc78"
      },
      "source": [
        "from sklearn.preprocessing import MinMaxScaler\n",
        "\n",
        "iris = load_iris()\n",
        "data = iris.data\n",
        "plt.plot(data[:, 0], data[:, 1], '.')\n",
        "plt.grid()\n",
        "plt.show()\n",
        "\n",
        "\n",
        "scaled = MinMaxScaler().fit_transform(iris.data)\n",
        "plt.plot(scaled[:, 0], scaled[:, 1], '.')\n",
        "plt.grid()\n",
        "plt.show()"
      ],
      "execution_count": null,
      "outputs": [
        {
          "output_type": "display_data",
          "data": {
            "text/plain": [
              "<Figure size 432x288 with 1 Axes>"
            ],
            "image/png": "[encoded data removed]"
          },
          "metadata": {
            "needs_background": "light"
          }
        },
        {
          "output_type": "display_data",
          "data": {
            "text/plain": [
              "<Figure size 432x288 with 1 Axes>"
            ],
            "image/png": "[encoded data removed]"
          },
          "metadata": {
            "needs_background": "light"
          }
        }
      ]
    },
    {
      "cell_type": "markdown",
      "metadata": {
        "id": "UEtJ57GvuEpI"
      },
      "source": [
        "## Iris 표준화 후 kNN 분류 실습"
      ]
    },
    {
      "cell_type": "markdown",
      "metadata": {
        "id": "vsFU5YHWctHC"
      },
      "source": [
        "* iris 데이터 표준화 후 학습 및 평가"
      ]
    },
    {
      "cell_type": "code",
      "metadata": {
        "colab": {
          "base_uri": "https://localhost:8080/"
        },
        "id": "ukcRgJiTq5iq",
        "outputId": "abdfd395-f3ad-4c93-8adc-87cbd5a50e14"
      },
      "source": [
        "std_scaler = StandardScaler()\n",
        "X = std_scaler.fit_transform(iris.data)\n",
        "\n",
        "X_train, X_test, y_train, y_test = train_test_split(X, iris.target, random_state=0)\n",
        "knn = KNeighborsClassifier()\n",
        "knn.fit(X_train, y_train)\n",
        "acc = knn.score(X_test, y_test)\n",
        "print('acc:', acc)"
      ],
      "execution_count": null,
      "outputs": [
        {
          "output_type": "stream",
          "name": "stdout",
          "text": [
            "acc: 0.9736842105263158\n"
          ]
        }
      ]
    },
    {
      "cell_type": "markdown",
      "source": [
        "## Pipeline\n",
        "* `sklearn.pipeline.Pipeline`\n"
      ],
      "metadata": {
        "id": "1_HWSRc999O3"
      }
    },
    {
      "cell_type": "code",
      "source": [
        "from sklearn.pipeline import Pipeline\n",
        "\n",
        "iris = load_iris()\n",
        "X_train, X_test, y_train, y_test = train_test_split(iris.data, iris.target, random_state=0)\n",
        "\n",
        "scaler = StandardScaler()\n",
        "scaler.fit(X_train)\n",
        "\n",
        "X_train_scale = scaler.transform(X_train)\n",
        "knn = KNeighborsClassifier()\n",
        "knn.fit(X_train_scale, y_train)\n",
        "\n",
        "X_test_scale = scaler.transform(X_test)\n",
        "acc = knn.score(X_test_scale, y_test)\n",
        "print('acc:', acc)"
      ],
      "metadata": {
        "colab": {
          "base_uri": "https://localhost:8080/"
        },
        "id": "uHbN_30Q-H_3",
        "outputId": "c200f94d-04b1-4f15-8bd7-4d3ad543ca7d"
      },
      "execution_count": null,
      "outputs": [
        {
          "output_type": "stream",
          "name": "stdout",
          "text": [
            "acc: 0.9736842105263158\n"
          ]
        }
      ]
    },
    {
      "cell_type": "code",
      "source": [
        "iris = load_iris()\n",
        "X_train, X_test, y_train, y_test = train_test_split(iris.data, iris.target, random_state=0)\n",
        "\n",
        "scaler = StandardScaler()\n",
        "knn = KNeighborsClassifier()\n",
        "\n",
        "pipe = Pipeline([ ('std', scaler), ('knn', knn)])\n",
        "pipe.fit(X_train, y_train)\n",
        "\n",
        "y_pred = pipe.predict(X_test)\n",
        "acc = pipe.score(X_test, y_test)\n",
        "print('acc:', acc)"
      ],
      "metadata": {
        "colab": {
          "base_uri": "https://localhost:8080/"
        },
        "id": "ZKm3Der5iNM-",
        "outputId": "960417af-0d2d-45a8-8375-cd6623755f41"
      },
      "execution_count": null,
      "outputs": [
        {
          "output_type": "stream",
          "name": "stdout",
          "text": [
            "acc: 0.9736842105263158\n"
          ]
        }
      ]
    },
    {
      "cell_type": "code",
      "source": [
        "pipe.steps"
      ],
      "metadata": {
        "colab": {
          "base_uri": "https://localhost:8080/"
        },
        "id": "67BC8E1qbkZ0",
        "outputId": "c80a7faf-c1b9-45c8-dc0c-e768f65837ed"
      },
      "execution_count": null,
      "outputs": [
        {
          "output_type": "execute_result",
          "data": {
            "text/plain": [
              "[('std', StandardScaler()), ('knn', KNeighborsClassifier())]"
            ]
          },
          "metadata": {},
          "execution_count": 116
        }
      ]
    },
    {
      "cell_type": "code",
      "source": [
        "pipe.named_steps"
      ],
      "metadata": {
        "colab": {
          "base_uri": "https://localhost:8080/"
        },
        "id": "IcWfxJaCbnTM",
        "outputId": "cee76069-bf11-43a9-f5e3-877606e40b8d"
      },
      "execution_count": null,
      "outputs": [
        {
          "output_type": "execute_result",
          "data": {
            "text/plain": [
              "{'knn': KNeighborsClassifier(), 'std': StandardScaler()}"
            ]
          },
          "metadata": {},
          "execution_count": 117
        }
      ]
    },
    {
      "cell_type": "code",
      "source": [
        "pipe[1], pipe['knn']"
      ],
      "metadata": {
        "colab": {
          "base_uri": "https://localhost:8080/"
        },
        "id": "UD2eOjUabscr",
        "outputId": "07eb0a23-8834-459d-9863-b55107ec2a8d"
      },
      "execution_count": null,
      "outputs": [
        {
          "output_type": "execute_result",
          "data": {
            "text/plain": [
              "(KNeighborsClassifier(), KNeighborsClassifier())"
            ]
          },
          "metadata": {},
          "execution_count": 118
        }
      ]
    },
    {
      "cell_type": "code",
      "source": [
        "pipe.set_params(knn__n_neighbors=1)"
      ],
      "metadata": {
        "colab": {
          "base_uri": "https://localhost:8080/"
        },
        "id": "dRWPXkq4bv60",
        "outputId": "8d8eeee3-3c77-4f48-bdf1-7d7fb6d16a6e"
      },
      "execution_count": null,
      "outputs": [
        {
          "output_type": "execute_result",
          "data": {
            "text/plain": [
              "Pipeline(steps=[('std', StandardScaler()),\n",
              "                ('knn', KNeighborsClassifier(n_neighbors=1))])"
            ]
          },
          "metadata": {},
          "execution_count": 119
        }
      ]
    },
    {
      "cell_type": "markdown",
      "metadata": {
        "id": "thYoaN9LuWdo"
      },
      "source": [
        "# 손글씨 숫자 분류\n",
        "* `load_digits()`"
      ]
    },
    {
      "cell_type": "code",
      "metadata": {
        "colab": {
          "base_uri": "https://localhost:8080/",
          "height": 252
        },
        "id": "7oQ34tQWuXyj",
        "outputId": "7782a4a3-66fe-40da-f4aa-ee671504bdd4"
      },
      "source": [
        "from sklearn.datasets import load_digits\n",
        "\n",
        "digits = load_digits()\n",
        "#print(digits.DESCR)\n",
        "\n",
        "print(digits.data.shape, np.min(digits.data), np.max(digits.data))\n",
        "print(digits.images.shape)\n",
        "\n",
        "plt.subplot(1,2,1)\n",
        "plt.imshow(digits.images[0], cmap='gray')\n",
        "plt.title(digits.target[0])\n",
        "plt.axis('off')\n",
        "\n",
        "plt.subplot(1,2,2)\n",
        "plt.imshow(digits.data[0].reshape(8,8), cmap='gray')\n",
        "plt.axis('off')\n",
        "plt.title(digits.target[0])"
      ],
      "execution_count": null,
      "outputs": [
        {
          "output_type": "stream",
          "name": "stdout",
          "text": [
            "(1797, 64) 0.0 16.0\n",
            "(1797, 8, 8)\n"
          ]
        },
        {
          "output_type": "execute_result",
          "data": {
            "text/plain": [
              "Text(0.5, 1.0, '0')"
            ]
          },
          "metadata": {},
          "execution_count": 130
        },
        {
          "output_type": "display_data",
          "data": {
            "text/plain": [
              "<Figure size 432x288 with 2 Axes>"
            ],
            "image/png": "[encoded data removed]"
          },
          "metadata": {
            "needs_background": "light"
          }
        }
      ]
    },
    {
      "cell_type": "code",
      "source": [
        "print(digits.DESCR)"
      ],
      "metadata": {
        "colab": {
          "base_uri": "https://localhost:8080/"
        },
        "id": "M2EbbhOioUN1",
        "outputId": "7e17159c-8787-4d15-fe0e-be79c5f4c2b9"
      },
      "execution_count": null,
      "outputs": [
        {
          "output_type": "stream",
          "name": "stdout",
          "text": [
            ".. _digits_dataset:\n",
            "\n",
            "Optical recognition of handwritten digits dataset\n",
            "--------------------------------------------------\n",
            "\n",
            "**Data Set Characteristics:**\n",
            "\n",
            "    :Number of Instances: 1797\n",
            "    :Number of Attributes: 64\n",
            "    :Attribute Information: 8x8 image of integer pixels in the range 0..16.\n",
            "    :Missing Attribute Values: None\n",
            "    :Creator: E. Alpaydin (alpaydin '@' boun.edu.tr)\n",
            "    :Date: July; 1998\n",
            "\n",
            "This is a copy of the test set of the UCI ML hand-written digits datasets\n",
            "https://archive.ics.uci.edu/ml/datasets/Optical+Recognition+of+Handwritten+Digits\n",
            "\n",
            "The data set contains images of hand-written digits: 10 classes where\n",
            "each class refers to a digit.\n",
            "\n",
            "Preprocessing programs made available by NIST were used to extract\n",
            "normalized bitmaps of handwritten digits from a preprinted form. From a\n",
            "total of 43 people, 30 contributed to the training set and different 13\n",
            "to the test set. 32x32 bitmaps are divided into nonoverlapping blocks of\n",
            "4x4 and the number of on pixels are counted in each block. This generates\n",
            "an input matrix of 8x8 where each element is an integer in the range\n",
            "0..16. This reduces dimensionality and gives invariance to small\n",
            "distortions.\n",
            "\n",
            "For info on NIST preprocessing routines, see M. D. Garris, J. L. Blue, G.\n",
            "T. Candela, D. L. Dimmick, J. Geist, P. J. Grother, S. A. Janet, and C.\n",
            "L. Wilson, NIST Form-Based Handprint Recognition System, NISTIR 5469,\n",
            "1994.\n",
            "\n",
            ".. topic:: References\n",
            "\n",
            "  - C. Kaynak (1995) Methods of Combining Multiple Classifiers and Their\n",
            "    Applications to Handwritten Digit Recognition, MSc Thesis, Institute of\n",
            "    Graduate Studies in Science and Engineering, Bogazici University.\n",
            "  - E. Alpaydin, C. Kaynak (1998) Cascading Classifiers, Kybernetika.\n",
            "  - Ken Tang and Ponnuthurai N. Suganthan and Xi Yao and A. Kai Qin.\n",
            "    Linear dimensionalityreduction using relevance weighted LDA. School of\n",
            "    Electrical and Electronic Engineering Nanyang Technological University.\n",
            "    2005.\n",
            "  - Claudio Gentile. A New Approximate Maximal Margin Classification\n",
            "    Algorithm. NIPS. 2000.\n",
            "\n"
          ]
        }
      ]
    },
    {
      "cell_type": "markdown",
      "metadata": {
        "id": "JPJJw5uRubkC"
      },
      "source": [
        "\n",
        "* 첫 번째 숫자만 **표시**"
      ]
    },
    {
      "cell_type": "code",
      "metadata": {
        "colab": {
          "base_uri": "https://localhost:8080/",
          "height": 75
        },
        "id": "hZPA3CNnuZiv",
        "outputId": "fe977145-8e9b-4df5-cc96-b5937a4d7680"
      },
      "source": [
        "for i in range(10):\n",
        "  img = digits.images[i==digits.target][0]\n",
        "  plt.subplot(1, 10, i+1)\n",
        "  plt.imshow(img, cmap='gray')\n",
        "  plt.axis('off')\n",
        "  plt.title(i)\n"
      ],
      "execution_count": null,
      "outputs": [
        {
          "output_type": "display_data",
          "data": {
            "text/plain": [
              "<Figure size 432x288 with 10 Axes>"
            ],
            "image/png": "[encoded data removed]"
          },
          "metadata": {
            "needs_background": "light"
          }
        }
      ]
    },
    {
      "cell_type": "markdown",
      "metadata": {
        "id": "Nqkwul66uee-"
      },
      "source": [
        "* 훈련 세트와 테스트 세트 분류\n",
        "* `n_neighbors`를 1~11로 변경하면서 학습 및 평가"
      ]
    },
    {
      "cell_type": "code",
      "metadata": {
        "colab": {
          "base_uri": "https://localhost:8080/"
        },
        "id": "e8tYZRh1uc4A",
        "outputId": "5a3cca7d-1b47-4a2e-e459-fb0ef7eb7b31"
      },
      "source": [
        "mm = MinMaxScaler()\n",
        "X = mm.fit_transform(digits.data)\n",
        "X_train, X_test, y_train, y_test = train_test_split(X, digits.target,\n",
        "                                                    random_state=2)\n",
        "\n",
        "for k in range(1, 20):\n",
        "  knn = KNeighborsClassifier(n_neighbors=k)\n",
        "  knn.fit(X_train, y_train)\n",
        "  acc = knn.score(X_test, y_test)\n",
        "  print(f'k={k}, accuracy={acc:.2%}')"
      ],
      "execution_count": null,
      "outputs": [
        {
          "output_type": "stream",
          "name": "stdout",
          "text": [
            "k=1, accuracy=98.00%\n",
            "k=2, accuracy=98.44%\n",
            "k=3, accuracy=98.67%\n",
            "k=4, accuracy=98.00%\n",
            "k=5, accuracy=98.00%\n",
            "k=6, accuracy=97.78%\n",
            "k=7, accuracy=98.00%\n",
            "k=8, accuracy=97.33%\n",
            "k=9, accuracy=96.67%\n",
            "k=10, accuracy=96.89%\n",
            "k=11, accuracy=97.11%\n",
            "k=12, accuracy=96.67%\n",
            "k=13, accuracy=96.44%\n",
            "k=14, accuracy=96.22%\n",
            "k=15, accuracy=96.00%\n",
            "k=16, accuracy=95.56%\n",
            "k=17, accuracy=95.78%\n",
            "k=18, accuracy=95.33%\n",
            "k=19, accuracy=95.33%\n"
          ]
        }
      ]
    },
    {
      "cell_type": "markdown",
      "metadata": {
        "id": "3uYuyDIdnN8z"
      },
      "source": [
        "# 교차 검증(Cross Validation)\n"
      ]
    },
    {
      "cell_type": "markdown",
      "metadata": {
        "id": "8Yn5_dbdc26J"
      },
      "source": [
        "## KFold\n",
        "* `np.arange(0.0, 1.5, 0.1)`를 `KFold(3)`으로 분할"
      ]
    },
    {
      "cell_type": "code",
      "metadata": {
        "colab": {
          "base_uri": "https://localhost:8080/"
        },
        "id": "Wbi1VugTpjGy",
        "outputId": "f2f6f20e-117d-4e87-c66f-05fef3b1d6e6"
      },
      "source": [
        "from sklearn.model_selection import KFold\n",
        "\n",
        "x = np.arange(0.0, 1.5, 0.1)\n",
        "kfold = KFold(n_splits=3)\n",
        "\n",
        "for train, test in kfold.split(x):\n",
        "  print('index:', train, test)\n",
        "  print('data:', x[train], x[test])"
      ],
      "execution_count": null,
      "outputs": [
        {
          "output_type": "stream",
          "name": "stdout",
          "text": [
            "index: [ 5  6  7  8  9 10 11 12 13 14] [0 1 2 3 4]\n",
            "data: [0.5 0.6 0.7 0.8 0.9 1.  1.1 1.2 1.3 1.4] [0.  0.1 0.2 0.3 0.4]\n",
            "index: [ 0  1  2  3  4 10 11 12 13 14] [5 6 7 8 9]\n",
            "data: [0.  0.1 0.2 0.3 0.4 1.  1.1 1.2 1.3 1.4] [0.5 0.6 0.7 0.8 0.9]\n",
            "index: [0 1 2 3 4 5 6 7 8 9] [10 11 12 13 14]\n",
            "data: [0.  0.1 0.2 0.3 0.4 0.5 0.6 0.7 0.8 0.9] [1.  1.1 1.2 1.3 1.4]\n"
          ]
        }
      ]
    },
    {
      "cell_type": "markdown",
      "metadata": {
        "id": "fwgZb7Psc46t"
      },
      "source": [
        "* `np.arange(0.0, 1.5, 0.1)`를 KFold(3, shuffle=True)으로 분할\n",
        "* y는 0,1 비율이 10:5로 생성"
      ]
    },
    {
      "cell_type": "code",
      "metadata": {
        "colab": {
          "base_uri": "https://localhost:8080/"
        },
        "id": "-tBqQWSkuk51",
        "outputId": "0e0d546e-dd13-412e-8be7-1b206d2848fc"
      },
      "source": [
        "x = np.arange(0.0, 1.5, 0.1)\n",
        "y = np.zeros(15)\n",
        "y[10:] = 1\n",
        "print(x, y)\n",
        "\n",
        "kfold = KFold(3, shuffle=True)\n",
        "for train, test in kfold.split(x):\n",
        "  print(y[train], y[test])\n"
      ],
      "execution_count": null,
      "outputs": [
        {
          "output_type": "stream",
          "name": "stdout",
          "text": [
            "[0.  0.1 0.2 0.3 0.4 0.5 0.6 0.7 0.8 0.9 1.  1.1 1.2 1.3 1.4] [0. 0. 0. 0. 0. 0. 0. 0. 0. 0. 1. 1. 1. 1. 1.]\n",
            "[0. 0. 0. 0. 0. 0. 0. 0. 1. 1.] [0. 0. 1. 1. 1.]\n",
            "[0. 0. 0. 0. 0. 1. 1. 1. 1. 1.] [0. 0. 0. 0. 0.]\n",
            "[0. 0. 0. 0. 0. 0. 0. 1. 1. 1.] [0. 0. 0. 1. 1.]\n"
          ]
        }
      ]
    },
    {
      "cell_type": "markdown",
      "metadata": {
        "id": "1pdDlbU5dCFi"
      },
      "source": [
        "* `np.arange(0.0, 1.5, 0.1)`를 StratifiedKFold(5, shuffle=True)으로 분할\n",
        "\n",
        "*   항목 추가\n",
        "*   항목 추가\n",
        "\n",
        "\n",
        "* y는 0,1 비율이 10:5로 생성"
      ]
    },
    {
      "cell_type": "code",
      "metadata": {
        "colab": {
          "base_uri": "https://localhost:8080/"
        },
        "id": "Z9O8YsrVvY7P",
        "outputId": "f72d7480-4555-436c-8329-df6cf1ec3fb9"
      },
      "source": [
        "from sklearn.model_selection import StratifiedKFold\n",
        " \n",
        "x = np.arange(0.0, 1.5, 0.1)\n",
        "y = np.zeros(15)\n",
        "y[10:] = 1\n",
        "\n",
        "skfold = StratifiedKFold(n_splits=5, shuffle=True)\n",
        "for train, test in skfold.split(x, y):\n",
        "  print(y[train], y[test])\n"
      ],
      "execution_count": null,
      "outputs": [
        {
          "output_type": "stream",
          "name": "stdout",
          "text": [
            "[0. 0. 0. 0. 0. 0. 0. 0. 1. 1. 1. 1.] [0. 0. 1.]\n",
            "[0. 0. 0. 0. 0. 0. 0. 0. 1. 1. 1. 1.] [0. 0. 1.]\n",
            "[0. 0. 0. 0. 0. 0. 0. 0. 1. 1. 1. 1.] [0. 0. 1.]\n",
            "[0. 0. 0. 0. 0. 0. 0. 0. 1. 1. 1. 1.] [0. 0. 1.]\n",
            "[0. 0. 0. 0. 0. 0. 0. 0. 1. 1. 1. 1.] [0. 0. 1.]\n"
          ]
        }
      ]
    },
    {
      "cell_type": "markdown",
      "metadata": {
        "id": "nH7CptRndAwp"
      },
      "source": [
        "## 손글씨 data KFold(5)로 kNN 학습 및 평가"
      ]
    },
    {
      "cell_type": "code",
      "metadata": {
        "colab": {
          "base_uri": "https://localhost:8080/"
        },
        "id": "tlpk4tzZpMIa",
        "outputId": "c2eaade5-4fa1-4add-b4b3-aff6a2864c80"
      },
      "source": [
        "digits = load_digits()\n",
        "kfold = KFold(n_splits=5)\n",
        "\n",
        "knn = KNeighborsClassifier(n_neighbors=1)\n",
        "cv_acc = np.array([])\n",
        "\n",
        "for i, (train_idx, test_idx) in enumerate(kfold.split(digits.data)):\n",
        "  X_train, X_test = digits.data[train_idx], digits.data[test_idx]\n",
        "  y_train, y_test = digits.target[train_idx], digits.target[test_idx]\n",
        "  knn.fit(X_train, y_train)\n",
        "  acc = knn.score(X_test, y_test)\n",
        "  cv_acc = np.append(cv_acc, acc)\n",
        "\n",
        "print('acc scores:', cv_acc)\n",
        "print('acc mean:', cv_acc.mean())\n",
        "\n"
      ],
      "execution_count": null,
      "outputs": [
        {
          "output_type": "stream",
          "name": "stdout",
          "text": [
            "acc scores: [0.96111111 0.95277778 0.96657382 0.98885794 0.95543175]\n",
            "acc mean: 0.9649504797276384\n"
          ]
        }
      ]
    },
    {
      "cell_type": "markdown",
      "metadata": {
        "id": "LToal637riRT"
      },
      "source": [
        "\n",
        "## `cross_val_score(estimator, X, y, groups, scoring, cv)`\n",
        "* scoring : https://scikit-learn.org/stable/modules/model_evaluation.html#scoring-parameter"
      ]
    },
    {
      "cell_type": "code",
      "metadata": {
        "colab": {
          "base_uri": "https://localhost:8080/"
        },
        "id": "MWeU3pyrphsy",
        "outputId": "efd4a5be-69ba-4859-bf78-51400673db37"
      },
      "source": [
        "from sklearn.model_selection import cross_val_score, cross_validate\n",
        "\n",
        "knn = KNeighborsClassifier(n_neighbors=1)\n",
        "\n",
        "scores = cross_val_score(knn, digits.data, digits.target, cv=5)\n",
        "print(scores)\n",
        "print(scores.mean())"
      ],
      "execution_count": null,
      "outputs": [
        {
          "output_type": "stream",
          "name": "stdout",
          "text": [
            "[0.96111111 0.95277778 0.96657382 0.98607242 0.95543175]\n",
            "0.9643933766635715\n"
          ]
        }
      ]
    },
    {
      "cell_type": "code",
      "source": [
        "cross_validate(knn, digits.data, digits.target, cv=5)"
      ],
      "metadata": {
        "colab": {
          "base_uri": "https://localhost:8080/"
        },
        "id": "-1WdNcZF6_Q1",
        "outputId": "3efa92f9-7c3d-42a4-b543-8b6fd003ba30"
      },
      "execution_count": null,
      "outputs": [
        {
          "output_type": "execute_result",
          "data": {
            "text/plain": [
              "{'fit_time': array([0.00172973, 0.00170636, 0.00153518, 0.00173068, 0.00162697]),\n",
              " 'score_time': array([0.03042889, 0.0328927 , 0.0237062 , 0.02516747, 0.02739525]),\n",
              " 'test_score': array([0.96111111, 0.95277778, 0.96657382, 0.98607242, 0.95543175])}"
            ]
          },
          "metadata": {},
          "execution_count": 155
        }
      ]
    },
    {
      "cell_type": "code",
      "metadata": {
        "colab": {
          "base_uri": "https://localhost:8080/"
        },
        "id": "eqC0T1Q1xY_3",
        "outputId": "37d789dd-49e1-4bbf-c1aa-727f043aa28c"
      },
      "source": [
        "best = (0,0)\n",
        "for k in range(1, 11):\n",
        "  knn = KNeighborsClassifier(k)\n",
        "  scores = cross_val_score(knn, digits.data, digits.target, cv=5)\n",
        "  print(f'k={k}, mean acc:{scores.mean()}, acc scores:{scores}')\n",
        "  if best[1] < scores.mean():\n",
        "    best = (k, scores.mean())\n",
        "print(f'best k={best[0]}, mean acc:{best[1]}')"
      ],
      "execution_count": null,
      "outputs": [
        {
          "output_type": "stream",
          "name": "stdout",
          "text": [
            "k=1, mean acc:0.9643933766635715, acc scores:[0.96111111 0.95277778 0.96657382 0.98607242 0.95543175]\n",
            "k=2, mean acc:0.9671711544413494, acc scores:[0.96111111 0.96666667 0.96935933 0.97771588 0.96100279]\n",
            "k=3, mean acc:0.966621788919839, acc scores:[0.95555556 0.95833333 0.96657382 0.98607242 0.96657382]\n",
            "k=4, mean acc:0.9638409161250386, acc scores:[0.94722222 0.95833333 0.96657382 0.98050139 0.96657382]\n",
            "k=5, mean acc:0.9627282575054161, acc scores:[0.94722222 0.95555556 0.96657382 0.98050139 0.9637883 ]\n",
            "k=6, mean acc:0.9593856391210152, acc scores:[0.94444444 0.95833333 0.96657382 0.97493036 0.95264624]\n",
            "k=7, mean acc:0.9599458372021046, acc scores:[0.93611111 0.96111111 0.96935933 0.98050139 0.95264624]\n",
            "k=8, mean acc:0.9582760755184154, acc scores:[0.93611111 0.95833333 0.96935933 0.97771588 0.94986072]\n",
            "k=9, mean acc:0.9566109563602601, acc scores:[0.93055556 0.95277778 0.97214485 0.97771588 0.94986072]\n",
            "k=10, mean acc:0.954942742185082, acc scores:[0.93055556 0.94722222 0.96935933 0.97771588 0.94986072]\n",
            "best k=2, mean acc:0.9671711544413494\n"
          ]
        }
      ]
    },
    {
      "cell_type": "markdown",
      "metadata": {
        "id": "wEBWrPqEnHzF"
      },
      "source": [
        "# GridSearchCV"
      ]
    },
    {
      "cell_type": "markdown",
      "metadata": {
        "id": "Cg73ZoMXdEeo"
      },
      "source": [
        "* GridSearchCV, knn으로 최적의 n_neighbors 찾기"
      ]
    },
    {
      "cell_type": "code",
      "metadata": {
        "id": "0ESQTrdvyXAy"
      },
      "source": [
        "digits = load_digits()\n",
        "X_train, X_test, y_train, y_test = train_test_split(digits.data, digits.target, random_state=0)\n",
        "knn = KNeighborsClassifier()\n",
        "\n",
        "#kfold = KFold(5)\n",
        "#gcv = GridSearchCV(knn, param_grid={'n_neighbors' : range(1, 11)}, cv=kfold)\n",
        "gcv = GridSearchCV(knn, param_grid={'n_neighbors' : range(1, 11), 'weights': ['uniform', 'distance']}, cv=5)\n",
        "gcv.fit(X_train, y_train)\n",
        "print('best params:', gcv.best_params_)\n",
        "display(pd.DataFrame(gcv.cv_results_))\n",
        "best = gcv.best_estimator_\n",
        "acc = best.score(X_test, y_test)\n",
        "print('acc:', acc)\n",
        "print(best)"
      ],
      "execution_count": null,
      "outputs": []
    },
    {
      "cell_type": "markdown",
      "source": [
        "## Train, Test, Validation Set"
      ],
      "metadata": {
        "id": "wlJhZpRV0GqY"
      }
    },
    {
      "cell_type": "code",
      "metadata": {
        "id": "Aam-F6PFughy"
      },
      "source": [
        "\n",
        "X_train, X_test, y_train, y_test = train_test_split(digits.data, digits.target, random_state=0)\n"
      ],
      "execution_count": null,
      "outputs": []
    },
    {
      "cell_type": "markdown",
      "source": [
        "## Pipeline + GridSearch\n",
        "* Minmax Scaler"
      ],
      "metadata": {
        "id": "W-gtOS2c8tj9"
      }
    },
    {
      "cell_type": "code",
      "source": [
        "\n",
        "X_train, X_test, y_train, y_test = train_test_split(digits.data, digits.target, random_state=0)\n",
        "mm_scaler = MinMaxScaler()\n",
        "knn = KNeighborsClassifier()\n",
        "\n",
        "pipe = Pipeline([('mm', mm_scaler), ('abc', knn)])\n",
        "gcv = GridSearchCV(pipe, {'abc__n_neighbors':range(1, 11), 'abc__weights': ['uniform', 'distance']}, cv=5)\n",
        "gcv.fit(X_train, y_train)\n",
        "print('best:', gcv.best_params_)\n",
        "display(pd.DataFrame(gcv.cv_results_))\n",
        "best = gcv.best_estimator_\n",
        "\n",
        "best.fit(X_train, y_train)\n",
        "acc = best.score(X_test, y_test)\n",
        "print('acc:', acc)\n"
      ],
      "metadata": {
        "colab": {
          "base_uri": "https://localhost:8080/",
          "height": 1000
        },
        "id": "XPwjegAQ9PDK",
        "outputId": "cac603e5-2f5f-4a55-fc44-9f4514845e6a"
      },
      "execution_count": null,
      "outputs": [
        {
          "output_type": "stream",
          "name": "stdout",
          "text": [
            "best: {'abc__n_neighbors': 4, 'abc__weights': 'distance'}\n"
          ]
        },
        {
          "output_type": "display_data",
          "data": {
            "text/plain": [
              "    mean_fit_time  std_fit_time  mean_score_time  std_score_time  \\\n",
              "0        0.003180      0.000248         0.018939        0.002210   \n",
              "1        0.004703      0.002007         0.009362        0.001284   \n",
              "2        0.003363      0.000089         0.020978        0.004255   \n",
              "3        0.004575      0.002513         0.009912        0.001117   \n",
              "4        0.003345      0.000160         0.020017        0.000611   \n",
              "5        0.003455      0.000303         0.010616        0.000777   \n",
              "6        0.003388      0.000210         0.023450        0.001107   \n",
              "7        0.002952      0.000073         0.010932        0.000211   \n",
              "8        0.002965      0.000246         0.022751        0.001824   \n",
              "9        0.003116      0.000658         0.011196        0.000468   \n",
              "10       0.003254      0.000648         0.023311        0.003033   \n",
              "11       0.003007      0.000214         0.011223        0.000283   \n",
              "12       0.002867      0.000159         0.022835        0.003698   \n",
              "13       0.002781      0.000074         0.010962        0.000300   \n",
              "14       0.002953      0.000128         0.022930        0.002310   \n",
              "15       0.003228      0.000453         0.011670        0.000541   \n",
              "16       0.003142      0.000299         0.022390        0.000960   \n",
              "17       0.003643      0.000685         0.012560        0.000814   \n",
              "18       0.004001      0.001104         0.022521        0.001040   \n",
              "19       0.003325      0.000071         0.012306        0.000368   \n",
              "\n",
              "   param_abc__n_neighbors param_abc__weights  \\\n",
              "0                       1            uniform   \n",
              "1                       1           distance   \n",
              "2                       2            uniform   \n",
              "3                       2           distance   \n",
              "4                       3            uniform   \n",
              "5                       3           distance   \n",
              "6                       4            uniform   \n",
              "7                       4           distance   \n",
              "8                       5            uniform   \n",
              "9                       5           distance   \n",
              "10                      6            uniform   \n",
              "11                      6           distance   \n",
              "12                      7            uniform   \n",
              "13                      7           distance   \n",
              "14                      8            uniform   \n",
              "15                      8           distance   \n",
              "16                      9            uniform   \n",
              "17                      9           distance   \n",
              "18                     10            uniform   \n",
              "19                     10           distance   \n",
              "\n",
              "                                               params  split0_test_score  \\\n",
              "0   {'abc__n_neighbors': 1, 'abc__weights': 'unifo...           0.974074   \n",
              "1   {'abc__n_neighbors': 1, 'abc__weights': 'dista...           0.974074   \n",
              "2   {'abc__n_neighbors': 2, 'abc__weights': 'unifo...           0.977778   \n",
              "3   {'abc__n_neighbors': 2, 'abc__weights': 'dista...           0.974074   \n",
              "4   {'abc__n_neighbors': 3, 'abc__weights': 'unifo...           0.985185   \n",
              "5   {'abc__n_neighbors': 3, 'abc__weights': 'dista...           0.985185   \n",
              "6   {'abc__n_neighbors': 4, 'abc__weights': 'unifo...           0.981481   \n",
              "7   {'abc__n_neighbors': 4, 'abc__weights': 'dista...           0.985185   \n",
              "8   {'abc__n_neighbors': 5, 'abc__weights': 'unifo...           0.988889   \n",
              "9   {'abc__n_neighbors': 5, 'abc__weights': 'dista...           0.988889   \n",
              "10  {'abc__n_neighbors': 6, 'abc__weights': 'unifo...           0.977778   \n",
              "11  {'abc__n_neighbors': 6, 'abc__weights': 'dista...           0.981481   \n",
              "12  {'abc__n_neighbors': 7, 'abc__weights': 'unifo...           0.977778   \n",
              "13  {'abc__n_neighbors': 7, 'abc__weights': 'dista...           0.981481   \n",
              "14  {'abc__n_neighbors': 8, 'abc__weights': 'unifo...           0.974074   \n",
              "15  {'abc__n_neighbors': 8, 'abc__weights': 'dista...           0.981481   \n",
              "16  {'abc__n_neighbors': 9, 'abc__weights': 'unifo...           0.974074   \n",
              "17  {'abc__n_neighbors': 9, 'abc__weights': 'dista...           0.977778   \n",
              "18  {'abc__n_neighbors': 10, 'abc__weights': 'unif...           0.977778   \n",
              "19  {'abc__n_neighbors': 10, 'abc__weights': 'dist...           0.981481   \n",
              "\n",
              "    split1_test_score  split2_test_score  split3_test_score  \\\n",
              "0            0.985185           0.988848           0.988848   \n",
              "1            0.985185           0.988848           0.988848   \n",
              "2            0.977778           0.985130           0.985130   \n",
              "3            0.985185           0.988848           0.988848   \n",
              "4            0.988889           0.985130           0.985130   \n",
              "5            0.992593           0.985130           0.985130   \n",
              "6            0.992593           0.977695           0.981413   \n",
              "7            0.996296           0.981413           0.985130   \n",
              "8            0.992593           0.973978           0.985130   \n",
              "9            0.992593           0.973978           0.985130   \n",
              "10           0.985185           0.973978           0.981413   \n",
              "11           0.996296           0.973978           0.985130   \n",
              "12           0.988889           0.973978           0.985130   \n",
              "13           0.988889           0.973978           0.985130   \n",
              "14           0.988889           0.973978           0.985130   \n",
              "15           0.988889           0.977695           0.985130   \n",
              "16           0.988889           0.970260           0.981413   \n",
              "17           0.988889           0.970260           0.985130   \n",
              "18           0.988889           0.973978           0.981413   \n",
              "19           0.988889           0.977695           0.985130   \n",
              "\n",
              "    split4_test_score  mean_test_score  std_test_score  rank_test_score  \n",
              "0            0.985130         0.984417        0.005428                5  \n",
              "1            0.985130         0.984417        0.005428                5  \n",
              "2            0.977695         0.980702        0.003616               17  \n",
              "3            0.985130         0.984417        0.005428                5  \n",
              "4            0.981413         0.985149        0.002364                3  \n",
              "5            0.981413         0.985890        0.003650                2  \n",
              "6            0.977695         0.982175        0.005472               14  \n",
              "7            0.985130         0.986631        0.005045                1  \n",
              "8            0.985130         0.985144        0.006232                4  \n",
              "9            0.981413         0.984400        0.006409                8  \n",
              "10           0.981413         0.979953        0.003797               20  \n",
              "11           0.981413         0.983660        0.007285               12  \n",
              "12           0.985130         0.982181        0.005460               13  \n",
              "13           0.988848         0.983665        0.005566                9  \n",
              "14           0.981413         0.980697        0.005938               18  \n",
              "15           0.985130         0.983665        0.003794                9  \n",
              "16           0.985130         0.979953        0.006889               19  \n",
              "17           0.985130         0.981437        0.006650               15  \n",
              "18           0.985130         0.981437        0.005257               15  \n",
              "19           0.985130         0.983665        0.003794                9  "
            ],
            "text/html": [
              "\n",
              "  <div id=\"df-eb60c557-b390-4312-ba32-8f7723b843de\">\n",
              "    <div class=\"colab-df-container\">\n",
              "      <div>\n",
              "<style scoped>\n",
              "    .dataframe tbody tr th:only-of-type {\n",
              "        vertical-align: middle;\n",
              "    }\n",
              "\n",
              "    .dataframe tbody tr th {\n",
              "        vertical-align: top;\n",
              "    }\n",
              "\n",
              "    .dataframe thead th {\n",
              "        text-align: right;\n",
              "    }\n",
              "</style>\n",
              "<table border=\"1\" class=\"dataframe\">\n",
              "  <thead>\n",
              "    <tr style=\"text-align: right;\">\n",
              "      <th></th>\n",
              "      <th>mean_fit_time</th>\n",
              "      <th>std_fit_time</th>\n",
              "      <th>mean_score_time</th>\n",
              "      <th>std_score_time</th>\n",
              "      <th>param_abc__n_neighbors</th>\n",
              "      <th>param_abc__weights</th>\n",
              "      <th>params</th>\n",
              "      <th>split0_test_score</th>\n",
              "      <th>split1_test_score</th>\n",
              "      <th>split2_test_score</th>\n",
              "      <th>split3_test_score</th>\n",
              "      <th>split4_test_score</th>\n",
              "      <th>mean_test_score</th>\n",
              "      <th>std_test_score</th>\n",
              "      <th>rank_test_score</th>\n",
              "    </tr>\n",
              "  </thead>\n",
              "  <tbody>\n",
              "    <tr>\n",
              "      <th>0</th>\n",
              "      <td>0.003180</td>\n",
              "      <td>0.000248</td>\n",
              "      <td>0.018939</td>\n",
              "      <td>0.002210</td>\n",
              "      <td>1</td>\n",
              "      <td>uniform</td>\n",
              "      <td>{'abc__n_neighbors': 1, 'abc__weights': 'unifo...</td>\n",
              "      <td>0.974074</td>\n",
              "      <td>0.985185</td>\n",
              "      <td>0.988848</td>\n",
              "      <td>0.988848</td>\n",
              "      <td>0.985130</td>\n",
              "      <td>0.984417</td>\n",
              "      <td>0.005428</td>\n",
              "      <td>5</td>\n",
              "    </tr>\n",
              "    <tr>\n",
              "      <th>1</th>\n",
              "      <td>0.004703</td>\n",
              "      <td>0.002007</td>\n",
              "      <td>0.009362</td>\n",
              "      <td>0.001284</td>\n",
              "      <td>1</td>\n",
              "      <td>distance</td>\n",
              "      <td>{'abc__n_neighbors': 1, 'abc__weights': 'dista...</td>\n",
              "      <td>0.974074</td>\n",
              "      <td>0.985185</td>\n",
              "      <td>0.988848</td>\n",
              "      <td>0.988848</td>\n",
              "      <td>0.985130</td>\n",
              "      <td>0.984417</td>\n",
              "      <td>0.005428</td>\n",
              "      <td>5</td>\n",
              "    </tr>\n",
              "    <tr>\n",
              "      <th>2</th>\n",
              "      <td>0.003363</td>\n",
              "      <td>0.000089</td>\n",
              "      <td>0.020978</td>\n",
              "      <td>0.004255</td>\n",
              "      <td>2</td>\n",
              "      <td>uniform</td>\n",
              "      <td>{'abc__n_neighbors': 2, 'abc__weights': 'unifo...</td>\n",
              "      <td>0.977778</td>\n",
              "      <td>0.977778</td>\n",
              "      <td>0.985130</td>\n",
              "      <td>0.985130</td>\n",
              "      <td>0.977695</td>\n",
              "      <td>0.980702</td>\n",
              "      <td>0.003616</td>\n",
              "      <td>17</td>\n",
              "    </tr>\n",
              "    <tr>\n",
              "      <th>3</th>\n",
              "      <td>0.004575</td>\n",
              "      <td>0.002513</td>\n",
              "      <td>0.009912</td>\n",
              "      <td>0.001117</td>\n",
              "      <td>2</td>\n",
              "      <td>distance</td>\n",
              "      <td>{'abc__n_neighbors': 2, 'abc__weights': 'dista...</td>\n",
              "      <td>0.974074</td>\n",
              "      <td>0.985185</td>\n",
              "      <td>0.988848</td>\n",
              "      <td>0.988848</td>\n",
              "      <td>0.985130</td>\n",
              "      <td>0.984417</td>\n",
              "      <td>0.005428</td>\n",
              "      <td>5</td>\n",
              "    </tr>\n",
              "    <tr>\n",
              "      <th>4</th>\n",
              "      <td>0.003345</td>\n",
              "      <td>0.000160</td>\n",
              "      <td>0.020017</td>\n",
              "      <td>0.000611</td>\n",
              "      <td>3</td>\n",
              "      <td>uniform</td>\n",
              "      <td>{'abc__n_neighbors': 3, 'abc__weights': 'unifo...</td>\n",
              "      <td>0.985185</td>\n",
              "      <td>0.988889</td>\n",
              "      <td>0.985130</td>\n",
              "      <td>0.985130</td>\n",
              "      <td>0.981413</td>\n",
              "      <td>0.985149</td>\n",
              "      <td>0.002364</td>\n",
              "      <td>3</td>\n",
              "    </tr>\n",
              "    <tr>\n",
              "      <th>5</th>\n",
              "      <td>0.003455</td>\n",
              "      <td>0.000303</td>\n",
              "      <td>0.010616</td>\n",
              "      <td>0.000777</td>\n",
              "      <td>3</td>\n",
              "      <td>distance</td>\n",
              "      <td>{'abc__n_neighbors': 3, 'abc__weights': 'dista...</td>\n",
              "      <td>0.985185</td>\n",
              "      <td>0.992593</td>\n",
              "      <td>0.985130</td>\n",
              "      <td>0.985130</td>\n",
              "      <td>0.981413</td>\n",
              "      <td>0.985890</td>\n",
              "      <td>0.003650</td>\n",
              "      <td>2</td>\n",
              "    </tr>\n",
              "    <tr>\n",
              "      <th>6</th>\n",
              "      <td>0.003388</td>\n",
              "      <td>0.000210</td>\n",
              "      <td>0.023450</td>\n",
              "      <td>0.001107</td>\n",
              "      <td>4</td>\n",
              "      <td>uniform</td>\n",
              "      <td>{'abc__n_neighbors': 4, 'abc__weights': 'unifo...</td>\n",
              "      <td>0.981481</td>\n",
              "      <td>0.992593</td>\n",
              "      <td>0.977695</td>\n",
              "      <td>0.981413</td>\n",
              "      <td>0.977695</td>\n",
              "      <td>0.982175</td>\n",
              "      <td>0.005472</td>\n",
              "      <td>14</td>\n",
              "    </tr>\n",
              "    <tr>\n",
              "      <th>7</th>\n",
              "      <td>0.002952</td>\n",
              "      <td>0.000073</td>\n",
              "      <td>0.010932</td>\n",
              "      <td>0.000211</td>\n",
              "      <td>4</td>\n",
              "      <td>distance</td>\n",
              "      <td>{'abc__n_neighbors': 4, 'abc__weights': 'dista...</td>\n",
              "      <td>0.985185</td>\n",
              "      <td>0.996296</td>\n",
              "      <td>0.981413</td>\n",
              "      <td>0.985130</td>\n",
              "      <td>0.985130</td>\n",
              "      <td>0.986631</td>\n",
              "      <td>0.005045</td>\n",
              "      <td>1</td>\n",
              "    </tr>\n",
              "    <tr>\n",
              "      <th>8</th>\n",
              "      <td>0.002965</td>\n",
              "      <td>0.000246</td>\n",
              "      <td>0.022751</td>\n",
              "      <td>0.001824</td>\n",
              "      <td>5</td>\n",
              "      <td>uniform</td>\n",
              "      <td>{'abc__n_neighbors': 5, 'abc__weights': 'unifo...</td>\n",
              "      <td>0.988889</td>\n",
              "      <td>0.992593</td>\n",
              "      <td>0.973978</td>\n",
              "      <td>0.985130</td>\n",
              "      <td>0.985130</td>\n",
              "      <td>0.985144</td>\n",
              "      <td>0.006232</td>\n",
              "      <td>4</td>\n",
              "    </tr>\n",
              "    <tr>\n",
              "      <th>9</th>\n",
              "      <td>0.003116</td>\n",
              "      <td>0.000658</td>\n",
              "      <td>0.011196</td>\n",
              "      <td>0.000468</td>\n",
              "      <td>5</td>\n",
              "      <td>distance</td>\n",
              "      <td>{'abc__n_neighbors': 5, 'abc__weights': 'dista...</td>\n",
              "      <td>0.988889</td>\n",
              "      <td>0.992593</td>\n",
              "      <td>0.973978</td>\n",
              "      <td>0.985130</td>\n",
              "      <td>0.981413</td>\n",
              "      <td>0.984400</td>\n",
              "      <td>0.006409</td>\n",
              "      <td>8</td>\n",
              "    </tr>\n",
              "    <tr>\n",
              "      <th>10</th>\n",
              "      <td>0.003254</td>\n",
              "      <td>0.000648</td>\n",
              "      <td>0.023311</td>\n",
              "      <td>0.003033</td>\n",
              "      <td>6</td>\n",
              "      <td>uniform</td>\n",
              "      <td>{'abc__n_neighbors': 6, 'abc__weights': 'unifo...</td>\n",
              "      <td>0.977778</td>\n",
              "      <td>0.985185</td>\n",
              "      <td>0.973978</td>\n",
              "      <td>0.981413</td>\n",
              "      <td>0.981413</td>\n",
              "      <td>0.979953</td>\n",
              "      <td>0.003797</td>\n",
              "      <td>20</td>\n",
              "    </tr>\n",
              "    <tr>\n",
              "      <th>11</th>\n",
              "      <td>0.003007</td>\n",
              "      <td>0.000214</td>\n",
              "      <td>0.011223</td>\n",
              "      <td>0.000283</td>\n",
              "      <td>6</td>\n",
              "      <td>distance</td>\n",
              "      <td>{'abc__n_neighbors': 6, 'abc__weights': 'dista...</td>\n",
              "      <td>0.981481</td>\n",
              "      <td>0.996296</td>\n",
              "      <td>0.973978</td>\n",
              "      <td>0.985130</td>\n",
              "      <td>0.981413</td>\n",
              "      <td>0.983660</td>\n",
              "      <td>0.007285</td>\n",
              "      <td>12</td>\n",
              "    </tr>\n",
              "    <tr>\n",
              "      <th>12</th>\n",
              "      <td>0.002867</td>\n",
              "      <td>0.000159</td>\n",
              "      <td>0.022835</td>\n",
              "      <td>0.003698</td>\n",
              "      <td>7</td>\n",
              "      <td>uniform</td>\n",
              "      <td>{'abc__n_neighbors': 7, 'abc__weights': 'unifo...</td>\n",
              "      <td>0.977778</td>\n",
              "      <td>0.988889</td>\n",
              "      <td>0.973978</td>\n",
              "      <td>0.985130</td>\n",
              "      <td>0.985130</td>\n",
              "      <td>0.982181</td>\n",
              "      <td>0.005460</td>\n",
              "      <td>13</td>\n",
              "    </tr>\n",
              "    <tr>\n",
              "      <th>13</th>\n",
              "      <td>0.002781</td>\n",
              "      <td>0.000074</td>\n",
              "      <td>0.010962</td>\n",
              "      <td>0.000300</td>\n",
              "      <td>7</td>\n",
              "      <td>distance</td>\n",
              "      <td>{'abc__n_neighbors': 7, 'abc__weights': 'dista...</td>\n",
              "      <td>0.981481</td>\n",
              "      <td>0.988889</td>\n",
              "      <td>0.973978</td>\n",
              "      <td>0.985130</td>\n",
              "      <td>0.988848</td>\n",
              "      <td>0.983665</td>\n",
              "      <td>0.005566</td>\n",
              "      <td>9</td>\n",
              "    </tr>\n",
              "    <tr>\n",
              "      <th>14</th>\n",
              "      <td>0.002953</td>\n",
              "      <td>0.000128</td>\n",
              "      <td>0.022930</td>\n",
              "      <td>0.002310</td>\n",
              "      <td>8</td>\n",
              "      <td>uniform</td>\n",
              "      <td>{'abc__n_neighbors': 8, 'abc__weights': 'unifo...</td>\n",
              "      <td>0.974074</td>\n",
              "      <td>0.988889</td>\n",
              "      <td>0.973978</td>\n",
              "      <td>0.985130</td>\n",
              "      <td>0.981413</td>\n",
              "      <td>0.980697</td>\n",
              "      <td>0.005938</td>\n",
              "      <td>18</td>\n",
              "    </tr>\n",
              "    <tr>\n",
              "      <th>15</th>\n",
              "      <td>0.003228</td>\n",
              "      <td>0.000453</td>\n",
              "      <td>0.011670</td>\n",
              "      <td>0.000541</td>\n",
              "      <td>8</td>\n",
              "      <td>distance</td>\n",
              "      <td>{'abc__n_neighbors': 8, 'abc__weights': 'dista...</td>\n",
              "      <td>0.981481</td>\n",
              "      <td>0.988889</td>\n",
              "      <td>0.977695</td>\n",
              "      <td>0.985130</td>\n",
              "      <td>0.985130</td>\n",
              "      <td>0.983665</td>\n",
              "      <td>0.003794</td>\n",
              "      <td>9</td>\n",
              "    </tr>\n",
              "    <tr>\n",
              "      <th>16</th>\n",
              "      <td>0.003142</td>\n",
              "      <td>0.000299</td>\n",
              "      <td>0.022390</td>\n",
              "      <td>0.000960</td>\n",
              "      <td>9</td>\n",
              "      <td>uniform</td>\n",
              "      <td>{'abc__n_neighbors': 9, 'abc__weights': 'unifo...</td>\n",
              "      <td>0.974074</td>\n",
              "      <td>0.988889</td>\n",
              "      <td>0.970260</td>\n",
              "      <td>0.981413</td>\n",
              "      <td>0.985130</td>\n",
              "      <td>0.979953</td>\n",
              "      <td>0.006889</td>\n",
              "      <td>19</td>\n",
              "    </tr>\n",
              "    <tr>\n",
              "      <th>17</th>\n",
              "      <td>0.003643</td>\n",
              "      <td>0.000685</td>\n",
              "      <td>0.012560</td>\n",
              "      <td>0.000814</td>\n",
              "      <td>9</td>\n",
              "      <td>distance</td>\n",
              "      <td>{'abc__n_neighbors': 9, 'abc__weights': 'dista...</td>\n",
              "      <td>0.977778</td>\n",
              "      <td>0.988889</td>\n",
              "      <td>0.970260</td>\n",
              "      <td>0.985130</td>\n",
              "      <td>0.985130</td>\n",
              "      <td>0.981437</td>\n",
              "      <td>0.006650</td>\n",
              "      <td>15</td>\n",
              "    </tr>\n",
              "    <tr>\n",
              "      <th>18</th>\n",
              "      <td>0.004001</td>\n",
              "      <td>0.001104</td>\n",
              "      <td>0.022521</td>\n",
              "      <td>0.001040</td>\n",
              "      <td>10</td>\n",
              "      <td>uniform</td>\n",
              "      <td>{'abc__n_neighbors': 10, 'abc__weights': 'unif...</td>\n",
              "      <td>0.977778</td>\n",
              "      <td>0.988889</td>\n",
              "      <td>0.973978</td>\n",
              "      <td>0.981413</td>\n",
              "      <td>0.985130</td>\n",
              "      <td>0.981437</td>\n",
              "      <td>0.005257</td>\n",
              "      <td>15</td>\n",
              "    </tr>\n",
              "    <tr>\n",
              "      <th>19</th>\n",
              "      <td>0.003325</td>\n",
              "      <td>0.000071</td>\n",
              "      <td>0.012306</td>\n",
              "      <td>0.000368</td>\n",
              "      <td>10</td>\n",
              "      <td>distance</td>\n",
              "      <td>{'abc__n_neighbors': 10, 'abc__weights': 'dist...</td>\n",
              "      <td>0.981481</td>\n",
              "      <td>0.988889</td>\n",
              "      <td>0.977695</td>\n",
              "      <td>0.985130</td>\n",
              "      <td>0.985130</td>\n",
              "      <td>0.983665</td>\n",
              "      <td>0.003794</td>\n",
              "      <td>9</td>\n",
              "    </tr>\n",
              "  </tbody>\n",
              "</table>\n",
              "</div>\n",
              "      <button class=\"colab-df-convert\" onclick=\"convertToInteractive('df-eb60c557-b390-4312-ba32-8f7723b843de')\"\n",
              "              title=\"Convert this dataframe to an interactive table.\"\n",
              "              style=\"display:none;\">\n",
              "        \n",
              "  <svg xmlns=\"http://www.w3.org/2000/svg\" height=\"24px\"viewBox=\"0 0 24 24\"\n",
              "       width=\"24px\">\n",
              "    <path d=\"M0 0h24v24H0V0z\" fill=\"none\"/>\n",
              "    <path d=\"M18.56 5.44l.94 2.06.94-2.06 2.06-.94-2.06-.94-.94-2.06-.94 2.06-2.06.94zm-11 1L8.5 8.5l.94-2.06 2.06-.94-2.06-.94L8.5 2.5l-.94 2.06-2.06.94zm10 10l.94 2.06.94-2.06 2.06-.94-2.06-.94-.94-2.06-.94 2.06-2.06.94z\"/><path d=\"M17.41 7.96l-1.37-1.37c-.4-.4-.92-.59-1.43-.59-.52 0-1.04.2-1.43.59L10.3 9.45l-7.72 7.72c-.78.78-.78 2.05 0 2.83L4 21.41c.39.39.9.59 1.41.59.51 0 1.02-.2 1.41-.59l7.78-7.78 2.81-2.81c.8-.78.8-2.07 0-2.86zM5.41 20L4 18.59l7.72-7.72 1.47 1.35L5.41 20z\"/>\n",
              "  </svg>\n",
              "      </button>\n",
              "      \n",
              "  <style>\n",
              "    .colab-df-container {\n",
              "      display:flex;\n",
              "      flex-wrap:wrap;\n",
              "      gap: 12px;\n",
              "    }\n",
              "\n",
              "    .colab-df-convert {\n",
              "      background-color: #E8F0FE;\n",
              "      border: none;\n",
              "      border-radius: 50%;\n",
              "      cursor: pointer;\n",
              "      display: none;\n",
              "      fill: #1967D2;\n",
              "      height: 32px;\n",
              "      padding: 0 0 0 0;\n",
              "      width: 32px;\n",
              "    }\n",
              "\n",
              "    .colab-df-convert:hover {\n",
              "      background-color: #E2EBFA;\n",
              "      box-shadow: 0px 1px 2px rgba(60, 64, 67, 0.3), 0px 1px 3px 1px rgba(60, 64, 67, 0.15);\n",
              "      fill: #174EA6;\n",
              "    }\n",
              "\n",
              "    [theme=dark] .colab-df-convert {\n",
              "      background-color: #3B4455;\n",
              "      fill: #D2E3FC;\n",
              "    }\n",
              "\n",
              "    [theme=dark] .colab-df-convert:hover {\n",
              "      background-color: #434B5C;\n",
              "      box-shadow: 0px 1px 3px 1px rgba(0, 0, 0, 0.15);\n",
              "      filter: drop-shadow(0px 1px 2px rgba(0, 0, 0, 0.3));\n",
              "      fill: #FFFFFF;\n",
              "    }\n",
              "  </style>\n",
              "\n",
              "      <script>\n",
              "        const buttonEl =\n",
              "          document.querySelector('#df-eb60c557-b390-4312-ba32-8f7723b843de button.colab-df-convert');\n",
              "        buttonEl.style.display =\n",
              "          google.colab.kernel.accessAllowed ? 'block' : 'none';\n",
              "\n",
              "        async function convertToInteractive(key) {\n",
              "          const element = document.querySelector('#df-eb60c557-b390-4312-ba32-8f7723b843de');\n",
              "          const dataTable =\n",
              "            await google.colab.kernel.invokeFunction('convertToInteractive',\n",
              "                                                     [key], {});\n",
              "          if (!dataTable) return;\n",
              "\n",
              "          const docLinkHtml = 'Like what you see? Visit the ' +\n",
              "            '<a target=\"_blank\" href=https://colab.research.google.com/notebooks/data_table.ipynb>data table notebook</a>'\n",
              "            + ' to learn more about interactive tables.';\n",
              "          element.innerHTML = '';\n",
              "          dataTable['output_type'] = 'display_data';\n",
              "          await google.colab.output.renderOutput(dataTable, element);\n",
              "          const docLink = document.createElement('div');\n",
              "          docLink.innerHTML = docLinkHtml;\n",
              "          element.appendChild(docLink);\n",
              "        }\n",
              "      </script>\n",
              "    </div>\n",
              "  </div>\n",
              "  "
            ]
          },
          "metadata": {}
        },
        {
          "output_type": "stream",
          "name": "stdout",
          "text": [
            "acc: 0.9866666666666667\n"
          ]
        }
      ]
    },
    {
      "cell_type": "code",
      "source": [
        "best"
      ],
      "metadata": {
        "colab": {
          "base_uri": "https://localhost:8080/"
        },
        "id": "gBOSP0KlISk5",
        "outputId": "6179f402-31a5-4a52-80ed-87a52dbf73ce"
      },
      "execution_count": null,
      "outputs": [
        {
          "output_type": "execute_result",
          "data": {
            "text/plain": [
              "Pipeline(steps=[('mm', MinMaxScaler()),\n",
              "                ('abc',\n",
              "                 KNeighborsClassifier(n_neighbors=4, weights='distance'))])"
            ]
          },
          "metadata": {},
          "execution_count": 16
        }
      ]
    },
    {
      "cell_type": "code",
      "source": [
        "best[1]"
      ],
      "metadata": {
        "colab": {
          "base_uri": "https://localhost:8080/"
        },
        "id": "6Alr1u8Taleh",
        "outputId": "3b5e881c-8d36-4ae6-9add-466efddc74e5"
      },
      "execution_count": null,
      "outputs": [
        {
          "output_type": "execute_result",
          "data": {
            "text/plain": [
              "KNeighborsClassifier(n_neighbors=4, weights='distance')"
            ]
          },
          "metadata": {},
          "execution_count": 17
        }
      ]
    },
    {
      "cell_type": "code",
      "source": [
        "best['abc']"
      ],
      "metadata": {
        "colab": {
          "base_uri": "https://localhost:8080/"
        },
        "id": "9HmjrVhoapgJ",
        "outputId": "d36dae10-1cec-4bfe-9a86-9393e4a6910c"
      },
      "execution_count": null,
      "outputs": [
        {
          "output_type": "execute_result",
          "data": {
            "text/plain": [
              "KNeighborsClassifier(n_neighbors=4, weights='distance')"
            ]
          },
          "metadata": {},
          "execution_count": 18
        }
      ]
    },
    {
      "cell_type": "code",
      "source": [
        "best[0], best['mm']"
      ],
      "metadata": {
        "colab": {
          "base_uri": "https://localhost:8080/"
        },
        "id": "QvQwaj9uasec",
        "outputId": "0d1cfc6e-9c8e-4e3c-d727-08bd99a83114"
      },
      "execution_count": null,
      "outputs": [
        {
          "output_type": "execute_result",
          "data": {
            "text/plain": [
              "(MinMaxScaler(), MinMaxScaler())"
            ]
          },
          "metadata": {},
          "execution_count": 19
        }
      ]
    },
    {
      "cell_type": "markdown",
      "metadata": {
        "id": "pGiAtKagyqfC"
      },
      "source": [
        "# 모델 저장 및 복원"
      ]
    },
    {
      "cell_type": "markdown",
      "metadata": {
        "id": "bB0VAX3mdGTJ"
      },
      "source": [
        "* 최적의 모델 저장\n",
        " *  `model.dat`"
      ]
    },
    {
      "cell_type": "code",
      "metadata": {
        "id": "llCtIe4LysbB"
      },
      "source": [
        "import pickle\n",
        "\n",
        "with open('model.dat', 'wb') as f:\n",
        "  pickle.dump(best, f)\n"
      ],
      "execution_count": null,
      "outputs": []
    },
    {
      "cell_type": "code",
      "metadata": {
        "colab": {
          "base_uri": "https://localhost:8080/"
        },
        "id": "VarXA9q3y9Oh",
        "outputId": "631bbabb-fbfc-4bb1-d65e-101ea2c713cd"
      },
      "source": [
        "with open('model.dat', 'rb') as f:\n",
        "  model = pickle.load(f)\n",
        "\n",
        "model.score(X_test, y_test)"
      ],
      "execution_count": null,
      "outputs": [
        {
          "output_type": "execute_result",
          "data": {
            "text/plain": [
              "0.9866666666666667"
            ]
          },
          "metadata": {},
          "execution_count": 21
        }
      ]
    },
    {
      "cell_type": "markdown",
      "metadata": {
        "id": "zneU-0DcukNn"
      },
      "source": [
        "### 손으로 쓴 숫자 인식하기\n",
        "* 온라인 그림판 : https://sketch.io/sketchpad/\n",
        "* 샘플 숫자 이미지 다운로드 :  0458.png"
      ]
    },
    {
      "cell_type": "code",
      "source": [
        "!wget -O 0123.png https://share.sketchpad.app/22/119-2adf-18be3b.png"
      ],
      "metadata": {
        "id": "F3zXcDyNhbc7"
      },
      "execution_count": null,
      "outputs": []
    },
    {
      "cell_type": "code",
      "metadata": {
        "colab": {
          "base_uri": "https://localhost:8080/"
        },
        "id": "IYEXoDZw95Hc",
        "outputId": "642db0fb-8298-413b-cfc8-56492730671a"
      },
      "source": [
        "!wget -O 0123.png https://share.sketchpad.app/21/80b-475f-0c6d78.png"
      ],
      "execution_count": null,
      "outputs": [
        {
          "output_type": "stream",
          "name": "stdout",
          "text": [
            "--2022-04-20 00:47:16--  https://share.sketchpad.app/21/80b-475f-0c6d78.png\n",
            "Resolving share.sketchpad.app (share.sketchpad.app)... 157.245.166.183, 2604:a880:2:d1::c7:1001\n",
            "Connecting to share.sketchpad.app (share.sketchpad.app)|157.245.166.183|:443... connected.\n",
            "HTTP request sent, awaiting response... 200 OK\n",
            "Length: 84105 (82K) [image/png]\n",
            "Saving to: ‘0123.png’\n",
            "\n",
            "0123.png            100%[===================>]  82.13K   518KB/s    in 0.2s    \n",
            "\n",
            "2022-04-20 00:47:16 (518 KB/s) - ‘0123.png’ saved [84105/84105]\n",
            "\n"
          ]
        }
      ]
    },
    {
      "cell_type": "code",
      "source": [
        "!wget -O number.png https://share.sketchpad.app/22/879-de70-2a69a7.png"
      ],
      "metadata": {
        "colab": {
          "base_uri": "https://localhost:8080/"
        },
        "id": "qLH1ApAVc97k",
        "outputId": "7718554c-aa66-4292-b81f-1e48b2c94420"
      },
      "execution_count": null,
      "outputs": [
        {
          "output_type": "stream",
          "name": "stdout",
          "text": [
            "--2022-04-20 00:51:57--  https://share.sketchpad.app/22/879-de70-2a69a7.png\n",
            "Resolving share.sketchpad.app (share.sketchpad.app)... 157.245.166.183, 2604:a880:2:d1::c7:1001\n",
            "Connecting to share.sketchpad.app (share.sketchpad.app)|157.245.166.183|:443... connected.\n",
            "HTTP request sent, awaiting response... 200 OK\n",
            "Length: 59149 (58K) [image/png]\n",
            "Saving to: ‘number.png’\n",
            "\n",
            "number.png          100%[===================>]  57.76K  --.-KB/s    in 0.1s    \n",
            "\n",
            "2022-04-20 00:51:57 (409 KB/s) - ‘number.png’ saved [59149/59149]\n",
            "\n"
          ]
        }
      ]
    },
    {
      "cell_type": "code",
      "source": [
        "!gdown -O 0458.png https://drive.google.com/uc?id=1ljQqEo8VobCOZapC5AZ8k6Zbi_pEbU_4"
      ],
      "metadata": {
        "colab": {
          "base_uri": "https://localhost:8080/"
        },
        "id": "D57c-p6zJBxx",
        "outputId": "f6ede716-df30-499a-eea0-a50c3197133c"
      },
      "execution_count": null,
      "outputs": [
        {
          "output_type": "stream",
          "name": "stdout",
          "text": [
            "Downloading...\n",
            "From: https://drive.google.com/uc?id=1ljQqEo8VobCOZapC5AZ8k6Zbi_pEbU_4\n",
            "To: /content/0458.png\n",
            "\r  0% 0.00/7.82k [00:00<?, ?B/s]\r100% 7.82k/7.82k [00:00<00:00, 7.80MB/s]\n"
          ]
        }
      ]
    },
    {
      "cell_type": "markdown",
      "metadata": {
        "id": "FtmEUpoturDf"
      },
      "source": [
        "*  img2data 모듈 download"
      ]
    },
    {
      "cell_type": "code",
      "source": [
        "!gdown -O img2data.py https://drive.google.com/uc?id=1f9zt4seoRT3qTDqG-uTAx68j4gvbMN_P"
      ],
      "metadata": {
        "colab": {
          "base_uri": "https://localhost:8080/"
        },
        "id": "GWGnlY4RJNwe",
        "outputId": "71d15c78-eda1-4615-9675-446795d05486"
      },
      "execution_count": null,
      "outputs": [
        {
          "output_type": "stream",
          "name": "stdout",
          "text": [
            "Downloading...\n",
            "From: https://drive.google.com/uc?id=1f9zt4seoRT3qTDqG-uTAx68j4gvbMN_P\n",
            "To: /content/img2data.py\n",
            "\r  0% 0.00/2.22k [00:00<?, ?B/s]\r100% 2.22k/2.22k [00:00<00:00, 2.68MB/s]\n"
          ]
        }
      ]
    },
    {
      "cell_type": "code",
      "metadata": {
        "colab": {
          "base_uri": "https://localhost:8080/",
          "height": 322
        },
        "id": "aaAwkHlNusru",
        "outputId": "a364531c-bcc8-4a7f-98c1-f64775e0c2a4"
      },
      "source": [
        "import img2data\n",
        "\n",
        "img_path = 'number.png'\n",
        "image = cv2.imread(img_path)\n",
        "plt.imshow(image)\n",
        "plt.show()\n",
        "\n",
        "numbers = img2data.img2digits(image, (8,8), reshape=True)\n",
        "for i, n in enumerate(numbers):\n",
        "    n = n/n.max() * 16 # 0~255 구간을 0~16구간으로 변경\n",
        "    pred = model.predict(n)\n",
        "    plt.subplot(1, len(numbers), i+1)\n",
        "    plt.title(str(pred))\n",
        "    plt.imshow(n.reshape(8,8), cmap=\"gray\")\n",
        "    plt.axis(\"off\")"
      ],
      "execution_count": null,
      "outputs": [
        {
          "output_type": "display_data",
          "data": {
            "text/plain": [
              "<Figure size 432x288 with 1 Axes>"
            ],
            "image/png": "[encoded data removed]"
          },
          "metadata": {
            "needs_background": "light"
          }
        },
        {
          "output_type": "display_data",
          "data": {
            "text/plain": [
              "<Figure size 432x288 with 4 Axes>"
            ],
            "image/png": "[encoded data removed]"
          },
          "metadata": {
            "needs_background": "light"
          }
        }
      ]
    }
  ]
}