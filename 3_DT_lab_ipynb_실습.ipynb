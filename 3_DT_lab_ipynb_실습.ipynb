{
  "nbformat": 4,
  "nbformat_minor": 0,
  "metadata": {
    "kernelspec": {
      "display_name": "Python 3",
      "language": "python",
      "name": "python3"
    },
    "language_info": {
      "codemirror_mode": {
        "name": "ipython",
        "version": 3
      },
      "file_extension": ".py",
      "mimetype": "text/x-python",
      "name": "python",
      "nbconvert_exporter": "python",
      "pygments_lexer": "ipython3",
      "version": "3.7.6"
    },
    "colab": {
      "name": "3.DT_lab.ipynb 실습",
      "provenance": [],
      "collapsed_sections": [],
      "include_colab_link": true
    }
  },
  "cells": [
    {
      "cell_type": "markdown",
      "metadata": {
        "id": "view-in-github",
        "colab_type": "text"
      },
      "source": [
        "<a href=\"https://colab.research.google.com/github/rlawogus1115/test/blob/main/3_DT_lab_ipynb_%EC%8B%A4%EC%8A%B5.ipynb\" target=\"_parent\"><img src=\"https://colab.research.google.com/assets/colab-badge.svg\" alt=\"Open In Colab\"/></a>"
      ]
    },
    {
      "cell_type": "markdown",
      "metadata": {
        "id": "e8M348zkXPSs"
      },
      "source": [
        "<h1>Decision Tree & Ensemble</h1>"
      ]
    },
    {
      "cell_type": "markdown",
      "metadata": {
        "id": "TK10EQkCupEo"
      },
      "source": [
        "<h1>Decision Tree</h1>\n"
      ]
    },
    {
      "cell_type": "markdown",
      "source": [
        "# import"
      ],
      "metadata": {
        "id": "uWG4--2XH4b_"
      }
    },
    {
      "cell_type": "code",
      "source": [
        "import numpy as np\n",
        "import matplotlib.pyplot as plt\n",
        "from sklearn.model_selection import train_test_split\n",
        "from sklearn.preprocessing import StandardScaler, MinMaxScaler\n",
        "from sklearn.datasets import load_digits, load_boston, load_breast_cancer"
      ],
      "metadata": {
        "id": "rgu5GLEPH6uv"
      },
      "execution_count": null,
      "outputs": []
    },
    {
      "cell_type": "markdown",
      "metadata": {
        "id": "P2vLfXtBXPSu"
      },
      "source": [
        "# 심장병 분류\n",
        "가슴통증, 혈액순환, 동맥경화를 조건으로 심장병을 분류하는 예제\n",
        "\n",
        "*  dataset\n",
        "\n",
        "가슴통증 | 혈액순환 | 동맥경화| 심장질환\n",
        "---|---|---|---\n",
        "yes | yes | yes| yes\n",
        "yes | yes | no| no\n",
        "no | no | yes | no\n",
        "no| yes|yes | no\n",
        "yes|yes|no|no\n",
        "yes |no|yes| no\n",
        "no|no|yes|no\n",
        "no| yes| no| no"
      ]
    },
    {
      "cell_type": "markdown",
      "metadata": {
        "id": "LbMplhPPXPS2"
      },
      "source": [
        "# Gini"
      ]
    },
    {
      "cell_type": "code",
      "metadata": {
        "id": "Hpoa_51dXPS3",
        "colab": {
          "base_uri": "https://localhost:8080/"
        },
        "outputId": "28f29199-cb56-4597-f73f-b5b0adbc427f"
      },
      "source": [
        "from sklearn.tree import DecisionTreeClassifier\n",
        "\n",
        "data = np.array([[1,1,1,1],\n",
        "                 [1,1,0,0],\n",
        "                 [0,0,1,0],\n",
        "                 [0,1,1,0],\n",
        "                 [1,1,0,0],\n",
        "                 [1,0,1,0],\n",
        "                 [0,0,1,0],\n",
        "                 [0,1,0,0]])\n",
        "X = data[:, :-1]\n",
        "y = data[:, -1]\n",
        "print(X, y)\n",
        "\n",
        "tree_gini = DecisionTreeClassifier(criterion = 'gini')\n",
        "tree_gini.fit(X,y)\n",
        "print('acc',tree_gini.score(X,y))\n",
        "\n"
      ],
      "execution_count": null,
      "outputs": [
        {
          "output_type": "stream",
          "name": "stdout",
          "text": [
            "[[1 1 1]\n",
            " [1 1 0]\n",
            " [0 0 1]\n",
            " [0 1 1]\n",
            " [1 1 0]\n",
            " [1 0 1]\n",
            " [0 0 1]\n",
            " [0 1 0]] [1 0 0 0 0 0 0 0]\n",
            "acc 1.0\n"
          ]
        }
      ]
    },
    {
      "cell_type": "markdown",
      "metadata": {
        "id": "wiQJG-YrXPS_"
      },
      "source": [
        "# 트리 시각화\n",
        "* pydot\n",
        "    * pip install pydot\n",
        "* graphviz\n",
        "    * 실행파일 설치 : https://graphviz.gitlab.io/download/\n",
        "        * windows : https://graphviz.gitlab.io/_pages/Download/Download_windows.html\n",
        "    * `pip install graphviz`"
      ]
    },
    {
      "cell_type": "code",
      "metadata": {
        "id": "SpVBNsToXPTA",
        "colab": {
          "base_uri": "https://localhost:8080/"
        },
        "outputId": "8d210007-9028-4320-f031-ababda0c1bb9"
      },
      "source": [
        "!pip install pydot graphviz"
      ],
      "execution_count": null,
      "outputs": [
        {
          "output_type": "stream",
          "name": "stdout",
          "text": [
            "Requirement already satisfied: pydot in /usr/local/lib/python3.7/dist-packages (1.3.0)\n",
            "Requirement already satisfied: graphviz in /usr/local/lib/python3.7/dist-packages (0.10.1)\n",
            "Requirement already satisfied: pyparsing>=2.1.4 in /usr/local/lib/python3.7/dist-packages (from pydot) (3.0.8)\n"
          ]
        }
      ]
    },
    {
      "cell_type": "code",
      "metadata": {
        "id": "ZCKsMx7hXPTE"
      },
      "source": [
        "import pydot\n",
        "import graphviz\n",
        "#from sklearn.externals.six import StringIO  \n",
        "from six import StringIO\n",
        "from sklearn.tree import export_graphviz\n",
        "import os\n",
        "\n",
        "#os.environ['PATH'] = \"c:/Program Files (x86)/Graphviz2.38/bin\"\n",
        "\n",
        "def showTree(dt, feature_names=None, class_names=None):\n",
        "    dot_data = StringIO()\n",
        "    export_graphviz(dt,\n",
        "                    out_file=dot_data,\n",
        "                    feature_names=feature_names,\n",
        "                    class_names=class_names)\n",
        "    graph = pydot.graph_from_dot_data(dot_data.getvalue())[0]\n",
        "    display(graphviz.Source(graph))"
      ],
      "execution_count": null,
      "outputs": []
    },
    {
      "cell_type": "code",
      "metadata": {
        "id": "ZkMvgMWfXPTV",
        "colab": {
          "base_uri": "https://localhost:8080/",
          "height": 598
        },
        "outputId": "6dc335e6-768d-48d5-e9a7-cf70fa654a8c"
      },
      "source": [
        "showTree(tree_gini,('가슴통증','혈액순환','동맥경화'),('정상','심장질환'))"
      ],
      "execution_count": null,
      "outputs": [
        {
          "output_type": "display_data",
          "data": {
            "text/plain": [
              "<graphviz.files.Source at 0x7f2dcd067ed0>"
            ],
            "image/svg+xml": "<?xml version=\"1.0\" encoding=\"UTF-8\" standalone=\"no\"?>\n<!DOCTYPE svg PUBLIC \"-//W3C//DTD SVG 1.1//EN\"\n \"http://www.w3.org/Graphics/SVG/1.1/DTD/svg11.dtd\">\n<!-- Generated by graphviz version 2.40.1 (20161225.0304)\n -->\n<!-- Title: Tree Pages: 1 -->\n<svg width=\"373pt\" height=\"433pt\"\n viewBox=\"0.00 0.00 373.00 433.00\" xmlns=\"http://www.w3.org/2000/svg\" xmlns:xlink=\"http://www.w3.org/1999/xlink\">\n<g id=\"graph0\" class=\"graph\" transform=\"scale(1 1) rotate(0) translate(4 429)\">\n<title>Tree</title>\n<polygon fill=\"#ffffff\" stroke=\"transparent\" points=\"-4,4 -4,-429 369,-429 369,4 -4,4\"/>\n<!-- 0 -->\n<g id=\"node1\" class=\"node\">\n<title>0</title>\n<polygon fill=\"none\" stroke=\"#000000\" points=\"171.5,-425 53.5,-425 53.5,-342 171.5,-342 171.5,-425\"/>\n<text text-anchor=\"middle\" x=\"112.5\" y=\"-409.8\" font-family=\"Helvetica,sans-Serif\" font-size=\"14.00\" fill=\"#000000\">가슴통증 &lt;= 0.5</text>\n<text text-anchor=\"middle\" x=\"112.5\" y=\"-394.8\" font-family=\"Helvetica,sans-Serif\" font-size=\"14.00\" fill=\"#000000\">gini = 0.219</text>\n<text text-anchor=\"middle\" x=\"112.5\" y=\"-379.8\" font-family=\"Helvetica,sans-Serif\" font-size=\"14.00\" fill=\"#000000\">samples = 8</text>\n<text text-anchor=\"middle\" x=\"112.5\" y=\"-364.8\" font-family=\"Helvetica,sans-Serif\" font-size=\"14.00\" fill=\"#000000\">value = [7, 1]</text>\n<text text-anchor=\"middle\" x=\"112.5\" y=\"-349.8\" font-family=\"Helvetica,sans-Serif\" font-size=\"14.00\" fill=\"#000000\">class = 정상</text>\n</g>\n<!-- 1 -->\n<g id=\"node2\" class=\"node\">\n<title>1</title>\n<polygon fill=\"none\" stroke=\"#000000\" points=\"99,-298.5 0,-298.5 0,-230.5 99,-230.5 99,-298.5\"/>\n<text text-anchor=\"middle\" x=\"49.5\" y=\"-283.3\" font-family=\"Helvetica,sans-Serif\" font-size=\"14.00\" fill=\"#000000\">gini = 0.0</text>\n<text text-anchor=\"middle\" x=\"49.5\" y=\"-268.3\" font-family=\"Helvetica,sans-Serif\" font-size=\"14.00\" fill=\"#000000\">samples = 4</text>\n<text text-anchor=\"middle\" x=\"49.5\" y=\"-253.3\" font-family=\"Helvetica,sans-Serif\" font-size=\"14.00\" fill=\"#000000\">value = [4, 0]</text>\n<text text-anchor=\"middle\" x=\"49.5\" y=\"-238.3\" font-family=\"Helvetica,sans-Serif\" font-size=\"14.00\" fill=\"#000000\">class = 정상</text>\n</g>\n<!-- 0&#45;&gt;1 -->\n<g id=\"edge1\" class=\"edge\">\n<title>0&#45;&gt;1</title>\n<path fill=\"none\" stroke=\"#000000\" d=\"M90.4657,-341.8796C84.6442,-330.8835 78.3473,-318.9893 72.4773,-307.9015\"/>\n<polygon fill=\"#000000\" stroke=\"#000000\" points=\"75.4389,-306.0152 67.6667,-298.8149 69.2524,-309.2905 75.4389,-306.0152\"/>\n<text text-anchor=\"middle\" x=\"60.3146\" y=\"-319.0094\" font-family=\"Helvetica,sans-Serif\" font-size=\"14.00\" fill=\"#000000\">True</text>\n</g>\n<!-- 2 -->\n<g id=\"node3\" class=\"node\">\n<title>2</title>\n<polygon fill=\"none\" stroke=\"#000000\" points=\"235.5,-306 117.5,-306 117.5,-223 235.5,-223 235.5,-306\"/>\n<text text-anchor=\"middle\" x=\"176.5\" y=\"-290.8\" font-family=\"Helvetica,sans-Serif\" font-size=\"14.00\" fill=\"#000000\">동맥경화 &lt;= 0.5</text>\n<text text-anchor=\"middle\" x=\"176.5\" y=\"-275.8\" font-family=\"Helvetica,sans-Serif\" font-size=\"14.00\" fill=\"#000000\">gini = 0.375</text>\n<text text-anchor=\"middle\" x=\"176.5\" y=\"-260.8\" font-family=\"Helvetica,sans-Serif\" font-size=\"14.00\" fill=\"#000000\">samples = 4</text>\n<text text-anchor=\"middle\" x=\"176.5\" y=\"-245.8\" font-family=\"Helvetica,sans-Serif\" font-size=\"14.00\" fill=\"#000000\">value = [3, 1]</text>\n<text text-anchor=\"middle\" x=\"176.5\" y=\"-230.8\" font-family=\"Helvetica,sans-Serif\" font-size=\"14.00\" fill=\"#000000\">class = 정상</text>\n</g>\n<!-- 0&#45;&gt;2 -->\n<g id=\"edge2\" class=\"edge\">\n<title>0&#45;&gt;2</title>\n<path fill=\"none\" stroke=\"#000000\" d=\"M134.8841,-341.8796C139.4856,-333.3236 144.3796,-324.2238 149.1342,-315.3833\"/>\n<polygon fill=\"#000000\" stroke=\"#000000\" points=\"152.3662,-316.763 154.0204,-306.2981 146.2012,-313.4473 152.3662,-316.763\"/>\n<text text-anchor=\"middle\" x=\"161.2161\" y=\"-326.5401\" font-family=\"Helvetica,sans-Serif\" font-size=\"14.00\" fill=\"#000000\">False</text>\n</g>\n<!-- 3 -->\n<g id=\"node4\" class=\"node\">\n<title>3</title>\n<polygon fill=\"none\" stroke=\"#000000\" points=\"162,-179.5 63,-179.5 63,-111.5 162,-111.5 162,-179.5\"/>\n<text text-anchor=\"middle\" x=\"112.5\" y=\"-164.3\" font-family=\"Helvetica,sans-Serif\" font-size=\"14.00\" fill=\"#000000\">gini = 0.0</text>\n<text text-anchor=\"middle\" x=\"112.5\" y=\"-149.3\" font-family=\"Helvetica,sans-Serif\" font-size=\"14.00\" fill=\"#000000\">samples = 2</text>\n<text text-anchor=\"middle\" x=\"112.5\" y=\"-134.3\" font-family=\"Helvetica,sans-Serif\" font-size=\"14.00\" fill=\"#000000\">value = [2, 0]</text>\n<text text-anchor=\"middle\" x=\"112.5\" y=\"-119.3\" font-family=\"Helvetica,sans-Serif\" font-size=\"14.00\" fill=\"#000000\">class = 정상</text>\n</g>\n<!-- 2&#45;&gt;3 -->\n<g id=\"edge3\" class=\"edge\">\n<title>2&#45;&gt;3</title>\n<path fill=\"none\" stroke=\"#000000\" d=\"M154.1159,-222.8796C148.202,-211.8835 141.8051,-199.9893 135.842,-188.9015\"/>\n<polygon fill=\"#000000\" stroke=\"#000000\" points=\"138.7742,-186.9642 130.9551,-179.8149 132.6092,-190.2799 138.7742,-186.9642\"/>\n</g>\n<!-- 4 -->\n<g id=\"node5\" class=\"node\">\n<title>4</title>\n<polygon fill=\"none\" stroke=\"#000000\" points=\"298.5,-187 180.5,-187 180.5,-104 298.5,-104 298.5,-187\"/>\n<text text-anchor=\"middle\" x=\"239.5\" y=\"-171.8\" font-family=\"Helvetica,sans-Serif\" font-size=\"14.00\" fill=\"#000000\">혈액순환 &lt;= 0.5</text>\n<text text-anchor=\"middle\" x=\"239.5\" y=\"-156.8\" font-family=\"Helvetica,sans-Serif\" font-size=\"14.00\" fill=\"#000000\">gini = 0.5</text>\n<text text-anchor=\"middle\" x=\"239.5\" y=\"-141.8\" font-family=\"Helvetica,sans-Serif\" font-size=\"14.00\" fill=\"#000000\">samples = 2</text>\n<text text-anchor=\"middle\" x=\"239.5\" y=\"-126.8\" font-family=\"Helvetica,sans-Serif\" font-size=\"14.00\" fill=\"#000000\">value = [1, 1]</text>\n<text text-anchor=\"middle\" x=\"239.5\" y=\"-111.8\" font-family=\"Helvetica,sans-Serif\" font-size=\"14.00\" fill=\"#000000\">class = 정상</text>\n</g>\n<!-- 2&#45;&gt;4 -->\n<g id=\"edge4\" class=\"edge\">\n<title>2&#45;&gt;4</title>\n<path fill=\"none\" stroke=\"#000000\" d=\"M198.5343,-222.8796C203.064,-214.3236 207.8815,-205.2238 212.5618,-196.3833\"/>\n<polygon fill=\"#000000\" stroke=\"#000000\" points=\"215.7859,-197.7736 217.3716,-187.2981 209.5994,-194.4983 215.7859,-197.7736\"/>\n</g>\n<!-- 5 -->\n<g id=\"node6\" class=\"node\">\n<title>5</title>\n<polygon fill=\"none\" stroke=\"#000000\" points=\"224,-68 125,-68 125,0 224,0 224,-68\"/>\n<text text-anchor=\"middle\" x=\"174.5\" y=\"-52.8\" font-family=\"Helvetica,sans-Serif\" font-size=\"14.00\" fill=\"#000000\">gini = 0.0</text>\n<text text-anchor=\"middle\" x=\"174.5\" y=\"-37.8\" font-family=\"Helvetica,sans-Serif\" font-size=\"14.00\" fill=\"#000000\">samples = 1</text>\n<text text-anchor=\"middle\" x=\"174.5\" y=\"-22.8\" font-family=\"Helvetica,sans-Serif\" font-size=\"14.00\" fill=\"#000000\">value = [1, 0]</text>\n<text text-anchor=\"middle\" x=\"174.5\" y=\"-7.8\" font-family=\"Helvetica,sans-Serif\" font-size=\"14.00\" fill=\"#000000\">class = 정상</text>\n</g>\n<!-- 4&#45;&gt;5 -->\n<g id=\"edge5\" class=\"edge\">\n<title>4&#45;&gt;5</title>\n<path fill=\"none\" stroke=\"#000000\" d=\"M215.2964,-103.9815C210.1529,-95.1585 204.7123,-85.8258 199.5384,-76.9506\"/>\n<polygon fill=\"#000000\" stroke=\"#000000\" points=\"202.5344,-75.1402 194.4743,-68.2637 196.487,-78.6656 202.5344,-75.1402\"/>\n</g>\n<!-- 6 -->\n<g id=\"node7\" class=\"node\">\n<title>6</title>\n<polygon fill=\"none\" stroke=\"#000000\" points=\"365,-68 242,-68 242,0 365,0 365,-68\"/>\n<text text-anchor=\"middle\" x=\"303.5\" y=\"-52.8\" font-family=\"Helvetica,sans-Serif\" font-size=\"14.00\" fill=\"#000000\">gini = 0.0</text>\n<text text-anchor=\"middle\" x=\"303.5\" y=\"-37.8\" font-family=\"Helvetica,sans-Serif\" font-size=\"14.00\" fill=\"#000000\">samples = 1</text>\n<text text-anchor=\"middle\" x=\"303.5\" y=\"-22.8\" font-family=\"Helvetica,sans-Serif\" font-size=\"14.00\" fill=\"#000000\">value = [0, 1]</text>\n<text text-anchor=\"middle\" x=\"303.5\" y=\"-7.8\" font-family=\"Helvetica,sans-Serif\" font-size=\"14.00\" fill=\"#000000\">class = 심장질환</text>\n</g>\n<!-- 4&#45;&gt;6 -->\n<g id=\"edge6\" class=\"edge\">\n<title>4&#45;&gt;6</title>\n<path fill=\"none\" stroke=\"#000000\" d=\"M263.3312,-103.9815C268.3956,-95.1585 273.7525,-85.8258 278.8468,-76.9506\"/>\n<polygon fill=\"#000000\" stroke=\"#000000\" points=\"281.8903,-78.6789 283.833,-68.2637 275.8193,-75.1942 281.8903,-78.6789\"/>\n</g>\n<!-- \\n -->\n<g id=\"node8\" class=\"node\">\n<title>\\n</title>\n<polygon fill=\"none\" stroke=\"#000000\" points=\"243.5,-401.5 189.5,-401.5 189.5,-365.5 243.5,-365.5 243.5,-401.5\"/>\n</g>\n</g>\n</svg>\n"
          },
          "metadata": {}
        }
      ]
    },
    {
      "cell_type": "markdown",
      "metadata": {
        "id": "m04W0H2G-_41"
      },
      "source": [
        "# Entropy\n",
        "$  \\displaystyle -\\sum_{i=1}^m p_i \\cdot log(p_i) = \\sum_{i=1}^m p_i \\cdot -log(p_i)$ "
      ]
    },
    {
      "cell_type": "code",
      "metadata": {
        "colab": {
          "base_uri": "https://localhost:8080/",
          "height": 279
        },
        "id": "vx889Kz8AG1V",
        "outputId": "27add30d-ad1b-4f68-ee20-1c4eddbecfb4"
      },
      "source": [
        "import numpy as np\n",
        "import matplotlib.pyplot as plt\n",
        "\n",
        "p = np.linspace(0.01, 1, 100)\n",
        "log_p = -np.log2(p)\n",
        "\n",
        "plt.subplot(1,2,1)\n",
        "plt.plot(p, log_p)\n",
        "plt.xlabel('Probability')\n",
        "plt.ylabel('$-log_2(p)$')\n",
        "\n",
        "log_pp = np.log2(p)\n",
        "plt.subplot(1,2,2)\n",
        "plt.plot(p, log_pp)\n",
        "plt.xlabel('Probability')\n",
        "plt.ylabel('$log_2(pp)$')\n",
        "plt.show()"
      ],
      "execution_count": null,
      "outputs": [
        {
          "output_type": "display_data",
          "data": {
            "text/plain": [
              "<Figure size 432x288 with 2 Axes>"
            ],
            "image/png": "[encoded data removed]"
          },
          "metadata": {
            "needs_background": "light"
          }
        }
      ]
    },
    {
      "cell_type": "markdown",
      "metadata": {
        "id": "jzmKtxx5XPSv"
      },
      "source": [
        "## entropy 실습"
      ]
    },
    {
      "cell_type": "code",
      "metadata": {
        "scrolled": true,
        "id": "9w5UWdk0XPSv",
        "colab": {
          "base_uri": "https://localhost:8080/"
        },
        "outputId": "d11e8bdd-4225-46ad-dae4-21f7eb251836"
      },
      "source": [
        "import numpy as np\n",
        "import matplotlib.pylab as plt\n",
        "from sklearn.tree import DecisionTreeClassifier\n",
        "\n",
        "\n",
        "data = np.array([[1,1,1,1],\n",
        "                 [1,1,0,0],\n",
        "                 [0,0,1,0],\n",
        "                 [0,1,1,0],\n",
        "                 [1,1,0,0],\n",
        "                 [1,0,1,0],\n",
        "                 [0,0,1,0],\n",
        "                 [0,1,0,0]])\n",
        "\n",
        "X = data[:, :-1]\n",
        "y = data[:, -1]\n",
        "print(X, y)\n",
        "\n",
        "tree_ent = DecisionTreeClassifier(criterion='entropy')\n",
        "tree_ent.fit(X,y)\n",
        "\n",
        "tree_ent.score(X,y)\n"
      ],
      "execution_count": null,
      "outputs": [
        {
          "output_type": "stream",
          "name": "stdout",
          "text": [
            "[[1 1 1]\n",
            " [1 1 0]\n",
            " [0 0 1]\n",
            " [0 1 1]\n",
            " [1 1 0]\n",
            " [1 0 1]\n",
            " [0 0 1]\n",
            " [0 1 0]] [1 0 0 0 0 0 0 0]\n"
          ]
        },
        {
          "output_type": "execute_result",
          "data": {
            "text/plain": [
              "1.0"
            ]
          },
          "metadata": {},
          "execution_count": 31
        }
      ]
    },
    {
      "cell_type": "code",
      "metadata": {
        "scrolled": true,
        "id": "pJYH6LSDXPTR",
        "colab": {
          "base_uri": "https://localhost:8080/",
          "height": 598
        },
        "outputId": "4e93c537-73be-4abe-b56b-6d1c361af43f"
      },
      "source": [
        "showTree(tree_ent, [\"가슴통증\", \"혈액순환\", \"동맥경화\"], [\"No\", \"Yes\"])"
      ],
      "execution_count": null,
      "outputs": [
        {
          "output_type": "display_data",
          "data": {
            "text/plain": [
              "<graphviz.files.Source at 0x7f2dcc2e3450>"
            ],
            "image/svg+xml": "<?xml version=\"1.0\" encoding=\"UTF-8\" standalone=\"no\"?>\n<!DOCTYPE svg PUBLIC \"-//W3C//DTD SVG 1.1//EN\"\n \"http://www.w3.org/Graphics/SVG/1.1/DTD/svg11.dtd\">\n<!-- Generated by graphviz version 2.40.1 (20161225.0304)\n -->\n<!-- Title: Tree Pages: 1 -->\n<svg width=\"360pt\" height=\"433pt\"\n viewBox=\"0.00 0.00 360.00 433.00\" xmlns=\"http://www.w3.org/2000/svg\" xmlns:xlink=\"http://www.w3.org/1999/xlink\">\n<g id=\"graph0\" class=\"graph\" transform=\"scale(1 1) rotate(0) translate(4 429)\">\n<title>Tree</title>\n<polygon fill=\"#ffffff\" stroke=\"transparent\" points=\"-4,4 -4,-429 356,-429 356,4 -4,4\"/>\n<!-- 0 -->\n<g id=\"node1\" class=\"node\">\n<title>0</title>\n<polygon fill=\"none\" stroke=\"#000000\" points=\"173.5,-425 55.5,-425 55.5,-342 173.5,-342 173.5,-425\"/>\n<text text-anchor=\"middle\" x=\"114.5\" y=\"-409.8\" font-family=\"Helvetica,sans-Serif\" font-size=\"14.00\" fill=\"#000000\">가슴통증 &lt;= 0.5</text>\n<text text-anchor=\"middle\" x=\"114.5\" y=\"-394.8\" font-family=\"Helvetica,sans-Serif\" font-size=\"14.00\" fill=\"#000000\">entropy = 0.544</text>\n<text text-anchor=\"middle\" x=\"114.5\" y=\"-379.8\" font-family=\"Helvetica,sans-Serif\" font-size=\"14.00\" fill=\"#000000\">samples = 8</text>\n<text text-anchor=\"middle\" x=\"114.5\" y=\"-364.8\" font-family=\"Helvetica,sans-Serif\" font-size=\"14.00\" fill=\"#000000\">value = [7, 1]</text>\n<text text-anchor=\"middle\" x=\"114.5\" y=\"-349.8\" font-family=\"Helvetica,sans-Serif\" font-size=\"14.00\" fill=\"#000000\">class = No</text>\n</g>\n<!-- 1 -->\n<g id=\"node2\" class=\"node\">\n<title>1</title>\n<polygon fill=\"none\" stroke=\"#000000\" points=\"101,-298.5 0,-298.5 0,-230.5 101,-230.5 101,-298.5\"/>\n<text text-anchor=\"middle\" x=\"50.5\" y=\"-283.3\" font-family=\"Helvetica,sans-Serif\" font-size=\"14.00\" fill=\"#000000\">entropy = 0.0</text>\n<text text-anchor=\"middle\" x=\"50.5\" y=\"-268.3\" font-family=\"Helvetica,sans-Serif\" font-size=\"14.00\" fill=\"#000000\">samples = 4</text>\n<text text-anchor=\"middle\" x=\"50.5\" y=\"-253.3\" font-family=\"Helvetica,sans-Serif\" font-size=\"14.00\" fill=\"#000000\">value = [4, 0]</text>\n<text text-anchor=\"middle\" x=\"50.5\" y=\"-238.3\" font-family=\"Helvetica,sans-Serif\" font-size=\"14.00\" fill=\"#000000\">class = No</text>\n</g>\n<!-- 0&#45;&gt;1 -->\n<g id=\"edge1\" class=\"edge\">\n<title>0&#45;&gt;1</title>\n<path fill=\"none\" stroke=\"#000000\" d=\"M92.1159,-341.8796C86.202,-330.8835 79.8051,-318.9893 73.842,-307.9015\"/>\n<polygon fill=\"#000000\" stroke=\"#000000\" points=\"76.7742,-305.9642 68.9551,-298.8149 70.6092,-309.2799 76.7742,-305.9642\"/>\n<text text-anchor=\"middle\" x=\"61.7594\" y=\"-319.057\" font-family=\"Helvetica,sans-Serif\" font-size=\"14.00\" fill=\"#000000\">True</text>\n</g>\n<!-- 2 -->\n<g id=\"node3\" class=\"node\">\n<title>2</title>\n<polygon fill=\"none\" stroke=\"#000000\" points=\"237.5,-306 119.5,-306 119.5,-223 237.5,-223 237.5,-306\"/>\n<text text-anchor=\"middle\" x=\"178.5\" y=\"-290.8\" font-family=\"Helvetica,sans-Serif\" font-size=\"14.00\" fill=\"#000000\">동맥경화 &lt;= 0.5</text>\n<text text-anchor=\"middle\" x=\"178.5\" y=\"-275.8\" font-family=\"Helvetica,sans-Serif\" font-size=\"14.00\" fill=\"#000000\">entropy = 0.811</text>\n<text text-anchor=\"middle\" x=\"178.5\" y=\"-260.8\" font-family=\"Helvetica,sans-Serif\" font-size=\"14.00\" fill=\"#000000\">samples = 4</text>\n<text text-anchor=\"middle\" x=\"178.5\" y=\"-245.8\" font-family=\"Helvetica,sans-Serif\" font-size=\"14.00\" fill=\"#000000\">value = [3, 1]</text>\n<text text-anchor=\"middle\" x=\"178.5\" y=\"-230.8\" font-family=\"Helvetica,sans-Serif\" font-size=\"14.00\" fill=\"#000000\">class = No</text>\n</g>\n<!-- 0&#45;&gt;2 -->\n<g id=\"edge2\" class=\"edge\">\n<title>0&#45;&gt;2</title>\n<path fill=\"none\" stroke=\"#000000\" d=\"M136.8841,-341.8796C141.4856,-333.3236 146.3796,-324.2238 151.1342,-315.3833\"/>\n<polygon fill=\"#000000\" stroke=\"#000000\" points=\"154.3662,-316.763 156.0204,-306.2981 148.2012,-313.4473 154.3662,-316.763\"/>\n<text text-anchor=\"middle\" x=\"163.2161\" y=\"-326.5401\" font-family=\"Helvetica,sans-Serif\" font-size=\"14.00\" fill=\"#000000\">False</text>\n</g>\n<!-- 3 -->\n<g id=\"node4\" class=\"node\">\n<title>3</title>\n<polygon fill=\"none\" stroke=\"#000000\" points=\"165,-179.5 64,-179.5 64,-111.5 165,-111.5 165,-179.5\"/>\n<text text-anchor=\"middle\" x=\"114.5\" y=\"-164.3\" font-family=\"Helvetica,sans-Serif\" font-size=\"14.00\" fill=\"#000000\">entropy = 0.0</text>\n<text text-anchor=\"middle\" x=\"114.5\" y=\"-149.3\" font-family=\"Helvetica,sans-Serif\" font-size=\"14.00\" fill=\"#000000\">samples = 2</text>\n<text text-anchor=\"middle\" x=\"114.5\" y=\"-134.3\" font-family=\"Helvetica,sans-Serif\" font-size=\"14.00\" fill=\"#000000\">value = [2, 0]</text>\n<text text-anchor=\"middle\" x=\"114.5\" y=\"-119.3\" font-family=\"Helvetica,sans-Serif\" font-size=\"14.00\" fill=\"#000000\">class = No</text>\n</g>\n<!-- 2&#45;&gt;3 -->\n<g id=\"edge3\" class=\"edge\">\n<title>2&#45;&gt;3</title>\n<path fill=\"none\" stroke=\"#000000\" d=\"M156.1159,-222.8796C150.202,-211.8835 143.8051,-199.9893 137.842,-188.9015\"/>\n<polygon fill=\"#000000\" stroke=\"#000000\" points=\"140.7742,-186.9642 132.9551,-179.8149 134.6092,-190.2799 140.7742,-186.9642\"/>\n</g>\n<!-- 4 -->\n<g id=\"node5\" class=\"node\">\n<title>4</title>\n<polygon fill=\"none\" stroke=\"#000000\" points=\"301.5,-187 183.5,-187 183.5,-104 301.5,-104 301.5,-187\"/>\n<text text-anchor=\"middle\" x=\"242.5\" y=\"-171.8\" font-family=\"Helvetica,sans-Serif\" font-size=\"14.00\" fill=\"#000000\">혈액순환 &lt;= 0.5</text>\n<text text-anchor=\"middle\" x=\"242.5\" y=\"-156.8\" font-family=\"Helvetica,sans-Serif\" font-size=\"14.00\" fill=\"#000000\">entropy = 1.0</text>\n<text text-anchor=\"middle\" x=\"242.5\" y=\"-141.8\" font-family=\"Helvetica,sans-Serif\" font-size=\"14.00\" fill=\"#000000\">samples = 2</text>\n<text text-anchor=\"middle\" x=\"242.5\" y=\"-126.8\" font-family=\"Helvetica,sans-Serif\" font-size=\"14.00\" fill=\"#000000\">value = [1, 1]</text>\n<text text-anchor=\"middle\" x=\"242.5\" y=\"-111.8\" font-family=\"Helvetica,sans-Serif\" font-size=\"14.00\" fill=\"#000000\">class = No</text>\n</g>\n<!-- 2&#45;&gt;4 -->\n<g id=\"edge4\" class=\"edge\">\n<title>2&#45;&gt;4</title>\n<path fill=\"none\" stroke=\"#000000\" d=\"M200.8841,-222.8796C205.4856,-214.3236 210.3796,-205.2238 215.1342,-196.3833\"/>\n<polygon fill=\"#000000\" stroke=\"#000000\" points=\"218.3662,-197.763 220.0204,-187.2981 212.2012,-194.4473 218.3662,-197.763\"/>\n</g>\n<!-- 5 -->\n<g id=\"node6\" class=\"node\">\n<title>5</title>\n<polygon fill=\"none\" stroke=\"#000000\" points=\"233,-68 132,-68 132,0 233,0 233,-68\"/>\n<text text-anchor=\"middle\" x=\"182.5\" y=\"-52.8\" font-family=\"Helvetica,sans-Serif\" font-size=\"14.00\" fill=\"#000000\">entropy = 0.0</text>\n<text text-anchor=\"middle\" x=\"182.5\" y=\"-37.8\" font-family=\"Helvetica,sans-Serif\" font-size=\"14.00\" fill=\"#000000\">samples = 1</text>\n<text text-anchor=\"middle\" x=\"182.5\" y=\"-22.8\" font-family=\"Helvetica,sans-Serif\" font-size=\"14.00\" fill=\"#000000\">value = [1, 0]</text>\n<text text-anchor=\"middle\" x=\"182.5\" y=\"-7.8\" font-family=\"Helvetica,sans-Serif\" font-size=\"14.00\" fill=\"#000000\">class = No</text>\n</g>\n<!-- 4&#45;&gt;5 -->\n<g id=\"edge5\" class=\"edge\">\n<title>4&#45;&gt;5</title>\n<path fill=\"none\" stroke=\"#000000\" d=\"M220.1582,-103.9815C215.4598,-95.2504 210.4929,-86.0202 205.7617,-77.2281\"/>\n<polygon fill=\"#000000\" stroke=\"#000000\" points=\"208.7586,-75.4111 200.9379,-68.2637 202.5944,-78.7282 208.7586,-75.4111\"/>\n</g>\n<!-- 6 -->\n<g id=\"node7\" class=\"node\">\n<title>6</title>\n<polygon fill=\"none\" stroke=\"#000000\" points=\"352,-68 251,-68 251,0 352,0 352,-68\"/>\n<text text-anchor=\"middle\" x=\"301.5\" y=\"-52.8\" font-family=\"Helvetica,sans-Serif\" font-size=\"14.00\" fill=\"#000000\">entropy = 0.0</text>\n<text text-anchor=\"middle\" x=\"301.5\" y=\"-37.8\" font-family=\"Helvetica,sans-Serif\" font-size=\"14.00\" fill=\"#000000\">samples = 1</text>\n<text text-anchor=\"middle\" x=\"301.5\" y=\"-22.8\" font-family=\"Helvetica,sans-Serif\" font-size=\"14.00\" fill=\"#000000\">value = [0, 1]</text>\n<text text-anchor=\"middle\" x=\"301.5\" y=\"-7.8\" font-family=\"Helvetica,sans-Serif\" font-size=\"14.00\" fill=\"#000000\">class = Yes</text>\n</g>\n<!-- 4&#45;&gt;6 -->\n<g id=\"edge6\" class=\"edge\">\n<title>4&#45;&gt;6</title>\n<path fill=\"none\" stroke=\"#000000\" d=\"M264.4694,-103.9815C269.0895,-95.2504 273.9736,-86.0202 278.626,-77.2281\"/>\n<polygon fill=\"#000000\" stroke=\"#000000\" points=\"281.7859,-78.7395 283.3694,-68.2637 275.5987,-75.4655 281.7859,-78.7395\"/>\n</g>\n<!-- \\n -->\n<g id=\"node8\" class=\"node\">\n<title>\\n</title>\n<polygon fill=\"none\" stroke=\"#000000\" points=\"245.5,-401.5 191.5,-401.5 191.5,-365.5 245.5,-365.5 245.5,-401.5\"/>\n</g>\n</g>\n</svg>\n"
          },
          "metadata": {}
        }
      ]
    },
    {
      "cell_type": "markdown",
      "metadata": {
        "id": "d7zkp_xrXPTb"
      },
      "source": [
        "# Max Depth\n",
        "### Breaset Cancer"
      ]
    },
    {
      "cell_type": "code",
      "metadata": {
        "id": "sw8fZeNQXPTf",
        "colab": {
          "base_uri": "https://localhost:8080/"
        },
        "outputId": "e6e0541e-5ab4-4c4f-dfb6-b2285fdd3288"
      },
      "source": [
        "from sklearn import model_selection\n",
        "from sklearn import datasets\n",
        "from sklearn.tree import DecisionTreeClassifier\n",
        "\n",
        "seed = 42\n",
        "cancer = datasets.load_breast_cancer()\n",
        "X_train, X_test, y_train, y_test = model_selection.train_test_split(cancer.data,\n",
        "                                                        cancer.target,\n",
        "                                                        stratify=cancer.target,\n",
        "                                                        random_state=seed\n",
        "                                                        )\n",
        "\n",
        "for depth in [None,1,2,3,4]:\n",
        "  tree = DecisionTreeClassifier(max_depth = depth, random_state=0)\n",
        "  tree.fit(X_train,y_train)\n",
        "  acc_train = tree.score(X_train,y_train)\n",
        "  acc_test = tree.score(X_test,y_test)\n",
        "  print(\"depth:\",depth,'Train acc:',acc_train,'Test acc:',acc_test)\n"
      ],
      "execution_count": null,
      "outputs": [
        {
          "output_type": "stream",
          "name": "stdout",
          "text": [
            "depth: None Train acc: 1.0 Test acc: 0.9370629370629371\n",
            "depth: 1 Train acc: 0.9225352112676056 Test acc: 0.9230769230769231\n",
            "depth: 2 Train acc: 0.9577464788732394 Test acc: 0.9090909090909091\n",
            "depth: 3 Train acc: 0.9765258215962441 Test acc: 0.9440559440559441\n",
            "depth: 4 Train acc: 0.9882629107981221 Test acc: 0.951048951048951\n"
          ]
        }
      ]
    },
    {
      "cell_type": "code",
      "metadata": {
        "colab": {
          "base_uri": "https://localhost:8080/",
          "height": 776
        },
        "id": "MOKKa95Ov7Oz",
        "outputId": "5ab1174b-8779-4484-d8f3-abbb45ecc35c"
      },
      "source": [
        "showTree(tree, cancer.feature_names, ['악성', '양성'])"
      ],
      "execution_count": null,
      "outputs": [
        {
          "output_type": "display_data",
          "data": {
            "text/plain": [
              "<graphviz.files.Source at 0x7f2dcd079090>"
            ],
            "image/svg+xml": "<?xml version=\"1.0\" encoding=\"UTF-8\" standalone=\"no\"?>\n<!DOCTYPE svg PUBLIC \"-//W3C//DTD SVG 1.1//EN\"\n \"http://www.w3.org/Graphics/SVG/1.1/DTD/svg11.dtd\">\n<!-- Generated by graphviz version 2.40.1 (20161225.0304)\n -->\n<!-- Title: Tree Pages: 1 -->\n<svg width=\"1101pt\" height=\"552pt\"\n viewBox=\"0.00 0.00 1100.50 552.00\" xmlns=\"http://www.w3.org/2000/svg\" xmlns:xlink=\"http://www.w3.org/1999/xlink\">\n<g id=\"graph0\" class=\"graph\" transform=\"scale(1 1) rotate(0) translate(4 548)\">\n<title>Tree</title>\n<polygon fill=\"#ffffff\" stroke=\"transparent\" points=\"-4,4 -4,-548 1096.5,-548 1096.5,4 -4,4\"/>\n<!-- 0 -->\n<g id=\"node1\" class=\"node\">\n<title>0</title>\n<polygon fill=\"none\" stroke=\"#000000\" points=\"698.5,-544 534.5,-544 534.5,-461 698.5,-461 698.5,-544\"/>\n<text text-anchor=\"middle\" x=\"616.5\" y=\"-528.8\" font-family=\"Helvetica,sans-Serif\" font-size=\"14.00\" fill=\"#000000\">worst radius &lt;= 16.795</text>\n<text text-anchor=\"middle\" x=\"616.5\" y=\"-513.8\" font-family=\"Helvetica,sans-Serif\" font-size=\"14.00\" fill=\"#000000\">gini = 0.468</text>\n<text text-anchor=\"middle\" x=\"616.5\" y=\"-498.8\" font-family=\"Helvetica,sans-Serif\" font-size=\"14.00\" fill=\"#000000\">samples = 426</text>\n<text text-anchor=\"middle\" x=\"616.5\" y=\"-483.8\" font-family=\"Helvetica,sans-Serif\" font-size=\"14.00\" fill=\"#000000\">value = [159, 267]</text>\n<text text-anchor=\"middle\" x=\"616.5\" y=\"-468.8\" font-family=\"Helvetica,sans-Serif\" font-size=\"14.00\" fill=\"#000000\">class = 양성</text>\n</g>\n<!-- 1 -->\n<g id=\"node2\" class=\"node\">\n<title>1</title>\n<polygon fill=\"none\" stroke=\"#000000\" points=\"607.5,-425 393.5,-425 393.5,-342 607.5,-342 607.5,-425\"/>\n<text text-anchor=\"middle\" x=\"500.5\" y=\"-409.8\" font-family=\"Helvetica,sans-Serif\" font-size=\"14.00\" fill=\"#000000\">worst concave points &lt;= 0.136</text>\n<text text-anchor=\"middle\" x=\"500.5\" y=\"-394.8\" font-family=\"Helvetica,sans-Serif\" font-size=\"14.00\" fill=\"#000000\">gini = 0.161</text>\n<text text-anchor=\"middle\" x=\"500.5\" y=\"-379.8\" font-family=\"Helvetica,sans-Serif\" font-size=\"14.00\" fill=\"#000000\">samples = 284</text>\n<text text-anchor=\"middle\" x=\"500.5\" y=\"-364.8\" font-family=\"Helvetica,sans-Serif\" font-size=\"14.00\" fill=\"#000000\">value = [25, 259]</text>\n<text text-anchor=\"middle\" x=\"500.5\" y=\"-349.8\" font-family=\"Helvetica,sans-Serif\" font-size=\"14.00\" fill=\"#000000\">class = 양성</text>\n</g>\n<!-- 0&#45;&gt;1 -->\n<g id=\"edge1\" class=\"edge\">\n<title>0&#45;&gt;1</title>\n<path fill=\"none\" stroke=\"#000000\" d=\"M575.9288,-460.8796C567.0618,-451.7832 557.5956,-442.0722 548.4709,-432.7116\"/>\n<polygon fill=\"#000000\" stroke=\"#000000\" points=\"550.7309,-430.0158 541.2443,-425.2981 545.7183,-434.9019 550.7309,-430.0158\"/>\n<text text-anchor=\"middle\" x=\"540.9252\" y=\"-446.596\" font-family=\"Helvetica,sans-Serif\" font-size=\"14.00\" fill=\"#000000\">True</text>\n</g>\n<!-- 14 -->\n<g id=\"node15\" class=\"node\">\n<title>14</title>\n<polygon fill=\"none\" stroke=\"#000000\" points=\"789,-425 634,-425 634,-342 789,-342 789,-425\"/>\n<text text-anchor=\"middle\" x=\"711.5\" y=\"-409.8\" font-family=\"Helvetica,sans-Serif\" font-size=\"14.00\" fill=\"#000000\">texture error &lt;= 0.473</text>\n<text text-anchor=\"middle\" x=\"711.5\" y=\"-394.8\" font-family=\"Helvetica,sans-Serif\" font-size=\"14.00\" fill=\"#000000\">gini = 0.106</text>\n<text text-anchor=\"middle\" x=\"711.5\" y=\"-379.8\" font-family=\"Helvetica,sans-Serif\" font-size=\"14.00\" fill=\"#000000\">samples = 142</text>\n<text text-anchor=\"middle\" x=\"711.5\" y=\"-364.8\" font-family=\"Helvetica,sans-Serif\" font-size=\"14.00\" fill=\"#000000\">value = [134, 8]</text>\n<text text-anchor=\"middle\" x=\"711.5\" y=\"-349.8\" font-family=\"Helvetica,sans-Serif\" font-size=\"14.00\" fill=\"#000000\">class = 악성</text>\n</g>\n<!-- 0&#45;&gt;14 -->\n<g id=\"edge14\" class=\"edge\">\n<title>0&#45;&gt;14</title>\n<path fill=\"none\" stroke=\"#000000\" d=\"M649.7264,-460.8796C656.8444,-451.9633 664.4339,-442.4565 671.7692,-433.268\"/>\n<polygon fill=\"#000000\" stroke=\"#000000\" points=\"674.6281,-435.2968 678.1318,-425.2981 669.1575,-430.9295 674.6281,-435.2968\"/>\n<text text-anchor=\"middle\" x=\"680.9181\" y=\"-446.4423\" font-family=\"Helvetica,sans-Serif\" font-size=\"14.00\" fill=\"#000000\">False</text>\n</g>\n<!-- 2 -->\n<g id=\"node3\" class=\"node\">\n<title>2</title>\n<polygon fill=\"none\" stroke=\"#000000\" points=\"388,-306 237,-306 237,-223 388,-223 388,-306\"/>\n<text text-anchor=\"middle\" x=\"312.5\" y=\"-290.8\" font-family=\"Helvetica,sans-Serif\" font-size=\"14.00\" fill=\"#000000\">radius error &lt;= 1.048</text>\n<text text-anchor=\"middle\" x=\"312.5\" y=\"-275.8\" font-family=\"Helvetica,sans-Serif\" font-size=\"14.00\" fill=\"#000000\">gini = 0.031</text>\n<text text-anchor=\"middle\" x=\"312.5\" y=\"-260.8\" font-family=\"Helvetica,sans-Serif\" font-size=\"14.00\" fill=\"#000000\">samples = 252</text>\n<text text-anchor=\"middle\" x=\"312.5\" y=\"-245.8\" font-family=\"Helvetica,sans-Serif\" font-size=\"14.00\" fill=\"#000000\">value = [4, 248]</text>\n<text text-anchor=\"middle\" x=\"312.5\" y=\"-230.8\" font-family=\"Helvetica,sans-Serif\" font-size=\"14.00\" fill=\"#000000\">class = 양성</text>\n</g>\n<!-- 1&#45;&gt;2 -->\n<g id=\"edge2\" class=\"edge\">\n<title>1&#45;&gt;2</title>\n<path fill=\"none\" stroke=\"#000000\" d=\"M434.7467,-341.8796C419.2906,-332.0962 402.7113,-321.6019 386.9055,-311.5971\"/>\n<polygon fill=\"#000000\" stroke=\"#000000\" points=\"388.5377,-308.488 378.2162,-306.0969 384.7938,-314.4027 388.5377,-308.488\"/>\n</g>\n<!-- 7 -->\n<g id=\"node8\" class=\"node\">\n<title>7</title>\n<polygon fill=\"none\" stroke=\"#000000\" points=\"580.5,-306 420.5,-306 420.5,-223 580.5,-223 580.5,-306\"/>\n<text text-anchor=\"middle\" x=\"500.5\" y=\"-290.8\" font-family=\"Helvetica,sans-Serif\" font-size=\"14.00\" fill=\"#000000\">worst texture &lt;= 25.62</text>\n<text text-anchor=\"middle\" x=\"500.5\" y=\"-275.8\" font-family=\"Helvetica,sans-Serif\" font-size=\"14.00\" fill=\"#000000\">gini = 0.451</text>\n<text text-anchor=\"middle\" x=\"500.5\" y=\"-260.8\" font-family=\"Helvetica,sans-Serif\" font-size=\"14.00\" fill=\"#000000\">samples = 32</text>\n<text text-anchor=\"middle\" x=\"500.5\" y=\"-245.8\" font-family=\"Helvetica,sans-Serif\" font-size=\"14.00\" fill=\"#000000\">value = [21, 11]</text>\n<text text-anchor=\"middle\" x=\"500.5\" y=\"-230.8\" font-family=\"Helvetica,sans-Serif\" font-size=\"14.00\" fill=\"#000000\">class = 악성</text>\n</g>\n<!-- 1&#45;&gt;7 -->\n<g id=\"edge7\" class=\"edge\">\n<title>1&#45;&gt;7</title>\n<path fill=\"none\" stroke=\"#000000\" d=\"M500.5,-341.8796C500.5,-333.6838 500.5,-324.9891 500.5,-316.5013\"/>\n<polygon fill=\"#000000\" stroke=\"#000000\" points=\"504.0001,-316.298 500.5,-306.2981 497.0001,-316.2981 504.0001,-316.298\"/>\n</g>\n<!-- 3 -->\n<g id=\"node4\" class=\"node\">\n<title>3</title>\n<polygon fill=\"none\" stroke=\"#000000\" points=\"245,-187 54,-187 54,-104 245,-104 245,-187\"/>\n<text text-anchor=\"middle\" x=\"149.5\" y=\"-171.8\" font-family=\"Helvetica,sans-Serif\" font-size=\"14.00\" fill=\"#000000\">smoothness error &lt;= 0.003</text>\n<text text-anchor=\"middle\" x=\"149.5\" y=\"-156.8\" font-family=\"Helvetica,sans-Serif\" font-size=\"14.00\" fill=\"#000000\">gini = 0.024</text>\n<text text-anchor=\"middle\" x=\"149.5\" y=\"-141.8\" font-family=\"Helvetica,sans-Serif\" font-size=\"14.00\" fill=\"#000000\">samples = 251</text>\n<text text-anchor=\"middle\" x=\"149.5\" y=\"-126.8\" font-family=\"Helvetica,sans-Serif\" font-size=\"14.00\" fill=\"#000000\">value = [3, 248]</text>\n<text text-anchor=\"middle\" x=\"149.5\" y=\"-111.8\" font-family=\"Helvetica,sans-Serif\" font-size=\"14.00\" fill=\"#000000\">class = 양성</text>\n</g>\n<!-- 2&#45;&gt;3 -->\n<g id=\"edge3\" class=\"edge\">\n<title>2&#45;&gt;3</title>\n<path fill=\"none\" stroke=\"#000000\" d=\"M255.4905,-222.8796C242.3379,-213.2774 228.2472,-202.9903 214.7732,-193.1534\"/>\n<polygon fill=\"#000000\" stroke=\"#000000\" points=\"216.6177,-190.1666 206.4773,-187.0969 212.4902,-195.8202 216.6177,-190.1666\"/>\n</g>\n<!-- 6 -->\n<g id=\"node7\" class=\"node\">\n<title>6</title>\n<polygon fill=\"none\" stroke=\"#000000\" points=\"362,-179.5 263,-179.5 263,-111.5 362,-111.5 362,-179.5\"/>\n<text text-anchor=\"middle\" x=\"312.5\" y=\"-164.3\" font-family=\"Helvetica,sans-Serif\" font-size=\"14.00\" fill=\"#000000\">gini = 0.0</text>\n<text text-anchor=\"middle\" x=\"312.5\" y=\"-149.3\" font-family=\"Helvetica,sans-Serif\" font-size=\"14.00\" fill=\"#000000\">samples = 1</text>\n<text text-anchor=\"middle\" x=\"312.5\" y=\"-134.3\" font-family=\"Helvetica,sans-Serif\" font-size=\"14.00\" fill=\"#000000\">value = [1, 0]</text>\n<text text-anchor=\"middle\" x=\"312.5\" y=\"-119.3\" font-family=\"Helvetica,sans-Serif\" font-size=\"14.00\" fill=\"#000000\">class = 악성</text>\n</g>\n<!-- 2&#45;&gt;6 -->\n<g id=\"edge6\" class=\"edge\">\n<title>2&#45;&gt;6</title>\n<path fill=\"none\" stroke=\"#000000\" d=\"M312.5,-222.8796C312.5,-212.2134 312.5,-200.7021 312.5,-189.9015\"/>\n<polygon fill=\"#000000\" stroke=\"#000000\" points=\"316.0001,-189.8149 312.5,-179.8149 309.0001,-189.815 316.0001,-189.8149\"/>\n</g>\n<!-- 4 -->\n<g id=\"node5\" class=\"node\">\n<title>4</title>\n<polygon fill=\"none\" stroke=\"#000000\" points=\"99,-68 0,-68 0,0 99,0 99,-68\"/>\n<text text-anchor=\"middle\" x=\"49.5\" y=\"-52.8\" font-family=\"Helvetica,sans-Serif\" font-size=\"14.00\" fill=\"#000000\">gini = 0.375</text>\n<text text-anchor=\"middle\" x=\"49.5\" y=\"-37.8\" font-family=\"Helvetica,sans-Serif\" font-size=\"14.00\" fill=\"#000000\">samples = 4</text>\n<text text-anchor=\"middle\" x=\"49.5\" y=\"-22.8\" font-family=\"Helvetica,sans-Serif\" font-size=\"14.00\" fill=\"#000000\">value = [1, 3]</text>\n<text text-anchor=\"middle\" x=\"49.5\" y=\"-7.8\" font-family=\"Helvetica,sans-Serif\" font-size=\"14.00\" fill=\"#000000\">class = 양성</text>\n</g>\n<!-- 3&#45;&gt;4 -->\n<g id=\"edge4\" class=\"edge\">\n<title>3&#45;&gt;4</title>\n<path fill=\"none\" stroke=\"#000000\" d=\"M112.2637,-103.9815C104.0209,-94.7908 95.2822,-85.0472 87.0279,-75.8436\"/>\n<polygon fill=\"#000000\" stroke=\"#000000\" points=\"89.5121,-73.3714 80.2298,-68.2637 84.3009,-78.0451 89.5121,-73.3714\"/>\n</g>\n<!-- 5 -->\n<g id=\"node6\" class=\"node\">\n<title>5</title>\n<polygon fill=\"none\" stroke=\"#000000\" points=\"233.5,-68 117.5,-68 117.5,0 233.5,0 233.5,-68\"/>\n<text text-anchor=\"middle\" x=\"175.5\" y=\"-52.8\" font-family=\"Helvetica,sans-Serif\" font-size=\"14.00\" fill=\"#000000\">gini = 0.016</text>\n<text text-anchor=\"middle\" x=\"175.5\" y=\"-37.8\" font-family=\"Helvetica,sans-Serif\" font-size=\"14.00\" fill=\"#000000\">samples = 247</text>\n<text text-anchor=\"middle\" x=\"175.5\" y=\"-22.8\" font-family=\"Helvetica,sans-Serif\" font-size=\"14.00\" fill=\"#000000\">value = [2, 245]</text>\n<text text-anchor=\"middle\" x=\"175.5\" y=\"-7.8\" font-family=\"Helvetica,sans-Serif\" font-size=\"14.00\" fill=\"#000000\">class = 양성</text>\n</g>\n<!-- 3&#45;&gt;5 -->\n<g id=\"edge5\" class=\"edge\">\n<title>3&#45;&gt;5</title>\n<path fill=\"none\" stroke=\"#000000\" d=\"M159.1814,-103.9815C161.1531,-95.5261 163.2339,-86.6026 165.2254,-78.0623\"/>\n<polygon fill=\"#000000\" stroke=\"#000000\" points=\"168.6478,-78.7973 167.5103,-68.2637 161.8307,-77.2076 168.6478,-78.7973\"/>\n</g>\n<!-- 8 -->\n<g id=\"node9\" class=\"node\">\n<title>8</title>\n<polygon fill=\"none\" stroke=\"#000000\" points=\"575,-187 380,-187 380,-104 575,-104 575,-187\"/>\n<text text-anchor=\"middle\" x=\"477.5\" y=\"-171.8\" font-family=\"Helvetica,sans-Serif\" font-size=\"14.00\" fill=\"#000000\">worst smoothness &lt;= 0.179</text>\n<text text-anchor=\"middle\" x=\"477.5\" y=\"-156.8\" font-family=\"Helvetica,sans-Serif\" font-size=\"14.00\" fill=\"#000000\">gini = 0.375</text>\n<text text-anchor=\"middle\" x=\"477.5\" y=\"-141.8\" font-family=\"Helvetica,sans-Serif\" font-size=\"14.00\" fill=\"#000000\">samples = 12</text>\n<text text-anchor=\"middle\" x=\"477.5\" y=\"-126.8\" font-family=\"Helvetica,sans-Serif\" font-size=\"14.00\" fill=\"#000000\">value = [3, 9]</text>\n<text text-anchor=\"middle\" x=\"477.5\" y=\"-111.8\" font-family=\"Helvetica,sans-Serif\" font-size=\"14.00\" fill=\"#000000\">class = 양성</text>\n</g>\n<!-- 7&#45;&gt;8 -->\n<g id=\"edge8\" class=\"edge\">\n<title>7&#45;&gt;8</title>\n<path fill=\"none\" stroke=\"#000000\" d=\"M492.4557,-222.8796C490.8543,-214.5938 489.1542,-205.798 487.4966,-197.2216\"/>\n<polygon fill=\"#000000\" stroke=\"#000000\" points=\"490.9128,-196.4522 485.5786,-187.2981 484.0399,-197.7806 490.9128,-196.4522\"/>\n</g>\n<!-- 11 -->\n<g id=\"node12\" class=\"node\">\n<title>11</title>\n<polygon fill=\"none\" stroke=\"#000000\" points=\"772,-187 593,-187 593,-104 772,-104 772,-187\"/>\n<text text-anchor=\"middle\" x=\"682.5\" y=\"-171.8\" font-family=\"Helvetica,sans-Serif\" font-size=\"14.00\" fill=\"#000000\">worst symmetry &lt;= 0.268</text>\n<text text-anchor=\"middle\" x=\"682.5\" y=\"-156.8\" font-family=\"Helvetica,sans-Serif\" font-size=\"14.00\" fill=\"#000000\">gini = 0.18</text>\n<text text-anchor=\"middle\" x=\"682.5\" y=\"-141.8\" font-family=\"Helvetica,sans-Serif\" font-size=\"14.00\" fill=\"#000000\">samples = 20</text>\n<text text-anchor=\"middle\" x=\"682.5\" y=\"-126.8\" font-family=\"Helvetica,sans-Serif\" font-size=\"14.00\" fill=\"#000000\">value = [18, 2]</text>\n<text text-anchor=\"middle\" x=\"682.5\" y=\"-111.8\" font-family=\"Helvetica,sans-Serif\" font-size=\"14.00\" fill=\"#000000\">class = 악성</text>\n</g>\n<!-- 7&#45;&gt;11 -->\n<g id=\"edge11\" class=\"edge\">\n<title>7&#45;&gt;11</title>\n<path fill=\"none\" stroke=\"#000000\" d=\"M564.1548,-222.8796C579.1176,-213.0962 595.1677,-202.6019 610.4691,-192.5971\"/>\n<polygon fill=\"#000000\" stroke=\"#000000\" points=\"612.4269,-195.4989 618.8812,-187.0969 608.5961,-189.6401 612.4269,-195.4989\"/>\n</g>\n<!-- 9 -->\n<g id=\"node10\" class=\"node\">\n<title>9</title>\n<polygon fill=\"none\" stroke=\"#000000\" points=\"414.5,-68 310.5,-68 310.5,0 414.5,0 414.5,-68\"/>\n<text text-anchor=\"middle\" x=\"362.5\" y=\"-52.8\" font-family=\"Helvetica,sans-Serif\" font-size=\"14.00\" fill=\"#000000\">gini = 0.18</text>\n<text text-anchor=\"middle\" x=\"362.5\" y=\"-37.8\" font-family=\"Helvetica,sans-Serif\" font-size=\"14.00\" fill=\"#000000\">samples = 10</text>\n<text text-anchor=\"middle\" x=\"362.5\" y=\"-22.8\" font-family=\"Helvetica,sans-Serif\" font-size=\"14.00\" fill=\"#000000\">value = [1, 9]</text>\n<text text-anchor=\"middle\" x=\"362.5\" y=\"-7.8\" font-family=\"Helvetica,sans-Serif\" font-size=\"14.00\" fill=\"#000000\">class = 양성</text>\n</g>\n<!-- 8&#45;&gt;9 -->\n<g id=\"edge9\" class=\"edge\">\n<title>8&#45;&gt;9</title>\n<path fill=\"none\" stroke=\"#000000\" d=\"M434.6782,-103.9815C425.0095,-94.607 414.7473,-84.6572 405.0882,-75.2921\"/>\n<polygon fill=\"#000000\" stroke=\"#000000\" points=\"407.4551,-72.7118 397.8392,-68.2637 402.5824,-77.7375 407.4551,-72.7118\"/>\n</g>\n<!-- 10 -->\n<g id=\"node11\" class=\"node\">\n<title>10</title>\n<polygon fill=\"none\" stroke=\"#000000\" points=\"532,-68 433,-68 433,0 532,0 532,-68\"/>\n<text text-anchor=\"middle\" x=\"482.5\" y=\"-52.8\" font-family=\"Helvetica,sans-Serif\" font-size=\"14.00\" fill=\"#000000\">gini = 0.0</text>\n<text text-anchor=\"middle\" x=\"482.5\" y=\"-37.8\" font-family=\"Helvetica,sans-Serif\" font-size=\"14.00\" fill=\"#000000\">samples = 2</text>\n<text text-anchor=\"middle\" x=\"482.5\" y=\"-22.8\" font-family=\"Helvetica,sans-Serif\" font-size=\"14.00\" fill=\"#000000\">value = [2, 0]</text>\n<text text-anchor=\"middle\" x=\"482.5\" y=\"-7.8\" font-family=\"Helvetica,sans-Serif\" font-size=\"14.00\" fill=\"#000000\">class = 악성</text>\n</g>\n<!-- 8&#45;&gt;10 -->\n<g id=\"edge10\" class=\"edge\">\n<title>8&#45;&gt;10</title>\n<path fill=\"none\" stroke=\"#000000\" d=\"M479.3618,-103.9815C479.7369,-95.618 480.1324,-86.7965 480.5116,-78.3409\"/>\n<polygon fill=\"#000000\" stroke=\"#000000\" points=\"484.0119,-78.4105 480.9635,-68.2637 477.019,-78.0968 484.0119,-78.4105\"/>\n</g>\n<!-- 12 -->\n<g id=\"node13\" class=\"node\">\n<title>12</title>\n<polygon fill=\"none\" stroke=\"#000000\" points=\"668,-68 569,-68 569,0 668,0 668,-68\"/>\n<text text-anchor=\"middle\" x=\"618.5\" y=\"-52.8\" font-family=\"Helvetica,sans-Serif\" font-size=\"14.00\" fill=\"#000000\">gini = 0.444</text>\n<text text-anchor=\"middle\" x=\"618.5\" y=\"-37.8\" font-family=\"Helvetica,sans-Serif\" font-size=\"14.00\" fill=\"#000000\">samples = 3</text>\n<text text-anchor=\"middle\" x=\"618.5\" y=\"-22.8\" font-family=\"Helvetica,sans-Serif\" font-size=\"14.00\" fill=\"#000000\">value = [1, 2]</text>\n<text text-anchor=\"middle\" x=\"618.5\" y=\"-7.8\" font-family=\"Helvetica,sans-Serif\" font-size=\"14.00\" fill=\"#000000\">class = 양성</text>\n</g>\n<!-- 11&#45;&gt;12 -->\n<g id=\"edge12\" class=\"edge\">\n<title>11&#45;&gt;12</title>\n<path fill=\"none\" stroke=\"#000000\" d=\"M658.6688,-103.9815C653.6044,-95.1585 648.2475,-85.8258 643.1532,-76.9506\"/>\n<polygon fill=\"#000000\" stroke=\"#000000\" points=\"646.1807,-75.1942 638.167,-68.2637 640.1097,-78.6789 646.1807,-75.1942\"/>\n</g>\n<!-- 13 -->\n<g id=\"node14\" class=\"node\">\n<title>13</title>\n<polygon fill=\"none\" stroke=\"#000000\" points=\"793,-68 686,-68 686,0 793,0 793,-68\"/>\n<text text-anchor=\"middle\" x=\"739.5\" y=\"-52.8\" font-family=\"Helvetica,sans-Serif\" font-size=\"14.00\" fill=\"#000000\">gini = 0.0</text>\n<text text-anchor=\"middle\" x=\"739.5\" y=\"-37.8\" font-family=\"Helvetica,sans-Serif\" font-size=\"14.00\" fill=\"#000000\">samples = 17</text>\n<text text-anchor=\"middle\" x=\"739.5\" y=\"-22.8\" font-family=\"Helvetica,sans-Serif\" font-size=\"14.00\" fill=\"#000000\">value = [17, 0]</text>\n<text text-anchor=\"middle\" x=\"739.5\" y=\"-7.8\" font-family=\"Helvetica,sans-Serif\" font-size=\"14.00\" fill=\"#000000\">class = 악성</text>\n</g>\n<!-- 11&#45;&gt;13 -->\n<g id=\"edge13\" class=\"edge\">\n<title>11&#45;&gt;13</title>\n<path fill=\"none\" stroke=\"#000000\" d=\"M703.7247,-103.9815C708.1881,-95.2504 712.9067,-86.0202 717.4013,-77.2281\"/>\n<polygon fill=\"#000000\" stroke=\"#000000\" points=\"720.5486,-78.7608 721.984,-68.2637 714.3158,-75.5745 720.5486,-78.7608\"/>\n</g>\n<!-- 15 -->\n<g id=\"node16\" class=\"node\">\n<title>15</title>\n<polygon fill=\"none\" stroke=\"#000000\" points=\"761,-298.5 662,-298.5 662,-230.5 761,-230.5 761,-298.5\"/>\n<text text-anchor=\"middle\" x=\"711.5\" y=\"-283.3\" font-family=\"Helvetica,sans-Serif\" font-size=\"14.00\" fill=\"#000000\">gini = 0.0</text>\n<text text-anchor=\"middle\" x=\"711.5\" y=\"-268.3\" font-family=\"Helvetica,sans-Serif\" font-size=\"14.00\" fill=\"#000000\">samples = 5</text>\n<text text-anchor=\"middle\" x=\"711.5\" y=\"-253.3\" font-family=\"Helvetica,sans-Serif\" font-size=\"14.00\" fill=\"#000000\">value = [0, 5]</text>\n<text text-anchor=\"middle\" x=\"711.5\" y=\"-238.3\" font-family=\"Helvetica,sans-Serif\" font-size=\"14.00\" fill=\"#000000\">class = 양성</text>\n</g>\n<!-- 14&#45;&gt;15 -->\n<g id=\"edge15\" class=\"edge\">\n<title>14&#45;&gt;15</title>\n<path fill=\"none\" stroke=\"#000000\" d=\"M711.5,-341.8796C711.5,-331.2134 711.5,-319.7021 711.5,-308.9015\"/>\n<polygon fill=\"#000000\" stroke=\"#000000\" points=\"715.0001,-308.8149 711.5,-298.8149 708.0001,-308.815 715.0001,-308.8149\"/>\n</g>\n<!-- 16 -->\n<g id=\"node17\" class=\"node\">\n<title>16</title>\n<polygon fill=\"none\" stroke=\"#000000\" points=\"963,-306 786,-306 786,-223 963,-223 963,-306\"/>\n<text text-anchor=\"middle\" x=\"874.5\" y=\"-290.8\" font-family=\"Helvetica,sans-Serif\" font-size=\"14.00\" fill=\"#000000\">worst concavity &lt;= 0.191</text>\n<text text-anchor=\"middle\" x=\"874.5\" y=\"-275.8\" font-family=\"Helvetica,sans-Serif\" font-size=\"14.00\" fill=\"#000000\">gini = 0.043</text>\n<text text-anchor=\"middle\" x=\"874.5\" y=\"-260.8\" font-family=\"Helvetica,sans-Serif\" font-size=\"14.00\" fill=\"#000000\">samples = 137</text>\n<text text-anchor=\"middle\" x=\"874.5\" y=\"-245.8\" font-family=\"Helvetica,sans-Serif\" font-size=\"14.00\" fill=\"#000000\">value = [134, 3]</text>\n<text text-anchor=\"middle\" x=\"874.5\" y=\"-230.8\" font-family=\"Helvetica,sans-Serif\" font-size=\"14.00\" fill=\"#000000\">class = 악성</text>\n</g>\n<!-- 14&#45;&gt;16 -->\n<g id=\"edge16\" class=\"edge\">\n<title>14&#45;&gt;16</title>\n<path fill=\"none\" stroke=\"#000000\" d=\"M768.5095,-341.8796C781.6621,-332.2774 795.7528,-321.9903 809.2268,-312.1534\"/>\n<polygon fill=\"#000000\" stroke=\"#000000\" points=\"811.5098,-314.8202 817.5227,-306.0969 807.3823,-309.1666 811.5098,-314.8202\"/>\n</g>\n<!-- 17 -->\n<g id=\"node18\" class=\"node\">\n<title>17</title>\n<polygon fill=\"none\" stroke=\"#000000\" points=\"958.5,-187 790.5,-187 790.5,-104 958.5,-104 958.5,-187\"/>\n<text text-anchor=\"middle\" x=\"874.5\" y=\"-171.8\" font-family=\"Helvetica,sans-Serif\" font-size=\"14.00\" fill=\"#000000\">worst texture &lt;= 30.975</text>\n<text text-anchor=\"middle\" x=\"874.5\" y=\"-156.8\" font-family=\"Helvetica,sans-Serif\" font-size=\"14.00\" fill=\"#000000\">gini = 0.48</text>\n<text text-anchor=\"middle\" x=\"874.5\" y=\"-141.8\" font-family=\"Helvetica,sans-Serif\" font-size=\"14.00\" fill=\"#000000\">samples = 5</text>\n<text text-anchor=\"middle\" x=\"874.5\" y=\"-126.8\" font-family=\"Helvetica,sans-Serif\" font-size=\"14.00\" fill=\"#000000\">value = [2, 3]</text>\n<text text-anchor=\"middle\" x=\"874.5\" y=\"-111.8\" font-family=\"Helvetica,sans-Serif\" font-size=\"14.00\" fill=\"#000000\">class = 양성</text>\n</g>\n<!-- 16&#45;&gt;17 -->\n<g id=\"edge17\" class=\"edge\">\n<title>16&#45;&gt;17</title>\n<path fill=\"none\" stroke=\"#000000\" d=\"M874.5,-222.8796C874.5,-214.6838 874.5,-205.9891 874.5,-197.5013\"/>\n<polygon fill=\"#000000\" stroke=\"#000000\" points=\"878.0001,-197.298 874.5,-187.2981 871.0001,-197.2981 878.0001,-197.298\"/>\n</g>\n<!-- 20 -->\n<g id=\"node21\" class=\"node\">\n<title>20</title>\n<polygon fill=\"none\" stroke=\"#000000\" points=\"1092.5,-179.5 976.5,-179.5 976.5,-111.5 1092.5,-111.5 1092.5,-179.5\"/>\n<text text-anchor=\"middle\" x=\"1034.5\" y=\"-164.3\" font-family=\"Helvetica,sans-Serif\" font-size=\"14.00\" fill=\"#000000\">gini = 0.0</text>\n<text text-anchor=\"middle\" x=\"1034.5\" y=\"-149.3\" font-family=\"Helvetica,sans-Serif\" font-size=\"14.00\" fill=\"#000000\">samples = 132</text>\n<text text-anchor=\"middle\" x=\"1034.5\" y=\"-134.3\" font-family=\"Helvetica,sans-Serif\" font-size=\"14.00\" fill=\"#000000\">value = [132, 0]</text>\n<text text-anchor=\"middle\" x=\"1034.5\" y=\"-119.3\" font-family=\"Helvetica,sans-Serif\" font-size=\"14.00\" fill=\"#000000\">class = 악성</text>\n</g>\n<!-- 16&#45;&gt;20 -->\n<g id=\"edge20\" class=\"edge\">\n<title>16&#45;&gt;20</title>\n<path fill=\"none\" stroke=\"#000000\" d=\"M930.4602,-222.8796C946.6522,-210.8368 964.2927,-197.7167 980.3708,-185.7586\"/>\n<polygon fill=\"#000000\" stroke=\"#000000\" points=\"982.685,-188.3993 988.6203,-179.623 978.5075,-182.7825 982.685,-188.3993\"/>\n</g>\n<!-- 18 -->\n<g id=\"node19\" class=\"node\">\n<title>18</title>\n<polygon fill=\"none\" stroke=\"#000000\" points=\"919,-68 820,-68 820,0 919,0 919,-68\"/>\n<text text-anchor=\"middle\" x=\"869.5\" y=\"-52.8\" font-family=\"Helvetica,sans-Serif\" font-size=\"14.00\" fill=\"#000000\">gini = 0.0</text>\n<text text-anchor=\"middle\" x=\"869.5\" y=\"-37.8\" font-family=\"Helvetica,sans-Serif\" font-size=\"14.00\" fill=\"#000000\">samples = 3</text>\n<text text-anchor=\"middle\" x=\"869.5\" y=\"-22.8\" font-family=\"Helvetica,sans-Serif\" font-size=\"14.00\" fill=\"#000000\">value = [0, 3]</text>\n<text text-anchor=\"middle\" x=\"869.5\" y=\"-7.8\" font-family=\"Helvetica,sans-Serif\" font-size=\"14.00\" fill=\"#000000\">class = 양성</text>\n</g>\n<!-- 17&#45;&gt;18 -->\n<g id=\"edge18\" class=\"edge\">\n<title>17&#45;&gt;18</title>\n<path fill=\"none\" stroke=\"#000000\" d=\"M872.6382,-103.9815C872.2631,-95.618 871.8676,-86.7965 871.4884,-78.3409\"/>\n<polygon fill=\"#000000\" stroke=\"#000000\" points=\"874.981,-78.0968 871.0365,-68.2637 867.9881,-78.4105 874.981,-78.0968\"/>\n</g>\n<!-- 19 -->\n<g id=\"node20\" class=\"node\">\n<title>19</title>\n<polygon fill=\"none\" stroke=\"#000000\" points=\"1036,-68 937,-68 937,0 1036,0 1036,-68\"/>\n<text text-anchor=\"middle\" x=\"986.5\" y=\"-52.8\" font-family=\"Helvetica,sans-Serif\" font-size=\"14.00\" fill=\"#000000\">gini = 0.0</text>\n<text text-anchor=\"middle\" x=\"986.5\" y=\"-37.8\" font-family=\"Helvetica,sans-Serif\" font-size=\"14.00\" fill=\"#000000\">samples = 2</text>\n<text text-anchor=\"middle\" x=\"986.5\" y=\"-22.8\" font-family=\"Helvetica,sans-Serif\" font-size=\"14.00\" fill=\"#000000\">value = [2, 0]</text>\n<text text-anchor=\"middle\" x=\"986.5\" y=\"-7.8\" font-family=\"Helvetica,sans-Serif\" font-size=\"14.00\" fill=\"#000000\">class = 악성</text>\n</g>\n<!-- 17&#45;&gt;19 -->\n<g id=\"edge19\" class=\"edge\">\n<title>17&#45;&gt;19</title>\n<path fill=\"none\" stroke=\"#000000\" d=\"M916.2047,-103.9815C925.5289,-94.6989 935.4197,-84.8522 944.7459,-75.5677\"/>\n<polygon fill=\"#000000\" stroke=\"#000000\" points=\"947.4651,-77.7993 952.0827,-68.2637 942.5264,-72.8385 947.4651,-77.7993\"/>\n</g>\n<!-- \\n -->\n<g id=\"node22\" class=\"node\">\n<title>\\n</title>\n<polygon fill=\"none\" stroke=\"#000000\" points=\"770.5,-520.5 716.5,-520.5 716.5,-484.5 770.5,-484.5 770.5,-520.5\"/>\n</g>\n</g>\n</svg>\n"
          },
          "metadata": {}
        }
      ]
    },
    {
      "cell_type": "markdown",
      "metadata": {
        "id": "Ku0KXKlXwKCT"
      },
      "source": [
        "## Feature importances 시각화"
      ]
    },
    {
      "cell_type": "code",
      "metadata": {
        "id": "dY67xTRRtSzD",
        "colab": {
          "base_uri": "https://localhost:8080/",
          "height": 356
        },
        "outputId": "d194c82d-341f-4dfa-9277-02304a506f4e"
      },
      "source": [
        "import numpy as np\n",
        "import matplotlib.pyplot as plt\n",
        "\n",
        "print(tree.feature_importances_)\n",
        "plt.barh(range(0,len(cancer.feature_names)),tree.feature_importances_, align='center')\n",
        "_ = plt.yticks(np.arange(len(cancer.feature_names)),cancer.feature_names)"
      ],
      "execution_count": null,
      "outputs": [
        {
          "output_type": "stream",
          "name": "stdout",
          "text": [
            "[0.         0.         0.         0.         0.         0.\n",
            " 0.         0.         0.         0.         0.01019737 0.04839825\n",
            " 0.         0.         0.0024156  0.         0.         0.\n",
            " 0.         0.         0.72682851 0.0458159  0.         0.\n",
            " 0.0141577  0.         0.018188   0.1221132  0.01188548 0.        ]\n"
          ]
        },
        {
          "output_type": "display_data",
          "data": {
            "text/plain": [
              "<Figure size 432x288 with 1 Axes>"
            ],
            "image/png": "[encoded data removed]"
          },
          "metadata": {
            "needs_background": "light"
          }
        }
      ]
    },
    {
      "cell_type": "markdown",
      "source": [
        "# Regression Tree(회귀 트리)"
      ],
      "metadata": {
        "id": "R4OPsn6ETIxk"
      }
    },
    {
      "cell_type": "code",
      "source": [
        "import numpy as np\n",
        "import matplotlib.pyplot as plt\n",
        "from sklearn.tree import DecisionTreeRegressor\n",
        "\n",
        "n = 80\n",
        "X = np.sort(5 * np.random.rand(n, 1), axis=0)\n",
        "y = np.sin(X).ravel() + np.random.rand(n)\n",
        "\n",
        "regtree = DecisionTreeRegressor(max_depth=3)\n",
        "regtree.fit(X,y)\n",
        "\n",
        "X_test = np.arange(0,5,0.01).reshape(-1,1)\n",
        "y_pred = regtree.predict(X_test)\n",
        "\n",
        "plt.plot(X,y,'o',label='data')\n",
        "plt.plot(X_test,y_pred,label='redcit')\n",
        "plt.legend()\n",
        "\n",
        "print(\"acc:\",regtree.score(X,y))"
      ],
      "metadata": {
        "colab": {
          "base_uri": "https://localhost:8080/",
          "height": 283
        },
        "id": "uVUykF0rXG4Y",
        "outputId": "daf53ce0-3249-448d-bf4b-8893cf35f85c"
      },
      "execution_count": null,
      "outputs": [
        {
          "output_type": "stream",
          "name": "stdout",
          "text": [
            "acc: 0.8990041625691383\n"
          ]
        },
        {
          "output_type": "display_data",
          "data": {
            "text/plain": [
              "<Figure size 432x288 with 1 Axes>"
            ],
            "image/png": "[encoded data removed]"
          },
          "metadata": {
            "needs_background": "light"
          }
        }
      ]
    },
    {
      "cell_type": "markdown",
      "source": [
        "## Regression Tree 보스턴 주택 가격"
      ],
      "metadata": {
        "id": "z1y-bVVsOOB7"
      }
    },
    {
      "cell_type": "code",
      "source": [
        "boston = load_boston()"
      ],
      "metadata": {
        "id": "HwrgimrgreXX"
      },
      "execution_count": null,
      "outputs": []
    },
    {
      "cell_type": "code",
      "source": [
        "X = StandardScaler().fit_transform(boston.data)\n",
        "\n",
        "#X_train, X_test, y_train, y_test = train_test_split(X, boston.target, random_state=1)\n",
        "X_train, X_test, y_train, y_test = train_test_split(boston.data, boston.target, random_state=1)\n",
        "\n",
        "for i in range(1,10):\n",
        "  regtree = DecisionTreeRegressor(max_depth =5, random_state=i)\n",
        "  regtree.fit(X_train,y_train)\n",
        "  r2_train = regtree.score(X_train,y_train)\n",
        "  r2_test = regtree.score(X_test,y_test)\n",
        "\n",
        "  print(i,\"번째:\",\"train_r2:\",r2_train,\"test_r2:\",r2_test)\n"
      ],
      "metadata": {
        "colab": {
          "base_uri": "https://localhost:8080/"
        },
        "id": "2DRlMZyRY853",
        "outputId": "8a17ceda-3561-4ef9-835f-fbc8ebfed64d"
      },
      "execution_count": null,
      "outputs": [
        {
          "output_type": "stream",
          "name": "stdout",
          "text": [
            "1 번째: train_r2: 0.9204825770764915 test_r2: 0.7579325848629092\n",
            "2 번째: train_r2: 0.9204825770764915 test_r2: 0.8763987309111113\n",
            "3 번째: train_r2: 0.9204825770764915 test_r2: 0.8763987309111113\n",
            "4 번째: train_r2: 0.9204825770764915 test_r2: 0.8763987309111113\n",
            "5 번째: train_r2: 0.9204825770764915 test_r2: 0.8137590737668419\n",
            "6 번째: train_r2: 0.9204825770764915 test_r2: 0.7579325848629092\n",
            "7 번째: train_r2: 0.9204825770764915 test_r2: 0.8763987309111113\n",
            "8 번째: train_r2: 0.9204825770764915 test_r2: 0.8763987309111113\n",
            "9 번째: train_r2: 0.9204825770764915 test_r2: 0.8763987309111114\n"
          ]
        }
      ]
    },
    {
      "cell_type": "markdown",
      "metadata": {
        "id": "4QTyZImFXPTj"
      },
      "source": [
        "# Ensemble(앙상블) 기법\n"
      ]
    },
    {
      "cell_type": "markdown",
      "metadata": {
        "id": "YoVScgVgXPTk"
      },
      "source": [
        "## Voting\n",
        "* 유방암 데이터 실습"
      ]
    },
    {
      "cell_type": "code",
      "metadata": {
        "id": "rcMQsJGtXPTl",
        "colab": {
          "base_uri": "https://localhost:8080/"
        },
        "outputId": "f0b89223-fd82-4911-e186-6186f19e6d67"
      },
      "source": [
        "from sklearn.neighbors import KNeighborsClassifier\n",
        "from sklearn.linear_model import LogisticRegression\n",
        "from sklearn.ensemble import VotingClassifier\n",
        "from sklearn.tree import DecisionTreeClassifier\n",
        "from sklearn.metrics import accuracy_score\n",
        "\n",
        "cancer = datasets.load_breast_cancer()\n",
        "X = StandardScaler().fit_transform(cancer.data)\n",
        "X_train, X_test, y_train, y_test = train_test_split(X, cancer.target, random_state=0)\n",
        "\n",
        "lr_clf = LogisticRegression()\n",
        "knn = KNeighborsClassifier(8)\n",
        "dt = DecisionTreeClassifier(max_depth=5,random_state=0)\n",
        "\n",
        "voting = VotingClassifier([('lr_clf',lr_clf),('knn',knn),('dt',dt)],voting='hard')\n",
        "\n",
        "for clf in [voting,lr_clf,knn,dt]:\n",
        "  clf.fit(X_train,y_train)\n",
        "  acc = clf.score(X_test,y_test)\n",
        "  print(f'{clf.__class__.__name__}:',acc)"
      ],
      "execution_count": null,
      "outputs": [
        {
          "output_type": "stream",
          "name": "stdout",
          "text": [
            "VotingClassifier: 0.958041958041958\n",
            "LogisticRegression: 0.965034965034965\n",
            "KNeighborsClassifier: 0.9440559440559441\n",
            "DecisionTreeClassifier: 0.8951048951048951\n"
          ]
        }
      ]
    },
    {
      "cell_type": "markdown",
      "metadata": {
        "id": "DOkBaebzXPTq"
      },
      "source": [
        "## Bagging, RandomForest\n",
        "* 숫자 손글씨 실습"
      ]
    },
    {
      "cell_type": "code",
      "metadata": {
        "id": "JIqB7z3aXPTu",
        "colab": {
          "base_uri": "https://localhost:8080/"
        },
        "outputId": "cc84c78a-dd13-4921-e28a-646966cde489"
      },
      "source": [
        "from sklearn.ensemble import RandomForestClassifier\n",
        "\n",
        "digits = load_digits()\n",
        "X_train, X_test, y_train, y_test = train_test_split(digits.data, digits.target, random_state=0)\n",
        "\n",
        "forest = RandomForestClassifier(n_estimators=300, random_state=0, max_depth=10)\n",
        "dt = DecisionTreeClassifier(max_depth=10,random_state=0)\n",
        "\n",
        "for clf in [forest, dt]:\n",
        "  clf.fit(X_train,y_train)\n",
        "  acc_train = clf.score(X_train,y_train)\n",
        "  acc_test = clf.score(X_test,y_test)\n",
        "  print(f\"{clf.__class__.__name__}\",'acc_train',acc_train,'acc_test',acc_test)\n"
      ],
      "execution_count": null,
      "outputs": [
        {
          "output_type": "stream",
          "name": "stdout",
          "text": [
            "RandomForestClassifier acc_train 1.0 acc_test 0.9777777777777777\n",
            "DecisionTreeClassifier acc_train 0.9784706755753526 acc_test 0.8222222222222222\n"
          ]
        }
      ]
    },
    {
      "cell_type": "markdown",
      "metadata": {
        "id": "6-RiF6RlXPT1"
      },
      "source": [
        "## Boosting\n"
      ]
    },
    {
      "cell_type": "markdown",
      "source": [
        "### Boosting 숫자 손글씨 실습"
      ],
      "metadata": {
        "id": "42VqFTP6lh0q"
      }
    },
    {
      "cell_type": "code",
      "metadata": {
        "scrolled": true,
        "id": "NLNLkhXGXPT3",
        "colab": {
          "base_uri": "https://localhost:8080/"
        },
        "outputId": "efb592b1-1830-4ca8-f2c6-20fbe404c45c"
      },
      "source": [
        "from sklearn.tree import DecisionTreeClassifier\n",
        "from sklearn.ensemble import AdaBoostClassifier, GradientBoostingClassifier\n",
        "\n",
        "digits = load_digits()\n",
        "X = MinMaxScaler().fit_transform(digits.data)\n",
        "X_train, X_test, y_train, y_test = train_test_split(X, digits.target, random_state=1)\n",
        "\n",
        "ada = AdaBoostClassifier(base_estimator = DecisionTreeClassifier(max_depth=3),n_estimators=100)\n",
        "gbm = GradientBoostingClassifier()\n",
        "\n",
        "for clf in [ada, gbm]:\n",
        "  clf.fit(X_train,y_train)\n",
        "  acc_train = clf.score(X_train,y_train)\n",
        "  acc_test = clf.score(X_test,y_test)\n",
        "\n",
        "  print(f\"{clf.__class__.__name__},'train acc:\",acc_train,'test acc',acc_test)"
      ],
      "execution_count": null,
      "outputs": [
        {
          "output_type": "stream",
          "name": "stdout",
          "text": [
            "AdaBoostClassifier,'train acc: 0.9123979213066072 test acc 0.84\n",
            "GradientBoostingClassifier,'train acc: 1.0 test acc 0.9555555555555556\n"
          ]
        }
      ]
    },
    {
      "cell_type": "markdown",
      "source": [
        "### Boosting 보스턴 주택가격 실습"
      ],
      "metadata": {
        "id": "CJrK02ZrlXUc"
      }
    },
    {
      "cell_type": "code",
      "source": [
        "boston = load_boston()"
      ],
      "metadata": {
        "id": "2vttMvI4A99z"
      },
      "execution_count": null,
      "outputs": []
    },
    {
      "cell_type": "code",
      "source": [
        "from sklearn.ensemble import AdaBoostRegressor, GradientBoostingRegressor\n",
        "\n",
        "X = StandardScaler().fit_transform(boston.data)\n",
        "X_train, X_test, y_train, y_test = train_test_split(X, boston.target, random_state=1)\n",
        "\n",
        "ada = AdaBoostRegressor()\n",
        "gbm = GradientBoostingRegressor()\n",
        "\n",
        "for clf in [ada, gbm]:\n",
        "  clf.fit(X_train,y_train)\n",
        "  acc_train = clf.score(X_train,y_train)\n",
        "  acc_test = clf.score(X_test,y_test)\n",
        "\n",
        "  print(f\"{clf.__class__.__name__},'train acc:\",acc_train,'test acc',acc_test)"
      ],
      "metadata": {
        "colab": {
          "base_uri": "https://localhost:8080/"
        },
        "id": "bmKCGdnMjOK1",
        "outputId": "e45085b0-385b-4b63-fa4a-04b398d7be5a"
      },
      "execution_count": null,
      "outputs": [
        {
          "output_type": "stream",
          "name": "stdout",
          "text": [
            "AdaBoostRegressor,'train acc: 0.9109112472922531 test acc 0.8649189562739847\n",
            "GradientBoostingRegressor,'train acc: 0.9809092711669857 test acc 0.9192664518786886\n"
          ]
        }
      ]
    },
    {
      "cell_type": "markdown",
      "metadata": {
        "id": "aGmOV4iiXPT7"
      },
      "source": [
        "## Stacking\n",
        "### 유방암 데이터 실습"
      ]
    },
    {
      "cell_type": "code",
      "metadata": {
        "colab": {
          "base_uri": "https://localhost:8080/"
        },
        "id": "U-bIqYhW3XQi",
        "outputId": "1f276471-4d2f-4925-bc4a-4fc184c8d7cd"
      },
      "source": [
        "from sklearn.neighbors import KNeighborsClassifier\n",
        "from sklearn.tree import DecisionTreeClassifier\n",
        "from sklearn.linear_model import LogisticRegression\n",
        "from sklearn.ensemble import RandomForestClassifier, AdaBoostClassifier\n",
        "from sklearn.ensemble import StackingClassifier\n",
        "\n",
        "cancer = load_breast_cancer()\n",
        "X_train, X_test, y_train, y_test = train_test_split(cancer.data, cancer.target,\n",
        "                                                    random_state=0)\n",
        "\n",
        "knn = KNeighborsClassifier(4)\n",
        "rf = RandomForestClassifier(random_state=0)\n",
        "dt = DecisionTreeClassifier()\n",
        "ada = AdaBoostClassifier()\n",
        "\n",
        "estimators =[('knn',knn),('rf',rf),('dt',dt),('ada',ada)]\n",
        "lr = LogisticRegression()\n",
        "stacking = StackingClassifier(estimators = estimators, final_estimator=lr)\n",
        "\n",
        "stacking.fit(X_train,y_train)\n",
        "\n",
        "print(\"stacking:\",stacking.score(X_train,y_train),'test:',stacking.score(X_test,y_test))\n",
        "\n",
        "for clf in [knn,rf,dt,ada,lr]:\n",
        "  clf.fit(X_train,y_train)\n",
        "  print(clf.__class__.__name__,clf.score(X_test,y_test))\n"
      ],
      "execution_count": null,
      "outputs": [
        {
          "output_type": "stream",
          "name": "stdout",
          "text": [
            "stacking: 1.0 test: 0.958041958041958\n",
            "KNeighborsClassifier 0.9230769230769231\n",
            "RandomForestClassifier 0.972027972027972\n",
            "DecisionTreeClassifier 0.8811188811188811\n",
            "AdaBoostClassifier 0.9790209790209791\n",
            "LogisticRegression 0.958041958041958\n"
          ]
        },
        {
          "output_type": "stream",
          "name": "stderr",
          "text": [
            "/usr/local/lib/python3.7/dist-packages/sklearn/linear_model/_logistic.py:818: ConvergenceWarning: lbfgs failed to converge (status=1):\n",
            "STOP: TOTAL NO. of ITERATIONS REACHED LIMIT.\n",
            "\n",
            "Increase the number of iterations (max_iter) or scale the data as shown in:\n",
            "    https://scikit-learn.org/stable/modules/preprocessing.html\n",
            "Please also refer to the documentation for alternative solver options:\n",
            "    https://scikit-learn.org/stable/modules/linear_model.html#logistic-regression\n",
            "  extra_warning_msg=_LOGISTIC_SOLVER_CONVERGENCE_MSG,\n"
          ]
        }
      ]
    },
    {
      "cell_type": "code",
      "metadata": {
        "id": "teRzH4uaXPT9",
        "colab": {
          "base_uri": "https://localhost:8080/"
        },
        "outputId": "b8f974dc-826c-4895-ea37-a59127a31de0"
      },
      "source": [
        "from sklearn.neighbors import KNeighborsClassifier\n",
        "from sklearn.ensemble import RandomForestClassifier, AdaBoostClassifier\n",
        "from sklearn.tree import DecisionTreeClassifier\n",
        "from sklearn.linear_model import LogisticRegression\n",
        "from sklearn.metrics import accuracy_score\n",
        "\n",
        "cancer = load_breast_cancer()\n",
        "X_train, X_test, y_train, y_test = train_test_split(cancer.data, cancer.target, random_state=0)\n",
        "knn = KNeighborsClassifier(4)\n",
        "rf = RandomForestClassifier(n_estimators=100, random_state=0)\n",
        "dt = DecisionTreeClassifier()\n",
        "ada = AdaBoostClassifier(n_estimators=100)\n",
        "for m in  [knn, rf, dt, ada]:\n",
        "  m.fit(X_train, y_train)\n",
        "\n",
        "knn_pred = knn.predict(X_test)\n",
        "rf_pred = rf.predict(X_test)\n",
        "dt_pred = dt.predict(X_test)\n",
        "ada_pred = ada.predict(X_test)\n",
        "\n",
        "print(f'KNN Accuracy: {accuracy_score(y_test, knn_pred):.4f}')\n",
        "print(f'RandomForest Accuracy: {accuracy_score(y_test, rf_pred):.4f}')\n",
        "print(f'DTree Accuracy: {accuracy_score(y_test, dt_pred):.4f}')\n",
        "print(f'AdaBoost Accuracy: {accuracy_score(y_test, ada_pred):.4f}')\n",
        "preds = np.array([knn_pred, rf_pred, dt_pred, ada_pred]).T\n",
        "lr = LogisticRegression(C=10)\n",
        "lr.fit(preds, y_test)\n",
        "print(f'Final Accuracy: {lr.score(preds, y_test):.4f}')\n"
      ],
      "execution_count": null,
      "outputs": [
        {
          "output_type": "stream",
          "name": "stdout",
          "text": [
            "KNN Accuracy: 0.9231\n",
            "RandomForest Accuracy: 0.9720\n",
            "DTree Accuracy: 0.8951\n",
            "AdaBoost Accuracy: 0.9860\n",
            "Final Accuracy: 0.9860\n"
          ]
        }
      ]
    },
    {
      "cell_type": "markdown",
      "metadata": {
        "id": "dTDahG1F3dDX"
      },
      "source": [
        "## XGBoost(eXtra Gradient Boost)\n",
        "* GBM의 단점인 느린 수행 시간 해결\n",
        "* 과적합 규제(Regularization) 가능\n",
        "* 자체적인 교차 검증 수행\n",
        "* 설치 : `pip install xgboost`\n",
        "* 별도의 패키지이지만 sklearn용 래퍼(wrapper) 제공\n",
        "  * `XGBClassifier`, `XGBRegressor` \n",
        "* https://xgboost.readthedocs.io/en/latest/index.html\n",
        "* https://github.com/dmlc/xgboost"
      ]
    },
    {
      "cell_type": "markdown",
      "metadata": {
        "id": "Tx3njhp9A6xL"
      },
      "source": [
        "### XGBoost 위스콘신 유방암 분류"
      ]
    },
    {
      "cell_type": "code",
      "metadata": {
        "colab": {
          "base_uri": "https://localhost:8080/"
        },
        "id": "xD5D0fHSBGgK",
        "outputId": "d83d27c0-844f-4e10-c33b-4853b6726877"
      },
      "source": [
        "import xgboost as xgb\n",
        "\n",
        "cancer = load_breast_cancer()\n",
        "X_train, X_test, y_train, y_test = train_test_split(cancer.data, cancer.target, random_state=0)\n",
        "\n",
        "model = xgb.XGBClassifier()\n",
        "model.fit(X_train,y_train)\n",
        "\n",
        "y_pred = model.predict(X_test)\n",
        "acc_train = model.score(X_train,y_train)\n",
        "acc_test = model.score(X_test,y_test)\n",
        "\n",
        "print(acc_train, acc_test)"
      ],
      "execution_count": null,
      "outputs": [
        {
          "output_type": "stream",
          "name": "stdout",
          "text": [
            "1.0 0.9790209790209791\n"
          ]
        }
      ]
    },
    {
      "cell_type": "markdown",
      "metadata": {
        "id": "FpJXYLHTBA0S"
      },
      "source": [
        "### XGBoost boston 주택 가격 회귀"
      ]
    },
    {
      "cell_type": "code",
      "source": [
        "boston = load_boston()"
      ],
      "metadata": {
        "id": "gpdkeB7bGMcb"
      },
      "execution_count": null,
      "outputs": []
    },
    {
      "cell_type": "code",
      "metadata": {
        "id": "MDSfssjz3pk5",
        "colab": {
          "base_uri": "https://localhost:8080/"
        },
        "outputId": "33ff52e3-4d59-4d03-e944-92eb46b5fbaf"
      },
      "source": [
        "import xgboost as xgb\n",
        "\n",
        "X = StandardScaler().fit_transform(boston.data)\n",
        "X_train, X_test, y_train, y_test = train_test_split(X, boston.target, random_state=0)\n",
        "\n",
        "model = xgb.XGBRegressor()\n",
        "model.fit(X_train,y_train)\n",
        "\n",
        "y_pred = model.predict(X_test)\n",
        "acc_train = model.score(X_train,y_train)\n",
        "acc_test = model.score(X_test,y_test)\n",
        "\n",
        "print(acc_train, acc_test)"
      ],
      "execution_count": null,
      "outputs": [
        {
          "output_type": "stream",
          "name": "stdout",
          "text": [
            "[07:49:21] WARNING: /workspace/src/objective/regression_obj.cu:152: reg:linear is now deprecated in favor of reg:squarederror.\n",
            "0.9805003234686828 0.7668533790548064\n"
          ]
        }
      ]
    },
    {
      "cell_type": "markdown",
      "metadata": {
        "id": "QHuIogfJ5vRL"
      },
      "source": [
        "## LightGBM\n",
        "* 여전히 오래 걸리는 XGBoost 개선\n",
        "  * 빠른 학습과 예측\n",
        "  * 적은 메모리 사용\n",
        "* 단점 : 적은 데이터 학습에서 과접한 발생이 쉽다.\n",
        "  * 10,000건 이상의 샘플 권장\n",
        "* 설치 : `pip install lightgbm`\n",
        "* sklearn 래퍼 클래스\n",
        "  * `LGBMClassifier`, `LGBMRegressor`\n",
        "* 참조 : https://lightgbm.readthedocs.io/en/latest/\n"
      ]
    },
    {
      "cell_type": "markdown",
      "metadata": {
        "id": "Fu4ipDdeF4s_"
      },
      "source": [
        "###### LGBM 유방암분류"
      ]
    },
    {
      "cell_type": "code",
      "metadata": {
        "colab": {
          "base_uri": "https://localhost:8080/"
        },
        "id": "uVjoZRBWF9tf",
        "outputId": "45940c41-de17-414b-b631-588006b940f4"
      },
      "source": [
        "from lightgbm import LGBMClassifier\n",
        "\n",
        "cancer = load_breast_cancer()\n",
        "X_train, X_test, y_train, y_test = train_test_split(cancer.data, cancer.target, random_state=0)\n"
      ],
      "execution_count": null,
      "outputs": [
        {
          "output_type": "stream",
          "name": "stdout",
          "text": [
            "train score: 1.0 test score: 0.972027972027972\n"
          ]
        }
      ]
    },
    {
      "cell_type": "markdown",
      "metadata": {
        "id": "oF-I5JJ0HBYP"
      },
      "source": [
        "###### LGBM 보스턴 주택가격 회귀"
      ]
    },
    {
      "cell_type": "code",
      "metadata": {
        "colab": {
          "base_uri": "https://localhost:8080/"
        },
        "id": "-hyxNyCAHA_d",
        "outputId": "10f9f47e-a776-4de4-8ed7-f0f436be7648"
      },
      "source": [
        "from lightgbm import LGBMRegressor\n",
        "\n",
        "boston = load_boston()\n",
        "X = StandardScaler().fit_transform(boston.data)\n",
        "X_train, X_test, y_train, y_test = train_test_split(X, boston.target, random_state=0)\n",
        "\n"
      ],
      "execution_count": null,
      "outputs": [
        {
          "output_type": "stream",
          "name": "stdout",
          "text": [
            "Train R2:0.9757474489930561, Test R2:0.7438280827089574\n"
          ]
        },
        {
          "output_type": "stream",
          "name": "stderr",
          "text": [
            "/usr/local/lib/python3.7/dist-packages/sklearn/utils/deprecation.py:87: FutureWarning: Function load_boston is deprecated; `load_boston` is deprecated in 1.0 and will be removed in 1.2.\n",
            "\n",
            "    The Boston housing prices dataset has an ethical problem. You can refer to\n",
            "    the documentation of this function for further details.\n",
            "\n",
            "    The scikit-learn maintainers therefore strongly discourage the use of this\n",
            "    dataset unless the purpose of the code is to study and educate about\n",
            "    ethical issues in data science and machine learning.\n",
            "\n",
            "    In this special case, you can fetch the dataset from the original\n",
            "    source::\n",
            "\n",
            "        import pandas as pd\n",
            "        import numpy as np\n",
            "\n",
            "\n",
            "        data_url = \"http://lib.stat.cmu.edu/datasets/boston\"\n",
            "        raw_df = pd.read_csv(data_url, sep=\"\\s+\", skiprows=22, header=None)\n",
            "        data = np.hstack([raw_df.values[::2, :], raw_df.values[1::2, :2]])\n",
            "        target = raw_df.values[1::2, 2]\n",
            "\n",
            "    Alternative datasets include the California housing dataset (i.e.\n",
            "    :func:`~sklearn.datasets.fetch_california_housing`) and the Ames housing\n",
            "    dataset. You can load the datasets as follows::\n",
            "\n",
            "        from sklearn.datasets import fetch_california_housing\n",
            "        housing = fetch_california_housing()\n",
            "\n",
            "    for the California housing dataset and::\n",
            "\n",
            "        from sklearn.datasets import fetch_openml\n",
            "        housing = fetch_openml(name=\"house_prices\", as_frame=True)\n",
            "\n",
            "    for the Ames housing dataset.\n",
            "    \n",
            "  warnings.warn(msg, category=FutureWarning)\n"
          ]
        }
      ]
    },
    {
      "cell_type": "code",
      "metadata": {
        "id": "B1wRIKDs6gfP"
      },
      "source": [
        ""
      ],
      "execution_count": null,
      "outputs": []
    }
  ]
}